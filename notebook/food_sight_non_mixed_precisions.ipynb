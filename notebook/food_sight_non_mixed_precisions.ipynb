{
  "cells": [
    {
      "cell_type": "markdown",
      "metadata": {
        "id": "9zvS3a7HX3yz"
      },
      "source": [
        "# Milestone Project 01: Food Sight\n"
      ]
    },
    {
      "cell_type": "markdown",
      "metadata": {
        "id": "XSZJu8KTYY86"
      },
      "source": [
        "# Check GPU\n",
        "\n",
        "* Google colab offers Tesla T4 which supports mixed precision, taht can be used to speed up the model training process"
      ]
    },
    {
      "cell_type": "code",
      "execution_count": null,
      "metadata": {
        "colab": {
          "base_uri": "https://localhost:8080/"
        },
        "id": "lShp5F7bZUqe",
        "outputId": "876791a4-bfe8-4a5d-cfc2-2acedeae5ebe"
      },
      "outputs": [
        {
          "name": "stdout",
          "output_type": "stream",
          "text": [
            "GPU 0: Tesla T4 (UUID: GPU-8543874f-d06b-9103-be9a-bac82b295e85)\n"
          ]
        }
      ],
      "source": [
        "!nvidia-smi -L"
      ]
    },
    {
      "cell_type": "markdown",
      "metadata": {
        "id": "HPz7IsT-ZfTj"
      },
      "source": [
        "#Get Helper Functions\n",
        "* Created a python file with helper functions that will be used recursively in this notebook"
      ]
    },
    {
      "cell_type": "code",
      "execution_count": null,
      "metadata": {
        "colab": {
          "base_uri": "https://localhost:8080/"
        },
        "id": "TO6QXEkTmM7B",
        "outputId": "d1774a55-1d6a-469d-f4b3-1f5345efcf19"
      },
      "outputs": [
        {
          "name": "stdout",
          "output_type": "stream",
          "text": [
            "--2022-07-13 07:11:44--  https://raw.githubusercontent.com/HemachandranD/tensorflow-deep-learning/main/extras/helper_functions.py\n",
            "Resolving raw.githubusercontent.com (raw.githubusercontent.com)... 185.199.108.133, 185.199.109.133, 185.199.110.133, ...\n",
            "Connecting to raw.githubusercontent.com (raw.githubusercontent.com)|185.199.108.133|:443... connected.\n",
            "HTTP request sent, awaiting response... 200 OK\n",
            "Length: 10246 (10K) [text/plain]\n",
            "Saving to: ‘helper_functions.py’\n",
            "\n",
            "helper_functions.py 100%[===================>]  10.01K  --.-KB/s    in 0s      \n",
            "\n",
            "2022-07-13 07:11:45 (83.7 MB/s) - ‘helper_functions.py’ saved [10246/10246]\n",
            "\n"
          ]
        }
      ],
      "source": [
        "!wget \"https://raw.githubusercontent.com/HemachandranD/foodsight/main/notebook/helper_functions.py\""
      ]
    },
    {
      "cell_type": "code",
      "execution_count": null,
      "metadata": {
        "id": "rS02rYhxmU5Z"
      },
      "outputs": [],
      "source": [
        "#Import helper fucntions\n",
        "from helper_functions import unzip_data, \\\n",
        "walk_through_dir, \\\n",
        "create_tensorboard_callback, \\\n",
        "plot_loss_curves, \\\n",
        "compare_historys"
      ]
    },
    {
      "cell_type": "markdown",
      "metadata": {
        "id": "2PBaNQrknWSx"
      },
      "source": [
        "# Using Tensorflow Datasets to get the Food vision Data using TFDS\n",
        "* [Food Vision Data Catalogue](https://www.tensorflow.org/datasets/catalog/food101)\n"
      ]
    },
    {
      "cell_type": "code",
      "execution_count": null,
      "metadata": {
        "id": "-8zEwu6JoKP8"
      },
      "outputs": [],
      "source": [
        "#Import Tensorflow datasets\n",
        "import tensorflow_datasets as tfds"
      ]
    },
    {
      "cell_type": "code",
      "execution_count": null,
      "metadata": {
        "colab": {
          "base_uri": "https://localhost:8080/"
        },
        "id": "QgjzF5RPo_P6",
        "outputId": "ec81dca1-6b03-43c5-9e96-003c802529da"
      },
      "outputs": [
        {
          "name": "stdout",
          "output_type": "stream",
          "text": [
            "True\n"
          ]
        }
      ],
      "source": [
        "#List all the avaialble datasets\n",
        "datasets_lists = tfds.list_builders()\n",
        "print('food101' in datasets_lists)"
      ]
    },
    {
      "cell_type": "code",
      "execution_count": null,
      "metadata": {
        "colab": {
          "base_uri": "https://localhost:8080/",
          "height": 322,
          "referenced_widgets": [
            "ddb6158997c348bdaa9f15a906f2d3ae",
            "6246901e0cbc4c5eb2da7f1afffc7e25",
            "77c30f870a694122bc5d86c779298fe8",
            "440c7d77bfe343bcb7bf517266dfea06",
            "aac5a489f50f4caab5a3e815c0bf8798",
            "5de6a7b20a074c6fbd4b7aa4d58dfc7b",
            "1d9f7c5e6ed643dea3349c4ba7c67bdb",
            "30f9de3101f04b0eac78fed9d4303e26",
            "3256b3a258b246e190a94c76891bae99",
            "f3dd47f799444f5ba5b7df49e9098ccf",
            "9569fd36d9d54ceaa5246b77afff358d",
            "a14d3b92ff374d9190f7625670f8e14d",
            "26cf9423853e4431a4216ca82b00600e",
            "e202edbec7dd46928f7bf820776e0934",
            "2dc9ed4bb97e411d918a5e48265ebc83",
            "bb9b24f456c6405ab2f5fc57c537e257",
            "2d7e6621a59141dfbb67ac5ad5891fe6",
            "e21335fd956d42668d42d060b4b493a2",
            "48fa9011aa72469aaa7793223d194954",
            "bc5824c91a0d4ba0b1aabb2fe95550f1",
            "c033a9d3334c4277a9668c416584528e",
            "4ba446efa4124a8488873c09c952d2ca",
            "cb1724562a3041b2a9d114416bc75c60",
            "45345fe9a6d44d199859ead2052c5410",
            "c00d150fc865411881737414b9115cb0",
            "c62a878e2928465184d5b72fdc444f1c",
            "5c232f5265964d4cb673ac794c9e3588",
            "e3c83100247b43aaa1ef722c6576fd6e",
            "eef6e6658a09484db4fca14522484632",
            "4c60b9c1c2e5416f88d33d9424f7aac9",
            "755ac92faa1e46febd6a38787c2d42fc",
            "9712ee33251f4767ae5665d87f65974b",
            "7527086085154eafbdb4f44b59507042",
            "4c3417303d064b3890f5073b9bc1b62c",
            "55333951f2d04910ad4a4d31f0bb414a",
            "13fea56f2e2b42b09367a07b4b17f090",
            "f2b507fd7afe4af0ba5150745f528ab3",
            "a415e9dc5c3b44219239789295dd05d5",
            "891dbc9eeb23495a9b4867aa099ff8a1",
            "f2e4d6df47404b8991894459c3c57e26",
            "635551bd42db4833984fc804d2591905",
            "de5ad87b97674115a328e58fdbdf5395",
            "1bad93529f6f49f5916f7d1491acf021",
            "d780b645d31a4365a18c30ba3a696d0e",
            "cb5e1107771145c8aa9bb3df6907fc05",
            "f516db31bc4741c499e56e92b10df484",
            "2a616c615cc54172929e5064f0580805",
            "5dd4321ac76f4dde9e19bc7fefddd6d0",
            "cdd3927c46164294a23501109c77e20b",
            "84dda27e6a7e402897fbf51844b3e50f",
            "b18c8da63f554d57b437672c0cfab6e4",
            "8e3c1d4029bc49dc92ec6a719c575e5d",
            "6f3908be64954ce683b9d37bee8cca59",
            "a277bcef17d14a4a9af55d9eae7d082c",
            "474e37d0585b43338c7d4b3d27acc381",
            "61d636709a564b56916a4b52cd8e59b3",
            "d609916740cc42ad8363a19d609a79de",
            "5187d51f1a2f4adf912a388257ff1bcb",
            "77869597260443febaa7f8981cdd2921",
            "fb559ee1022f42de8bf9faa52f384ab8",
            "9b0a4e8bf0c0421088428c397223208b",
            "7e4016e96240429293aa51904b8414f3",
            "a34a7494ffc64c9aba5a96445e2b1366",
            "7ce027d6e6d44101a2c99d04c57befa2",
            "0c97018699264f95bf842337170f42cc",
            "c7aa0ecf0e434906bcb8cfb91c3ccfc3",
            "313a30adaa7949118b5df037d7db8508",
            "ba7aee7b47594e848c7d2d96408643de",
            "ee26b224e5844c7ba053aee027d28d52",
            "79d1454fbe374368a484e62dccbe660e",
            "4267d66cc8044c3f853621370056c68f",
            "9738763736c6469f9cae88feea35b178",
            "fc60e33a4f384e538741152637f78398",
            "3efbe92e541c426e8b6aeb8e7aaaac11",
            "92f39fda3379451fb8e89a6449917aff",
            "f4da258ef65f4abdb1508ea0ebff5f90",
            "21ca9d158f9c4ca7b042b8977110315b"
          ]
        },
        "id": "NBt7X3josa6F",
        "outputId": "eeb41bb6-accf-4b3d-cae4-e32677856aac"
      },
      "outputs": [
        {
          "name": "stdout",
          "output_type": "stream",
          "text": [
            "\u001b[1mDownloading and preparing dataset food101/2.0.0 (download: 4.65 GiB, generated: Unknown size, total: 4.65 GiB) to /root/tensorflow_datasets/food101/2.0.0...\u001b[0m\n"
          ]
        },
        {
          "data": {
            "application/vnd.jupyter.widget-view+json": {
              "model_id": "ddb6158997c348bdaa9f15a906f2d3ae",
              "version_major": 2,
              "version_minor": 0
            },
            "text/plain": [
              "Dl Completed...: 0 url [00:00, ? url/s]"
            ]
          },
          "metadata": {},
          "output_type": "display_data"
        },
        {
          "data": {
            "application/vnd.jupyter.widget-view+json": {
              "model_id": "a14d3b92ff374d9190f7625670f8e14d",
              "version_major": 2,
              "version_minor": 0
            },
            "text/plain": [
              "Dl Size...: 0 MiB [00:00, ? MiB/s]"
            ]
          },
          "metadata": {},
          "output_type": "display_data"
        },
        {
          "data": {
            "application/vnd.jupyter.widget-view+json": {
              "model_id": "cb1724562a3041b2a9d114416bc75c60",
              "version_major": 2,
              "version_minor": 0
            },
            "text/plain": [
              "Extraction completed...: 0 file [00:00, ? file/s]"
            ]
          },
          "metadata": {},
          "output_type": "display_data"
        },
        {
          "name": "stdout",
          "output_type": "stream",
          "text": [
            "\n",
            "\n",
            "\n"
          ]
        },
        {
          "data": {
            "application/vnd.jupyter.widget-view+json": {
              "model_id": "4c3417303d064b3890f5073b9bc1b62c",
              "version_major": 2,
              "version_minor": 0
            },
            "text/plain": [
              "0 examples [00:00, ? examples/s]"
            ]
          },
          "metadata": {},
          "output_type": "display_data"
        },
        {
          "name": "stdout",
          "output_type": "stream",
          "text": [
            "Shuffling and writing examples to /root/tensorflow_datasets/food101/2.0.0.incompleteNS8FY0/food101-train.tfrecord\n"
          ]
        },
        {
          "data": {
            "application/vnd.jupyter.widget-view+json": {
              "model_id": "cb5e1107771145c8aa9bb3df6907fc05",
              "version_major": 2,
              "version_minor": 0
            },
            "text/plain": [
              "  0%|          | 0/75750 [00:00<?, ? examples/s]"
            ]
          },
          "metadata": {},
          "output_type": "display_data"
        },
        {
          "data": {
            "application/vnd.jupyter.widget-view+json": {
              "model_id": "61d636709a564b56916a4b52cd8e59b3",
              "version_major": 2,
              "version_minor": 0
            },
            "text/plain": [
              "0 examples [00:00, ? examples/s]"
            ]
          },
          "metadata": {},
          "output_type": "display_data"
        },
        {
          "name": "stdout",
          "output_type": "stream",
          "text": [
            "Shuffling and writing examples to /root/tensorflow_datasets/food101/2.0.0.incompleteNS8FY0/food101-validation.tfrecord\n"
          ]
        },
        {
          "data": {
            "application/vnd.jupyter.widget-view+json": {
              "model_id": "313a30adaa7949118b5df037d7db8508",
              "version_major": 2,
              "version_minor": 0
            },
            "text/plain": [
              "  0%|          | 0/25250 [00:00<?, ? examples/s]"
            ]
          },
          "metadata": {},
          "output_type": "display_data"
        },
        {
          "name": "stdout",
          "output_type": "stream",
          "text": [
            "\u001b[1mDataset food101 downloaded and prepared to /root/tensorflow_datasets/food101/2.0.0. Subsequent calls will reuse this data.\u001b[0m\n"
          ]
        }
      ],
      "source": [
        "#load in the data \n",
        "(train_data, test_data), ds_info = tfds.load(name='food101',\n",
        "                                             split=[\"train\", \"validation\"],\n",
        "                                             shuffle_files=False,\n",
        "                                             as_supervised=True,#data gets returned in tuple (data, label)\n",
        "                                             with_info=True)"
      ]
    },
    {
      "cell_type": "markdown",
      "metadata": {
        "id": "hiRBr4WR3UcV"
      },
      "source": [
        "# Exploring the Food101 dataset using TFDS\n",
        "* class name\n",
        "* shape of input data\n",
        "* datatype of input data\n",
        "* labels"
      ]
    },
    {
      "cell_type": "code",
      "execution_count": null,
      "metadata": {
        "colab": {
          "base_uri": "https://localhost:8080/"
        },
        "id": "mfXbwl3jtMJg",
        "outputId": "8b08c84a-b7a4-4c8d-cee9-6270db602e15"
      },
      "outputs": [
        {
          "data": {
            "text/plain": [
              "FeaturesDict({\n",
              "    'image': Image(shape=(None, None, 3), dtype=tf.uint8),\n",
              "    'label': ClassLabel(shape=(), dtype=tf.int64, num_classes=101),\n",
              "})"
            ]
          },
          "execution_count": 8,
          "metadata": {},
          "output_type": "execute_result"
        }
      ],
      "source": [
        "#Features of food101 from TFDS\n",
        "ds_info.features"
      ]
    },
    {
      "cell_type": "code",
      "execution_count": null,
      "metadata": {
        "colab": {
          "base_uri": "https://localhost:8080/"
        },
        "id": "Q4tP9zYF20Dz",
        "outputId": "9766f17e-dd6a-4b6b-f314-dfda5c0e5110"
      },
      "outputs": [
        {
          "data": {
            "text/plain": [
              "['apple_pie',\n",
              " 'baby_back_ribs',\n",
              " 'baklava',\n",
              " 'beef_carpaccio',\n",
              " 'beef_tartare',\n",
              " 'beet_salad',\n",
              " 'beignets',\n",
              " 'bibimbap',\n",
              " 'bread_pudding',\n",
              " 'breakfast_burrito',\n",
              " 'bruschetta',\n",
              " 'caesar_salad',\n",
              " 'cannoli',\n",
              " 'caprese_salad',\n",
              " 'carrot_cake',\n",
              " 'ceviche',\n",
              " 'cheesecake',\n",
              " 'cheese_plate',\n",
              " 'chicken_curry',\n",
              " 'chicken_quesadilla',\n",
              " 'chicken_wings',\n",
              " 'chocolate_cake',\n",
              " 'chocolate_mousse',\n",
              " 'churros',\n",
              " 'clam_chowder',\n",
              " 'club_sandwich',\n",
              " 'crab_cakes',\n",
              " 'creme_brulee',\n",
              " 'croque_madame',\n",
              " 'cup_cakes',\n",
              " 'deviled_eggs',\n",
              " 'donuts',\n",
              " 'dumplings',\n",
              " 'edamame',\n",
              " 'eggs_benedict',\n",
              " 'escargots',\n",
              " 'falafel',\n",
              " 'filet_mignon',\n",
              " 'fish_and_chips',\n",
              " 'foie_gras',\n",
              " 'french_fries',\n",
              " 'french_onion_soup',\n",
              " 'french_toast',\n",
              " 'fried_calamari',\n",
              " 'fried_rice',\n",
              " 'frozen_yogurt',\n",
              " 'garlic_bread',\n",
              " 'gnocchi',\n",
              " 'greek_salad',\n",
              " 'grilled_cheese_sandwich',\n",
              " 'grilled_salmon',\n",
              " 'guacamole',\n",
              " 'gyoza',\n",
              " 'hamburger',\n",
              " 'hot_and_sour_soup',\n",
              " 'hot_dog',\n",
              " 'huevos_rancheros',\n",
              " 'hummus',\n",
              " 'ice_cream',\n",
              " 'lasagna',\n",
              " 'lobster_bisque',\n",
              " 'lobster_roll_sandwich',\n",
              " 'macaroni_and_cheese',\n",
              " 'macarons',\n",
              " 'miso_soup',\n",
              " 'mussels',\n",
              " 'nachos',\n",
              " 'omelette',\n",
              " 'onion_rings',\n",
              " 'oysters',\n",
              " 'pad_thai',\n",
              " 'paella',\n",
              " 'pancakes',\n",
              " 'panna_cotta',\n",
              " 'peking_duck',\n",
              " 'pho',\n",
              " 'pizza',\n",
              " 'pork_chop',\n",
              " 'poutine',\n",
              " 'prime_rib',\n",
              " 'pulled_pork_sandwich',\n",
              " 'ramen',\n",
              " 'ravioli',\n",
              " 'red_velvet_cake',\n",
              " 'risotto',\n",
              " 'samosa',\n",
              " 'sashimi',\n",
              " 'scallops',\n",
              " 'seaweed_salad',\n",
              " 'shrimp_and_grits',\n",
              " 'spaghetti_bolognese',\n",
              " 'spaghetti_carbonara',\n",
              " 'spring_rolls',\n",
              " 'steak',\n",
              " 'strawberry_shortcake',\n",
              " 'sushi',\n",
              " 'tacos',\n",
              " 'takoyaki',\n",
              " 'tiramisu',\n",
              " 'tuna_tartare',\n",
              " 'waffles']"
            ]
          },
          "execution_count": 10,
          "metadata": {},
          "output_type": "execute_result"
        }
      ],
      "source": [
        "#get class_names\n",
        "class_names= ds_info.features['label'].names\n",
        "class_names"
      ]
    },
    {
      "cell_type": "code",
      "execution_count": null,
      "metadata": {
        "colab": {
          "base_uri": "https://localhost:8080/"
        },
        "id": "R-tHkavA3MB5",
        "outputId": "ccc18861-196d-4116-9456-6b07c235b859"
      },
      "outputs": [
        {
          "data": {
            "text/plain": [
              "<TakeDataset element_spec=(TensorSpec(shape=(None, None, 3), dtype=tf.uint8, name=None), TensorSpec(shape=(), dtype=tf.int64, name=None))>"
            ]
          },
          "execution_count": 11,
          "metadata": {},
          "output_type": "execute_result"
        }
      ],
      "source": [
        "#Take one sample of data\n",
        "sample_one_data= test_data.take(1)\n",
        "sample_one_data"
      ]
    },
    {
      "cell_type": "code",
      "execution_count": null,
      "metadata": {
        "colab": {
          "base_uri": "https://localhost:8080/",
          "height": 355
        },
        "id": "l__X_vAl4koa",
        "outputId": "81160e16-41bd-4283-f25c-e066727288e4"
      },
      "outputs": [
        {
          "name": "stdout",
          "output_type": "stream",
          "text": [
            "\n",
            "  Image Shape: (382, 512, 3)\n",
            "  Image datatype: <dtype: 'uint8'>\n",
            "  Target class: 29\n",
            "  Class Name: cup_cakes\n",
            "  \n"
          ]
        },
        {
          "data": {
            "image/png": "[encoded data removed]",
            "text/plain": [
              "<Figure size 432x288 with 1 Axes>"
            ]
          },
          "metadata": {
            "needs_background": "light"
          },
          "output_type": "display_data"
        }
      ],
      "source": [
        "import matplotlib.pyplot as plt\n",
        "import matplotlib.image as mpimg\n",
        "for image, label in sample_one_data:\n",
        "  print(f\"\"\"\n",
        "  Image Shape: {image.shape}\n",
        "  Image datatype: {image.dtype}\n",
        "  Target class: {label}\n",
        "  Class Name: {class_names[label.numpy()]}\n",
        "  \"\"\")\n",
        "  plt.imshow(image)\n",
        "  plt.axis(False);"
      ]
    },
    {
      "cell_type": "code",
      "execution_count": null,
      "metadata": {
        "colab": {
          "base_uri": "https://localhost:8080/"
        },
        "id": "DBzpfsvq5JNa",
        "outputId": "2b1ed71c-8942-4ce6-e181-89ca259b6b40"
      },
      "outputs": [
        {
          "data": {
            "text/plain": [
              "(0, 255)"
            ]
          },
          "execution_count": 13,
          "metadata": {},
          "output_type": "execute_result"
        }
      ],
      "source": [
        "#Find min and max values\n",
        "import tensorflow as tf\n",
        "tf.reduce_min(image).numpy(), tf.reduce_max(image).numpy()"
      ]
    },
    {
      "cell_type": "markdown",
      "metadata": {
        "id": "VmyNOY716YAk"
      },
      "source": [
        "# Our preprcessing function must perform below actions\n",
        "* Reshape the image\n",
        "* convert the dtypr unit8 to float32"
      ]
    },
    {
      "cell_type": "code",
      "execution_count": null,
      "metadata": {
        "id": "BUal_yVCoeXr"
      },
      "outputs": [],
      "source": [
        "def preprocess_img(image, label, img_shape=224):\n",
        "  \"\"\"\n",
        "  converts the image datatype 'unit8' to 'float32'\n",
        "  image to [imag_shape, img_shape, colour_channels]\n",
        "  \"\"\"\n",
        "  image= tf.image.resize(image, [img_shape, img_shape])\n",
        "  # image= image/255. (not required for efficientnet network)\n",
        "  return tf.cast(image, tf.float32), label"
      ]
    },
    {
      "cell_type": "code",
      "execution_count": null,
      "metadata": {
        "colab": {
          "base_uri": "https://localhost:8080/"
        },
        "id": "3AbXhAm_o_wj",
        "outputId": "814d7ee9-f7da-4119-d570-324097b57520"
      },
      "outputs": [
        {
          "name": "stdout",
          "output_type": "stream",
          "text": [
            "Image before preprocessing:\n",
            " [[[ 34  76 100]\n",
            "  [ 30  72  96]\n",
            "  [ 29  70  92]\n",
            "  ...\n",
            "  [ 81 101 108]\n",
            "  [ 77  97 104]\n",
            "  [ 69  89  96]]\n",
            "\n",
            " [[ 35  77 101]\n",
            "  [ 32  74  98]\n",
            "  [ 32  73  95]\n",
            "  ...\n",
            "  [ 75  95 102]\n",
            "  [ 72  92  99]\n",
            "  [ 68  88  95]]]....,, \n",
            "Shape: (382, 512, 3),\n",
            "DataType: <dtype: 'uint8'>\n",
            " \n",
            "Image after preprocessing:\n",
            " [[[ 32.007973  74.00797   98.00797 ]\n",
            "  [ 32.516262  73.516266  95.516266]\n",
            "  [ 36.433033  72.14317   95.94132 ]\n",
            "  ...\n",
            "  [ 73.05832   93.05832  103.04107 ]\n",
            "  [ 75.82466   95.82466  103.47962 ]\n",
            "  [ 72.883064  92.883064  99.883064]]\n",
            "\n",
            " [[ 34.751595  76.751595 100.77232 ]\n",
            "  [ 36.919323  76.91933  101.91933 ]\n",
            "  [ 34.583862  70.15529   94.48565 ]\n",
            "  ...\n",
            "  [ 74.312454  94.25442  105.42853 ]\n",
            "  [ 67.94196   87.94196   97.04974 ]\n",
            "  [ 67.66355   87.66355   94.73817 ]]]....,, \n",
            "Shape: (224, 224, 3),\n",
            "DataType: <dtype: 'float32'>\n",
            " \n"
          ]
        }
      ],
      "source": [
        "#preprocess a sample image and check teh outputs\n",
        "preprocessed_img = preprocess_img(image, label)[0]\n",
        "preprocessed_img\n",
        "print(f\"Image before preprocessing:\\n {image[:2]}....,, \\nShape: {image.shape},\\nDataType: {image.dtype}\\n \")\n",
        "print(f\"Image after preprocessing:\\n {preprocessed_img[:2]}....,, \\nShape: {preprocessed_img.shape},\\nDataType: {preprocessed_img.dtype}\\n \")"
      ]
    },
    {
      "cell_type": "markdown",
      "metadata": {
        "id": "zg1Rp2gKpbOo"
      },
      "source": [
        "# Batch & Prepare the datasets\n",
        "\n",
        "We're now going to make a data input pipleine which runs really fast\n",
        "\n",
        "For more please visit: Tensorflow data performance documenattion"
      ]
    },
    {
      "cell_type": "code",
      "execution_count": null,
      "metadata": {
        "colab": {
          "base_uri": "https://localhost:8080/"
        },
        "id": "NNTgVWCnuE8o",
        "outputId": "09af9771-3a8e-4587-ca75-9a824f3f32f6"
      },
      "outputs": [
        {
          "data": {
            "text/plain": [
              "<PrefetchDataset element_spec=(TensorSpec(shape=(None, None, 3), dtype=tf.uint8, name=None), TensorSpec(shape=(), dtype=tf.int64, name=None))>"
            ]
          },
          "execution_count": 16,
          "metadata": {},
          "output_type": "execute_result"
        }
      ],
      "source": [
        "train_data"
      ]
    },
    {
      "cell_type": "code",
      "execution_count": null,
      "metadata": {
        "id": "keDbJupWs23L"
      },
      "outputs": [],
      "source": [
        "#Map preprocessing function to training and parallelize\n",
        "train_data= train_data.map(map_func=preprocess_img, num_parallel_calls=tf.data.AUTOTUNE)\n",
        "#shuffle train_data and prefetch\n",
        "train_data= train_data.shuffle(buffer_size=1000).batch(batch_size=32).prefetch(buffer_size=tf.data.AUTOTUNE)\n",
        "\n",
        "#Map testing data\n",
        "test_data= test_data.map(map_func=preprocess_img, num_parallel_calls=tf.data.AUTOTUNE).batch(batch_size=32).prefetch(buffer_size=tf.data.AUTOTUNE)"
      ]
    },
    {
      "cell_type": "code",
      "execution_count": null,
      "metadata": {
        "colab": {
          "base_uri": "https://localhost:8080/"
        },
        "id": "r7IOyvgcuCJi",
        "outputId": "8ef2990a-e552-4308-ccef-d45183cd90a1"
      },
      "outputs": [
        {
          "data": {
            "text/plain": [
              "(<PrefetchDataset element_spec=(TensorSpec(shape=(None, 224, 224, 3), dtype=tf.float32, name=None), TensorSpec(shape=(None,), dtype=tf.int64, name=None))>,\n",
              " <PrefetchDataset element_spec=(TensorSpec(shape=(None, 224, 224, 3), dtype=tf.float32, name=None), TensorSpec(shape=(None,), dtype=tf.int64, name=None))>)"
            ]
          },
          "execution_count": 18,
          "metadata": {},
          "output_type": "execute_result"
        }
      ],
      "source": [
        "train_data, test_data"
      ]
    },
    {
      "cell_type": "code",
      "execution_count": null,
      "metadata": {
        "id": "ck4dcQ4huGPC"
      },
      "outputs": [],
      "source": [
        "#Already import create tensorboard function\n",
        "\n",
        "#create modelcheckpoint path\n",
        "checkpoint_path= 'model_checkpoints/cp.ckpt'\n",
        "model_checkpoint= tf.keras.callbacks.ModelCheckpoint(checkpoint_path, \n",
        "                                                     monitor='val_accuracy',\n",
        "                                                     save_best_only=True,\n",
        "                                                     save_weights_only=True,\n",
        "                                                     verbose=0)"
      ]
    },
    {
      "cell_type": "code",
      "execution_count": null,
      "metadata": {
        "colab": {
          "base_uri": "https://localhost:8080/",
          "height": 35
        },
        "id": "T5Ss1obVz0WO",
        "outputId": "627bda54-971a-46e2-d34a-bfdc117e0a27"
      },
      "outputs": [
        {
          "data": {
            "application/vnd.google.colaboratory.intrinsic+json": {
              "type": "string"
            },
            "text/plain": [
              "'2.8.2'"
            ]
          },
          "execution_count": 19,
          "metadata": {},
          "output_type": "execute_result"
        }
      ],
      "source": [
        "tf.__version__"
      ]
    },
    {
      "cell_type": "markdown",
      "metadata": {
        "id": "0tsgWzVOz1d7"
      },
      "source": [
        "#setup mixed precision training\n",
        "\n",
        "For more, refre the tensorflow guide of mixed precision\n",
        "\n",
        "Mixed precision utilizes the combination of float32 and float16 datatype to speed up performance"
      ]
    },
    {
      "cell_type": "code",
      "execution_count": null,
      "metadata": {
        "id": "Mdh6bhiB0TPI"
      },
      "outputs": [],
      "source": [
        "# #import mixed precision\n",
        "# from tensorflow.keras import mixed_precision\n",
        "# mixed_precision.set_global_policy('mixed_float16')"
      ]
    },
    {
      "cell_type": "markdown",
      "metadata": {
        "id": "Awx8KfOb1CjC"
      },
      "source": [
        "#Build feature extraction model"
      ]
    },
    {
      "cell_type": "code",
      "execution_count": null,
      "metadata": {
        "colab": {
          "base_uri": "https://localhost:8080/"
        },
        "id": "KN3KOLJO2u0y",
        "outputId": "34896721-4861-47a1-e0f8-5c8d3cfde081"
      },
      "outputs": [
        {
          "name": "stdout",
          "output_type": "stream",
          "text": [
            "Downloading data from https://storage.googleapis.com/keras-applications/efficientnetb0_notop.h5\n",
            "16711680/16705208 [==============================] - 0s 0us/step\n",
            "16719872/16705208 [==============================] - 0s 0us/step\n"
          ]
        }
      ],
      "source": [
        "from tensorflow.keras import layers\n",
        "from tensorflow.keras.layers.experimental import preprocessing\n",
        "\n",
        "#Create base model\n",
        "input_shape=(224,224,3)\n",
        "base_model = tf.keras.applications.EfficientNetB0(include_top=False)\n",
        "base_model.trainable=False\n",
        "\n",
        "#Create Functional model\n",
        "inputs = tf.keras.Input(shape=input_shape, name='input_layer')\n",
        "# x=preprocessing.Rescaling(1/255.) not required as we use efficientnet model\n",
        "x=base_model(inputs, training=False)\n",
        "x= tf.keras.layers.GlobalAveragePooling2D()(x)\n",
        "x= layers.Dense(len(class_names))(x)\n",
        "outputs=layers.Activation('softmax', name='softmax')(x)\n",
        "\n",
        "model=tf.keras.Model(inputs, outputs)\n",
        "\n",
        "#Compile the Model\n",
        "model.compile(loss='sparse_categorical_crossentropy',\n",
        "              optimizer=tf.keras.optimizers.Adam(),\n",
        "              metrics=['accuracy'])"
      ]
    },
    {
      "cell_type": "code",
      "execution_count": null,
      "metadata": {
        "colab": {
          "base_uri": "https://localhost:8080/"
        },
        "id": "UVTCXhNx5Hog",
        "outputId": "c67889d7-1ff8-4a14-a978-bf77ec8b2a77"
      },
      "outputs": [
        {
          "name": "stdout",
          "output_type": "stream",
          "text": [
            "Model: \"model\"\n",
            "_________________________________________________________________\n",
            " Layer (type)                Output Shape              Param #   \n",
            "=================================================================\n",
            " input_layer (InputLayer)    [(None, 224, 224, 3)]     0         \n",
            "                                                                 \n",
            " efficientnetb0 (Functional)  (None, None, None, 1280)  4049571  \n",
            "                                                                 \n",
            " global_average_pooling2d (G  (None, 1280)             0         \n",
            " lobalAveragePooling2D)                                          \n",
            "                                                                 \n",
            " dense (Dense)               (None, 101)               129381    \n",
            "                                                                 \n",
            " softmax (Activation)        (None, 101)               0         \n",
            "                                                                 \n",
            "=================================================================\n",
            "Total params: 4,178,952\n",
            "Trainable params: 129,381\n",
            "Non-trainable params: 4,049,571\n",
            "_________________________________________________________________\n"
          ]
        }
      ],
      "source": [
        "model.summary()"
      ]
    },
    {
      "cell_type": "code",
      "execution_count": null,
      "metadata": {
        "colab": {
          "base_uri": "https://localhost:8080/"
        },
        "id": "a6tiljea6kM6",
        "outputId": "833320ff-ce39-4845-e54a-2852d9941239"
      },
      "outputs": [
        {
          "data": {
            "text/plain": [
              "<keras.engine.functional.Functional at 0x7f29536b8250>"
            ]
          },
          "execution_count": 23,
          "metadata": {},
          "output_type": "execute_result"
        }
      ],
      "source": [
        "model.layers[1]"
      ]
    },
    {
      "cell_type": "code",
      "execution_count": null,
      "metadata": {
        "colab": {
          "base_uri": "https://localhost:8080/"
        },
        "id": "LIvvsq-k5Qkj",
        "outputId": "55084d10-1e61-4fb0-9e24-ce5fcf961dd0"
      },
      "outputs": [
        {
          "name": "stdout",
          "output_type": "stream",
          "text": [
            "input_layer True float32 <Policy \"float32\">\n",
            "efficientnetb0 False float32 <Policy \"float32\">\n",
            "global_average_pooling2d True float32 <Policy \"float32\">\n",
            "dense True float32 <Policy \"float32\">\n",
            "softmax True float32 <Policy \"float32\">\n"
          ]
        }
      ],
      "source": [
        "#check dtype policy of layers\n",
        "for layer in model.layers:\n",
        "  print(layer.name, layer.trainable, layer.dtype, layer.dtype_policy)"
      ]
    },
    {
      "cell_type": "code",
      "execution_count": null,
      "metadata": {
        "colab": {
          "base_uri": "https://localhost:8080/"
        },
        "id": "Hw9ioLSL5UPT",
        "outputId": "9cec6888-f72c-415b-b7bd-979ea25a5a2a"
      },
      "outputs": [
        {
          "name": "stdout",
          "output_type": "stream",
          "text": [
            "input_1 False float32 <Policy \"float32\">\n",
            "rescaling False float32 <Policy \"float32\">\n",
            "normalization False float32 <Policy \"float32\">\n",
            "stem_conv_pad False float32 <Policy \"float32\">\n",
            "stem_conv False float32 <Policy \"float32\">\n",
            "stem_bn False float32 <Policy \"float32\">\n",
            "stem_activation False float32 <Policy \"float32\">\n",
            "block1a_dwconv False float32 <Policy \"float32\">\n",
            "block1a_bn False float32 <Policy \"float32\">\n",
            "block1a_activation False float32 <Policy \"float32\">\n",
            "block1a_se_squeeze False float32 <Policy \"float32\">\n",
            "block1a_se_reshape False float32 <Policy \"float32\">\n",
            "block1a_se_reduce False float32 <Policy \"float32\">\n",
            "block1a_se_expand False float32 <Policy \"float32\">\n",
            "block1a_se_excite False float32 <Policy \"float32\">\n",
            "block1a_project_conv False float32 <Policy \"float32\">\n",
            "block1a_project_bn False float32 <Policy \"float32\">\n",
            "block2a_expand_conv False float32 <Policy \"float32\">\n",
            "block2a_expand_bn False float32 <Policy \"float32\">\n",
            "block2a_expand_activation False float32 <Policy \"float32\">\n"
          ]
        }
      ],
      "source": [
        "#check dtype policy of base_model layers\n",
        "for layer in model.layers[1].layers[:20]:\n",
        "  print(layer.name, layer.trainable, layer.dtype, layer.dtype_policy)"
      ]
    },
    {
      "cell_type": "markdown",
      "metadata": {
        "id": "wWNrVb9a6260"
      },
      "source": [
        "#Fit the feature Extraction model\n",
        "1. Build a feature extraction model(train a couple output layers with base layers frozen)\n",
        "2. Fine tune some of the frozen layers"
      ]
    },
    {
      "cell_type": "code",
      "execution_count": null,
      "metadata": {
        "colab": {
          "base_uri": "https://localhost:8080/"
        },
        "id": "OFZ6XJ2B7pfD",
        "outputId": "fdcce449-76b9-4d01-927a-dfef4682b5ae"
      },
      "outputs": [
        {
          "name": "stdout",
          "output_type": "stream",
          "text": [
            "Saving TensorBoard log files to: training_logs/efficientnetb0_101_food_classes_all_data_feature_extract/20220713-040751\n",
            "Epoch 1/3\n",
            "2368/2368 [==============================] - 201s 77ms/step - loss: 1.8250 - accuracy: 0.5568 - val_loss: 1.2320 - val_accuracy: 0.6782\n",
            "Epoch 2/3\n",
            "2368/2368 [==============================] - 181s 75ms/step - loss: 1.2947 - accuracy: 0.6655 - val_loss: 1.1304 - val_accuracy: 0.6984\n",
            "Epoch 3/3\n",
            "2368/2368 [==============================] - 178s 75ms/step - loss: 1.1451 - accuracy: 0.7016 - val_loss: 1.0957 - val_accuracy: 0.7055\n"
          ]
        }
      ],
      "source": [
        "#Fit a feature extraction model with call_backs\n",
        "history_101_food_classes_feature_extract= model.fit(train_data,\n",
        "                                                    epochs=3,\n",
        "                                                    steps_per_epoch=len(train_data),\n",
        "                                                    validation_data=test_data,\n",
        "                                                    validation_steps=int(0.15 * len(test_data)),\n",
        "                                                    callbacks=[create_tensorboard_callback(dir_name='training_logs',\n",
        "                                                                                           experiment_name='efficientnetb0_101_food_classes_all_data_feature_extract'),\n",
        "                                                               model_checkpoint])"
      ]
    },
    {
      "cell_type": "code",
      "execution_count": null,
      "metadata": {
        "colab": {
          "base_uri": "https://localhost:8080/"
        },
        "id": "G5RRGZx58uMW",
        "outputId": "360d8b9c-ad62-4e90-b528-1d5e917055ad"
      },
      "outputs": [
        {
          "name": "stdout",
          "output_type": "stream",
          "text": [
            "790/790 [==============================] - 54s 68ms/step - loss: 1.0956 - accuracy: 0.7039\n"
          ]
        },
        {
          "data": {
            "text/plain": [
              "[1.0956215858459473, 0.7039207816123962]"
            ]
          },
          "execution_count": 27,
          "metadata": {},
          "output_type": "execute_result"
        }
      ],
      "source": [
        "#Evaluate on all test_data\n",
        "results_feature_extract_model=model.evaluate(test_data)\n",
        "results_feature_extract_model"
      ]
    },
    {
      "cell_type": "markdown",
      "metadata": {
        "id": "jA14TJw6-fie"
      },
      "source": [
        "Load and evaluate checkpoint weights"
      ]
    },
    {
      "cell_type": "code",
      "execution_count": null,
      "metadata": {
        "colab": {
          "base_uri": "https://localhost:8080/"
        },
        "id": "ArtQcLYE152i",
        "outputId": "9e645af9-07c8-4b4f-ead8-eefb9cdff7cf"
      },
      "outputs": [
        {
          "name": "stdout",
          "output_type": "stream",
          "text": [
            "Model: \"model\"\n",
            "_________________________________________________________________\n",
            " Layer (type)                Output Shape              Param #   \n",
            "=================================================================\n",
            " input_layer (InputLayer)    [(None, 224, 224, 3)]     0         \n",
            "                                                                 \n",
            " efficientnetb0 (Functional)  (None, None, None, 1280)  4049571  \n",
            "                                                                 \n",
            " global_average_pooling2d (G  (None, 1280)             0         \n",
            " lobalAveragePooling2D)                                          \n",
            "                                                                 \n",
            " dense (Dense)               (None, 101)               129381    \n",
            "                                                                 \n",
            " softmax (Activation)        (None, 101)               0         \n",
            "                                                                 \n",
            "=================================================================\n",
            "Total params: 4,178,952\n",
            "Trainable params: 129,381\n",
            "Non-trainable params: 4,049,571\n",
            "_________________________________________________________________\n"
          ]
        }
      ],
      "source": [
        "#clone the model we created (cloning copies the model with resetted wights)\n",
        "cloned_model = tf.keras.models.clone_model(model)\n",
        "cloned_model.summary()"
      ]
    },
    {
      "cell_type": "code",
      "execution_count": null,
      "metadata": {
        "colab": {
          "base_uri": "https://localhost:8080/"
        },
        "id": "ZqWG3MNI2GiF",
        "outputId": "2e7d6fb5-1946-48a2-bd4e-f9a3d6abd465"
      },
      "outputs": [
        {
          "name": "stdout",
          "output_type": "stream",
          "text": [
            "checkpoint  cp.ckpt.data-00000-of-00001  cp.ckpt.index\n"
          ]
        }
      ],
      "source": [
        "!ls model_checkpoints/"
      ]
    },
    {
      "cell_type": "code",
      "execution_count": null,
      "metadata": {
        "colab": {
          "base_uri": "https://localhost:8080/",
          "height": 35
        },
        "id": "Yn2hvJBM2Jqk",
        "outputId": "56be4080-7c13-4530-f030-dee0e29edfd9"
      },
      "outputs": [
        {
          "data": {
            "application/vnd.google.colaboratory.intrinsic+json": {
              "type": "string"
            },
            "text/plain": [
              "'model_checkpoints/cp.ckpt'"
            ]
          },
          "execution_count": 30,
          "metadata": {},
          "output_type": "execute_result"
        }
      ],
      "source": [
        "checkpoint_path"
      ]
    },
    {
      "cell_type": "code",
      "execution_count": null,
      "metadata": {
        "colab": {
          "base_uri": "https://localhost:8080/"
        },
        "id": "LnicglpW2LDw",
        "outputId": "9d03b015-ef3c-4f44-a513-36271171b79b"
      },
      "outputs": [
        {
          "data": {
            "text/plain": [
              "<tensorflow.python.training.tracking.util.CheckpointLoadStatus at 0x7f2951d28910>"
            ]
          },
          "execution_count": 31,
          "metadata": {},
          "output_type": "execute_result"
        }
      ],
      "source": [
        "cloned_model.load_weights(checkpoint_path)"
      ]
    },
    {
      "cell_type": "code",
      "execution_count": null,
      "metadata": {
        "colab": {
          "base_uri": "https://localhost:8080/"
        },
        "id": "HT6dBljV2U04",
        "outputId": "17a14a24-ec29-4bde-92de-47223137dc15"
      },
      "outputs": [
        {
          "name": "stdout",
          "output_type": "stream",
          "text": [
            "790/790 [==============================] - 54s 64ms/step - loss: 1.7188 - accuracy: 0.5486\n"
          ]
        }
      ],
      "source": [
        "#Compile the m odel as the weights are loaded\n",
        "cloned_model.compile(loss='sparse_categorical_crossentropy',\n",
        "                     optimizer=tf.keras.optimizers.Adam(),\n",
        "                     metrics=['accuracy'])\n",
        "\n",
        "#Evaluate the cloned model with loaded weights\n",
        "results_cloned_model_with_loaded_weights = cloned_model.evaluate(test_data)"
      ]
    },
    {
      "cell_type": "code",
      "execution_count": null,
      "metadata": {
        "colab": {
          "base_uri": "https://localhost:8080/"
        },
        "id": "sVk5ibVX3X5T",
        "outputId": "4c1012be-0afe-4550-a4bd-6132b95f3d28"
      },
      "outputs": [
        {
          "data": {
            "text/plain": [
              "array([False, False])"
            ]
          },
          "execution_count": 33,
          "metadata": {},
          "output_type": "execute_result"
        }
      ],
      "source": [
        "#loaded checkpoint weights should return similar weights to checkpoints weights\n",
        "import numpy as np\n",
        "np.isclose(results_feature_extract_model ,results_cloned_model_with_loaded_weights)"
      ]
    },
    {
      "cell_type": "code",
      "execution_count": null,
      "metadata": {
        "colab": {
          "base_uri": "https://localhost:8080/"
        },
        "id": "yxBvVTDs4q7E",
        "outputId": "0ff02309-c144-4b30-a176-f4fc3acd1864"
      },
      "outputs": [
        {
          "name": "stdout",
          "output_type": "stream",
          "text": [
            "input_1 True float32 <Policy \"float32\">\n",
            "rescaling False float32 <Policy \"float32\">\n",
            "normalization False float32 <Policy \"float32\">\n",
            "stem_conv_pad False float32 <Policy \"float32\">\n",
            "stem_conv False float32 <Policy \"float32\">\n",
            "stem_bn False float32 <Policy \"float32\">\n",
            "stem_activation False float32 <Policy \"float32\">\n",
            "block1a_dwconv False float32 <Policy \"float32\">\n",
            "block1a_bn False float32 <Policy \"float32\">\n",
            "block1a_activation False float32 <Policy \"float32\">\n",
            "block1a_se_squeeze False float32 <Policy \"float32\">\n",
            "block1a_se_reshape False float32 <Policy \"float32\">\n",
            "block1a_se_reduce False float32 <Policy \"float32\">\n",
            "block1a_se_expand False float32 <Policy \"float32\">\n",
            "block1a_se_excite False float32 <Policy \"float32\">\n",
            "block1a_project_conv False float32 <Policy \"float32\">\n",
            "block1a_project_bn False float32 <Policy \"float32\">\n",
            "block2a_expand_conv False float32 <Policy \"float32\">\n",
            "block2a_expand_bn False float32 <Policy \"float32\">\n",
            "block2a_expand_activation False float32 <Policy \"float32\">\n"
          ]
        }
      ],
      "source": [
        "#check dtype policy of base_model layers\n",
        "for layer in cloned_model.layers[1].layers[:20]:\n",
        "  print(layer.name, layer.trainable, layer.dtype, layer.dtype_policy)"
      ]
    },
    {
      "cell_type": "markdown",
      "metadata": {
        "id": "88SdHnPg41Mu"
      },
      "source": [
        "Save the whole model to a file"
      ]
    },
    {
      "cell_type": "code",
      "execution_count": null,
      "metadata": {
        "colab": {
          "base_uri": "https://localhost:8080/",
          "height": 187
        },
        "id": "af8Jf0fP5hxU",
        "outputId": "a68793a6-0d55-45a8-b647-f4923a8ec601"
      },
      "outputs": [
        {
          "ename": "AttributeError",
          "evalue": "ignored",
          "output_type": "error",
          "traceback": [
            "\u001b[0;31m---------------------------------------------------------------------------\u001b[0m",
            "\u001b[0;31mAttributeError\u001b[0m                            Traceback (most recent call last)",
            "\u001b[0;32m<ipython-input-41-aeea469676cd>\u001b[0m in \u001b[0;36m<module>\u001b[0;34m()\u001b[0m\n\u001b[1;32m      1\u001b[0m \u001b[0;32mfrom\u001b[0m \u001b[0mgoogle\u001b[0m\u001b[0;34m.\u001b[0m\u001b[0mcolab\u001b[0m \u001b[0;32mimport\u001b[0m \u001b[0mdrive\u001b[0m\u001b[0;34m\u001b[0m\u001b[0;34m\u001b[0m\u001b[0m\n\u001b[0;32m----> 2\u001b[0;31m \u001b[0mdrive\u001b[0m\u001b[0;34m.\u001b[0m\u001b[0munmount\u001b[0m\u001b[0;34m(\u001b[0m\u001b[0;34m'/content/drive'\u001b[0m\u001b[0;34m)\u001b[0m\u001b[0;34m\u001b[0m\u001b[0;34m\u001b[0m\u001b[0m\n\u001b[0m",
            "\u001b[0;31mAttributeError\u001b[0m: module 'google.colab.drive' has no attribute 'unmount'"
          ]
        }
      ],
      "source": [
        "from google.colab import drive\n",
        "drive.mount('/content/drive')"
      ]
    },
    {
      "cell_type": "code",
      "execution_count": null,
      "metadata": {
        "colab": {
          "base_uri": "https://localhost:8080/"
        },
        "id": "pxijoauE46Hc",
        "outputId": "7f157fca-ff55-4015-fa84-ecaa836ee25e"
      },
      "outputs": [
        {
          "name": "stdout",
          "output_type": "stream",
          "text": [
            "INFO:tensorflow:Assets written to: /content/drive/MyDrive/tensorflow_course/food_vision/07_efficientnetb0_feature_extracted_101_classes_non_mixed_precision/assets\n"
          ]
        },
        {
          "name": "stderr",
          "output_type": "stream",
          "text": [
            "INFO:tensorflow:Assets written to: /content/drive/MyDrive/tensorflow_course/food_vision/07_efficientnetb0_feature_extracted_101_classes_non_mixed_precision/assets\n"
          ]
        }
      ],
      "source": [
        "#save the model to gdrive\n",
        "import os\n",
        "\n",
        "savedir='/content/drive/MyDrive/tensorflow_course/food_vision/07_efficientnetb0_feature_extracted_101_classes_non_mixed_precision/'\n",
        "model.save(savedir)"
      ]
    },
    {
      "cell_type": "code",
      "execution_count": null,
      "metadata": {
        "colab": {
          "base_uri": "https://localhost:8080/"
        },
        "id": "1_x-rf3l55Yi",
        "outputId": "b2b55442-d174-47dc-9ee3-2769c85390dd"
      },
      "outputs": [
        {
          "name": "stdout",
          "output_type": "stream",
          "text": [
            "INFO:tensorflow:Assets written to: 07_efficientnetb0_feature_extraction_non_mixed_precision/assets\n"
          ]
        },
        {
          "name": "stderr",
          "output_type": "stream",
          "text": [
            "INFO:tensorflow:Assets written to: 07_efficientnetb0_feature_extraction_non_mixed_precision/assets\n"
          ]
        }
      ],
      "source": [
        "#save to local\n",
        "save_dir=\"07_efficientnetb0_feature_extraction_non_mixed_precision\"\n",
        "model.save(save_dir)"
      ]
    },
    {
      "cell_type": "code",
      "execution_count": null,
      "metadata": {
        "id": "sqQDL70n6TCD"
      },
      "outputs": [],
      "source": [
        "#load saved_model from gdrive\n",
        "savedir='/content/drive/MyDrive/tensorflow_course/food_vision/07_efficientnetb0_feature_extracted_101_classes_non_mixed_precision/'\n",
        "load_saved_model = tf.keras.models.load_model(savedir)"
      ]
    },
    {
      "cell_type": "code",
      "execution_count": null,
      "metadata": {
        "colab": {
          "base_uri": "https://localhost:8080/"
        },
        "id": "kfelfOf56p1u",
        "outputId": "41493960-3fea-4dee-9edb-38cf1448c820"
      },
      "outputs": [
        {
          "name": "stdout",
          "output_type": "stream",
          "text": [
            "input_1 True float32 <Policy \"float32\">\n",
            "rescaling False float32 <Policy \"float32\">\n",
            "normalization False float32 <Policy \"float32\">\n",
            "stem_conv_pad False float32 <Policy \"float32\">\n",
            "stem_conv False float32 <Policy \"float32\">\n",
            "stem_bn False float32 <Policy \"float32\">\n",
            "stem_activation False float32 <Policy \"float32\">\n",
            "block1a_dwconv False float32 <Policy \"float32\">\n",
            "block1a_bn False float32 <Policy \"float32\">\n",
            "block1a_activation False float32 <Policy \"float32\">\n",
            "block1a_se_squeeze False float32 <Policy \"float32\">\n",
            "block1a_se_reshape False float32 <Policy \"float32\">\n",
            "block1a_se_reduce False float32 <Policy \"float32\">\n",
            "block1a_se_expand False float32 <Policy \"float32\">\n",
            "block1a_se_excite False float32 <Policy \"float32\">\n",
            "block1a_project_conv False float32 <Policy \"float32\">\n",
            "block1a_project_bn False float32 <Policy \"float32\">\n",
            "block2a_expand_conv False float32 <Policy \"float32\">\n",
            "block2a_expand_bn False float32 <Policy \"float32\">\n",
            "block2a_expand_activation False float32 <Policy \"float32\">\n"
          ]
        }
      ],
      "source": [
        "#check loaded model dtype policy\n",
        "for layer in load_saved_model.layers[1].layers[:20]:\n",
        "  print(layer.name, layer.trainable, layer.dtype, layer.dtype_policy)"
      ]
    },
    {
      "cell_type": "code",
      "execution_count": null,
      "metadata": {
        "colab": {
          "base_uri": "https://localhost:8080/"
        },
        "id": "QLiQYgMK69ma",
        "outputId": "72bfa184-2d91-4999-96e0-d16eb9a16a67"
      },
      "outputs": [
        {
          "name": "stdout",
          "output_type": "stream",
          "text": [
            "790/790 [==============================] - 67s 69ms/step - loss: 1.0956 - accuracy: 0.7039\n"
          ]
        },
        {
          "data": {
            "text/plain": [
              "[1.0956215858459473, 0.7039207816123962]"
            ]
          },
          "execution_count": 22,
          "metadata": {},
          "output_type": "execute_result"
        }
      ],
      "source": [
        "#evaluate the loaded_model\n",
        "results_loaded_saved_model = load_saved_model.evaluate(test_data)\n",
        "results_loaded_saved_model"
      ]
    },
    {
      "cell_type": "code",
      "execution_count": null,
      "metadata": {
        "colab": {
          "base_uri": "https://localhost:8080/"
        },
        "id": "M4-IwPCU7ZcJ",
        "outputId": "f865e76b-faf2-4edb-af55-b14cc2caef51"
      },
      "outputs": [
        {
          "data": {
            "text/plain": [
              "[1.0956215858459473, 0.7039207816123962]"
            ]
          },
          "execution_count": 23,
          "metadata": {},
          "output_type": "execute_result"
        }
      ],
      "source": [
        "results_loaded_saved_model"
      ]
    },
    {
      "cell_type": "code",
      "execution_count": null,
      "metadata": {
        "colab": {
          "base_uri": "https://localhost:8080/",
          "height": 204
        },
        "id": "X5WMoMfB7o9N",
        "outputId": "58f0c5bc-1afc-4a06-c776-46bd803c90eb"
      },
      "outputs": [
        {
          "ename": "NameError",
          "evalue": "ignored",
          "output_type": "error",
          "traceback": [
            "\u001b[0;31m---------------------------------------------------------------------------\u001b[0m",
            "\u001b[0;31mNameError\u001b[0m                                 Traceback (most recent call last)",
            "\u001b[0;32m<ipython-input-24-4dc27a2037e6>\u001b[0m in \u001b[0;36m<module>\u001b[0;34m()\u001b[0m\n\u001b[1;32m      1\u001b[0m \u001b[0;31m#loaded checkpoint weights should return similar weights to checkpoints weights\u001b[0m\u001b[0;34m\u001b[0m\u001b[0;34m\u001b[0m\u001b[0;34m\u001b[0m\u001b[0m\n\u001b[1;32m      2\u001b[0m \u001b[0;32mimport\u001b[0m \u001b[0mnumpy\u001b[0m \u001b[0;32mas\u001b[0m \u001b[0mnp\u001b[0m\u001b[0;34m\u001b[0m\u001b[0;34m\u001b[0m\u001b[0m\n\u001b[0;32m----> 3\u001b[0;31m \u001b[0mnp\u001b[0m\u001b[0;34m.\u001b[0m\u001b[0misclose\u001b[0m\u001b[0;34m(\u001b[0m\u001b[0mresults_feature_extract_model\u001b[0m \u001b[0;34m,\u001b[0m\u001b[0mresults_loaded_saved_model\u001b[0m\u001b[0;34m)\u001b[0m\u001b[0;34m.\u001b[0m\u001b[0mall\u001b[0m\u001b[0;34m(\u001b[0m\u001b[0;34m)\u001b[0m\u001b[0;34m\u001b[0m\u001b[0;34m\u001b[0m\u001b[0m\n\u001b[0m",
            "\u001b[0;31mNameError\u001b[0m: name 'results_feature_extract_model' is not defined"
          ]
        }
      ],
      "source": [
        "#loaded checkpoint weights should return similar weights to checkpoints weights\n",
        "import numpy as np\n",
        "np.isclose(results_feature_extract_model ,results_loaded_saved_model).all()"
      ]
    },
    {
      "cell_type": "markdown",
      "metadata": {
        "id": "OdrbUGJy7uzP"
      },
      "source": [
        "#Preparing the model for fine tuning"
      ]
    },
    {
      "cell_type": "code",
      "execution_count": null,
      "metadata": {
        "colab": {
          "base_uri": "https://localhost:8080/"
        },
        "id": "N2Jm8It7711k",
        "outputId": "f36e9fbb-1e2c-4f38-bfe2-bf2d86064a67"
      },
      "outputs": [
        {
          "name": "stdout",
          "output_type": "stream",
          "text": [
            "Model: \"model\"\n",
            "_________________________________________________________________\n",
            " Layer (type)                Output Shape              Param #   \n",
            "=================================================================\n",
            " input_layer (InputLayer)    [(None, 224, 224, 3)]     0         \n",
            "                                                                 \n",
            " efficientnetb0 (Functional)  (None, None, None, 1280)  4049571  \n",
            "                                                                 \n",
            " global_average_pooling2d (G  (None, 1280)             0         \n",
            " lobalAveragePooling2D)                                          \n",
            "                                                                 \n",
            " dense (Dense)               (None, 101)               129381    \n",
            "                                                                 \n",
            " softmax (Activation)        (None, 101)               0         \n",
            "                                                                 \n",
            "=================================================================\n",
            "Total params: 4,178,952\n",
            "Trainable params: 129,381\n",
            "Non-trainable params: 4,049,571\n",
            "_________________________________________________________________\n"
          ]
        }
      ],
      "source": [
        "load_saved_model.summary()"
      ]
    },
    {
      "cell_type": "code",
      "execution_count": null,
      "metadata": {
        "colab": {
          "base_uri": "https://localhost:8080/"
        },
        "id": "sArVI24g8ZP9",
        "outputId": "7dfc07ce-4f9b-47e4-d3dc-bb3af8548b53"
      },
      "outputs": [
        {
          "name": "stdout",
          "output_type": "stream",
          "text": [
            "<keras.engine.input_layer.InputLayer object at 0x7f1ef6873f90> True float32 <Policy \"float32\">\n",
            "<keras.engine.functional.Functional object at 0x7f1ef27e8fd0> True float32 <Policy \"float32\">\n",
            "<keras.layers.pooling.GlobalAveragePooling2D object at 0x7f1ef68d3750> True float32 <Policy \"float32\">\n",
            "<keras.layers.core.dense.Dense object at 0x7f1ef68bf090> True float32 <Policy \"float32\">\n",
            "<keras.layers.core.activation.Activation object at 0x7f1ef68bfb90> True float32 <Policy \"float32\">\n"
          ]
        }
      ],
      "source": [
        "#let's unfreeze the top few layers and froze others\n",
        "\n",
        "for layer in load_saved_model.layers:\n",
        "  layer.trainable=True\n",
        "  print(layer, layer.trainable, layer.dtype, layer.dtype_policy)"
      ]
    },
    {
      "cell_type": "code",
      "execution_count": null,
      "metadata": {
        "colab": {
          "base_uri": "https://localhost:8080/"
        },
        "id": "Zi6reTRT9Efd",
        "outputId": "327a03b4-dc99-4b4e-9173-e52238dd7944"
      },
      "outputs": [
        {
          "name": "stdout",
          "output_type": "stream",
          "text": [
            "<keras.layers.core.activation.Activation object at 0x7f1ef81580d0> True float32 <Policy \"float32\">\n"
          ]
        }
      ],
      "source": [
        "#basemodel layer\n",
        "\n",
        "for layer in load_saved_model.layers[1].layers[-1:]:\n",
        "  print(layer, layer.trainable, layer.dtype, layer.dtype_policy)"
      ]
    },
    {
      "cell_type": "code",
      "execution_count": null,
      "metadata": {
        "id": "BcOIvp2x9abR"
      },
      "outputs": [],
      "source": [
        "#setup early stopping\n",
        "\n",
        "early_stopping = tf.keras.callbacks.EarlyStopping(monitor='val_loss',\n",
        "                                                  patience=3)\n",
        "\n",
        "#create checkpoint to save model\n",
        "checkpoint_path='finetune_checkpoints/'\n",
        "model_checkpoint = tf.keras.callbacks.ModelCheckpoint(checkpoint_path,\n",
        "                                                      monitor='val_loss',\n",
        "                                                      save_best_only=True)"
      ]
    },
    {
      "cell_type": "code",
      "execution_count": null,
      "metadata": {
        "id": "YH8zrxWB-X6V"
      },
      "outputs": [],
      "source": [
        "#creating learning rate reduction callback\n",
        "reduce_lr = tf.keras.callbacks.ReduceLROnPlateau(monitor='val_loss',\n",
        "                                                 factor=0.2,\n",
        "                                                 patience=2,\n",
        "                                                 verbose=1,\n",
        "                                                 min_lr=1e-7)"
      ]
    },
    {
      "cell_type": "code",
      "execution_count": null,
      "metadata": {
        "id": "85bLXLgW_c90"
      },
      "outputs": [],
      "source": [
        "#compile the model\n",
        "load_saved_model.compile(loss='sparse_categorical_crossentropy',\n",
        "                         optimizer = tf.keras.optimizers.Adam(0.001),\n",
        "                         metrics=['accuracy'])"
      ]
    },
    {
      "cell_type": "code",
      "execution_count": null,
      "metadata": {
        "colab": {
          "base_uri": "https://localhost:8080/"
        },
        "id": "8q0B3Tas_six",
        "outputId": "de461689-7fd0-497c-c0b7-64a2bd5dcdbc"
      },
      "outputs": [
        {
          "name": "stdout",
          "output_type": "stream",
          "text": [
            "Saving TensorBoard log files to: training_logs/efficientnetb0_101_food_classes_all_data_fine_tune/20220713-073501\n",
            "Epoch 1/5\n",
            "2368/2368 [==============================] - ETA: 0s - loss: 1.6078 - accuracy: 0.5862INFO:tensorflow:Assets written to: finetune_checkpoints/assets\n"
          ]
        },
        {
          "name": "stderr",
          "output_type": "stream",
          "text": [
            "INFO:tensorflow:Assets written to: finetune_checkpoints/assets\n"
          ]
        },
        {
          "name": "stdout",
          "output_type": "stream",
          "text": [
            "\b\b\b\b\b\b\b\b\b\b\b\b\b\b\b\b\b\b\b\b\b\b\b\b\b\b\b\b\b\b\b\b\b\b\b\b\b\b\b\b\b\b\b\b\b\b\b\b\b\b\b\b\b\b\b\b\b\b\b\b\b\b\b\b\b\b\b\b\b\b\b\b\b\b\b\b\b\b\b\b\b\b\b\b\b\b\r2368/2368 [==============================] - 880s 365ms/step - loss: 1.6078 - accuracy: 0.5862 - val_loss: 1.2003 - val_accuracy: 0.6790 - lr: 0.0010\n",
            "Epoch 2/5\n",
            "2368/2368 [==============================] - ETA: 0s - loss: 1.2227 - accuracy: 0.6752INFO:tensorflow:Assets written to: finetune_checkpoints/assets\n"
          ]
        },
        {
          "name": "stderr",
          "output_type": "stream",
          "text": [
            "INFO:tensorflow:Assets written to: finetune_checkpoints/assets\n"
          ]
        },
        {
          "name": "stdout",
          "output_type": "stream",
          "text": [
            "\b\b\b\b\b\b\b\b\b\b\b\b\b\b\b\b\b\b\b\b\b\b\b\b\b\b\b\b\b\b\b\b\b\b\b\b\b\b\b\b\b\b\b\b\b\b\b\b\b\b\b\b\b\b\b\b\b\b\b\b\b\b\b\b\b\b\b\b\b\b\b\b\b\b\b\b\b\b\b\b\b\b\b\b\b\b\r2368/2368 [==============================] - 869s 366ms/step - loss: 1.2227 - accuracy: 0.6752 - val_loss: 1.0621 - val_accuracy: 0.7097 - lr: 0.0010\n",
            "Epoch 3/5\n",
            "2368/2368 [==============================] - 839s 353ms/step - loss: 1.0037 - accuracy: 0.7283 - val_loss: 1.1118 - val_accuracy: 0.7026 - lr: 0.0010\n",
            "Epoch 4/5\n",
            "2368/2368 [==============================] - ETA: 0s - loss: 0.8721 - accuracy: 0.7594\n",
            "Epoch 4: ReduceLROnPlateau reducing learning rate to 0.00020000000949949026.\n",
            "2368/2368 [==============================] - 844s 355ms/step - loss: 0.8721 - accuracy: 0.7594 - val_loss: 1.0772 - val_accuracy: 0.7164 - lr: 0.0010\n",
            "Epoch 5/5\n",
            "2368/2368 [==============================] - ETA: 0s - loss: 0.3309 - accuracy: 0.9049INFO:tensorflow:Assets written to: finetune_checkpoints/assets\n"
          ]
        },
        {
          "name": "stderr",
          "output_type": "stream",
          "text": [
            "INFO:tensorflow:Assets written to: finetune_checkpoints/assets\n"
          ]
        },
        {
          "name": "stdout",
          "output_type": "stream",
          "text": [
            "\b\b\b\b\b\b\b\b\b\b\b\b\b\b\b\b\b\b\b\b\b\b\b\b\b\b\b\b\b\b\b\b\b\b\b\b\b\b\b\b\b\b\b\b\b\b\b\b\b\b\b\b\b\b\b\b\b\b\b\b\b\b\b\b\b\b\b\b\b\b\b\b\b\b\b\b\b\b\b\b\b\b\b\b\b\b\r2368/2368 [==============================] - 864s 364ms/step - loss: 0.3309 - accuracy: 0.9049 - val_loss: 0.7974 - val_accuracy: 0.8117 - lr: 2.0000e-04\n"
          ]
        }
      ],
      "source": [
        "#start fitting\n",
        "history_101_food_classes_all_data_fine_tune = load_saved_model.fit(train_data,\n",
        "                                                                   epochs=5,\n",
        "                                                                   steps_per_epoch=len(train_data),\n",
        "                                                                   validation_data=test_data,\n",
        "                                                                   validation_steps=int(0.15* len(test_data)),\n",
        "                                                                   callbacks=[create_tensorboard_callback(dir_name='training_logs',\n",
        "                                                                              experiment_name='efficientnetb0_101_food_classes_all_data_fine_tune'),\n",
        "                                                                              model_checkpoint,\n",
        "                                                                              early_stopping, \n",
        "                                                                              reduce_lr])"
      ]
    },
    {
      "cell_type": "code",
      "execution_count": null,
      "metadata": {
        "colab": {
          "base_uri": "https://localhost:8080/"
        },
        "id": "Fc-8Snp7AvTu",
        "outputId": "07ad407d-b15a-45fd-dbb5-4598b67cbf70"
      },
      "outputs": [
        {
          "name": "stdout",
          "output_type": "stream",
          "text": [
            "INFO:tensorflow:Assets written to: /content/drive/MyDrive/tensorflow_course/food_vision/07_efficientnetb0_fine_tuned_101_classes_non_mixed_precision/assets\n"
          ]
        },
        {
          "name": "stderr",
          "output_type": "stream",
          "text": [
            "INFO:tensorflow:Assets written to: /content/drive/MyDrive/tensorflow_course/food_vision/07_efficientnetb0_fine_tuned_101_classes_non_mixed_precision/assets\n"
          ]
        }
      ],
      "source": [
        "#save fine tuned model to google drive\n",
        "load_saved_model.save('/content/drive/MyDrive/tensorflow_course/food_vision/07_efficientnetb0_fine_tuned_101_classes_non_mixed_precision/')"
      ]
    },
    {
      "cell_type": "code",
      "execution_count": null,
      "metadata": {
        "colab": {
          "base_uri": "https://localhost:8080/"
        },
        "id": "E0hDs77mEyet",
        "outputId": "50174001-2eb6-44ce-9873-c46a353d7b6c"
      },
      "outputs": [
        {
          "name": "stdout",
          "output_type": "stream",
          "text": [
            "INFO:tensorflow:Assets written to: food_vision/07_efficientnetb0_fine_tuned_101_classes_non_mixed_precision/assets\n"
          ]
        },
        {
          "name": "stderr",
          "output_type": "stream",
          "text": [
            "INFO:tensorflow:Assets written to: food_vision/07_efficientnetb0_fine_tuned_101_classes_non_mixed_precision/assets\n"
          ]
        }
      ],
      "source": [
        "#save fine tuned model to local \n",
        "load_saved_model.save('food_vision/07_efficientnetb0_fine_tuned_101_classes_non_mixed_precision/')"
      ]
    },
    {
      "cell_type": "code",
      "execution_count": null,
      "metadata": {
        "colab": {
          "base_uri": "https://localhost:8080/"
        },
        "id": "tV1IRtgGGEx5",
        "outputId": "87a211a7-90f8-40cd-8b52-fd5e9162b6d0"
      },
      "outputs": [
        {
          "name": "stdout",
          "output_type": "stream",
          "text": [
            "790/790 [==============================] - 57s 71ms/step - loss: 0.7794 - accuracy: 0.8126\n"
          ]
        },
        {
          "data": {
            "text/plain": [
              "[0.7793891429901123, 0.8126336336135864]"
            ]
          },
          "execution_count": 35,
          "metadata": {},
          "output_type": "execute_result"
        }
      ],
      "source": [
        "#evaluate mixed precision trained loaded model\n",
        "results_loaded_gs_model_fine_tuned= load_saved_model.evaluate(test_data)\n",
        "results_loaded_gs_model_fine_tuned"
      ]
    },
    {
      "cell_type": "markdown",
      "metadata": {
        "id": "JCnCFIQyHQHG"
      },
      "source": [
        "#Download fine tuned model from google storage"
      ]
    },
    {
      "cell_type": "code",
      "execution_count": null,
      "metadata": {
        "id": "fJv8iyikHUGV"
      },
      "outputs": [],
      "source": [
        "# #download and evaluate the fine tuned model from google drive\n",
        "# Download and evaluate fine-tuned model from Google Storage\n",
        "#!wget <<>>\n",
        "#copy from gdive after mounting\n",
        "!cp /content/drive/MyDrive/tensorflow_course/food_vision/07_efficientnetb0_fine_tuned_101_classes_non_mixed_precision.zip /content/"
      ]
    },
    {
      "cell_type": "code",
      "execution_count": null,
      "metadata": {
        "colab": {
          "base_uri": "https://localhost:8080/"
        },
        "id": "bJ72Xf-YIQqE",
        "outputId": "1b6e039c-48fb-496a-f238-2ab5ee530e8b"
      },
      "outputs": [
        {
          "name": "stdout",
          "output_type": "stream",
          "text": [
            "Archive:  07_efficientnetb0_fine_tuned_101_classes_non_mixed_precision.zip\n",
            "   creating: downloaded_fine_tuned_gs_model/07_efficientnetb0_fine_tuned_101_classes_non_mixed_precision/assets/\n",
            "  inflating: downloaded_fine_tuned_gs_model/07_efficientnetb0_fine_tuned_101_classes_non_mixed_precision/keras_metadata.pb  \n",
            "  inflating: downloaded_fine_tuned_gs_model/07_efficientnetb0_fine_tuned_101_classes_non_mixed_precision/saved_model.pb  \n",
            "  inflating: downloaded_fine_tuned_gs_model/07_efficientnetb0_fine_tuned_101_classes_non_mixed_precision/variables/variables.index  \n",
            "  inflating: downloaded_fine_tuned_gs_model/07_efficientnetb0_fine_tuned_101_classes_non_mixed_precision/variables/variables.data-00000-of-00001  \n"
          ]
        }
      ],
      "source": [
        "# # Unzip fine-tuned model\n",
        "!mkdir downloaded_fine_tuned_gs_model # create separate directory for fine-tuned model downloaded from Google Storage\n",
        "!unzip 07_efficientnetb0_fine_tuned_101_classes_non_mixed_precision -d downloaded_fine_tuned_gs_model"
      ]
    },
    {
      "cell_type": "code",
      "execution_count": null,
      "metadata": {
        "id": "rY4EoHNsISMG"
      },
      "outputs": [],
      "source": [
        "import tensorflow as tf\n",
        "# # Load in fine-tuned model from Google Storage and evaluate\n",
        "loaded_fine_tuned_gs_model = tf.keras.models.load_model(\"downloaded_fine_tuned_gs_model/07_efficientnetb0_fine_tuned_101_classes_non_mixed_precision\")"
      ]
    },
    {
      "cell_type": "code",
      "execution_count": null,
      "metadata": {
        "id": "D7lTdH6KzfoW"
      },
      "outputs": [],
      "source": [
        "loaded_fine_tuned_gs_model.save('my_food_sight_model.h5')"
      ]
    },
    {
      "cell_type": "code",
      "execution_count": null,
      "metadata": {
        "id": "1osOSzJYTniQ"
      },
      "outputs": [],
      "source": [
        "# loaded_fine_tuned_gs_model = tf.keras.models.load_model('food_vision/07_efficientnetb0_fine_tuned_101_classes_mixed_precision/')"
      ]
    },
    {
      "cell_type": "code",
      "execution_count": null,
      "metadata": {
        "colab": {
          "base_uri": "https://localhost:8080/"
        },
        "id": "vD9vewStIYtF",
        "outputId": "592774ca-d68e-4044-a6ab-8d83cfb5f395"
      },
      "outputs": [
        {
          "name": "stdout",
          "output_type": "stream",
          "text": [
            "Model: \"model\"\n",
            "_________________________________________________________________\n",
            " Layer (type)                Output Shape              Param #   \n",
            "=================================================================\n",
            " input_layer (InputLayer)    [(None, 224, 224, 3)]     0         \n",
            "                                                                 \n",
            " efficientnetb0 (Functional)  (None, None, None, 1280)  4049571  \n",
            "                                                                 \n",
            " pooling_layer (GlobalAverag  (None, 1280)             0         \n",
            " ePooling2D)                                                     \n",
            "                                                                 \n",
            " dense (Dense)               (None, 101)               129381    \n",
            "                                                                 \n",
            " softmax_float32 (Activation  (None, 101)              0         \n",
            " )                                                               \n",
            "                                                                 \n",
            "=================================================================\n",
            "Total params: 4,178,952\n",
            "Trainable params: 4,136,929\n",
            "Non-trainable params: 42,023\n",
            "_________________________________________________________________\n"
          ]
        }
      ],
      "source": [
        "# Get a model summary (same model architecture as above)\n",
        "loaded_fine_tuned_gs_model.summary()"
      ]
    },
    {
      "cell_type": "code",
      "execution_count": null,
      "metadata": {
        "colab": {
          "base_uri": "https://localhost:8080/"
        },
        "id": "4fmeeTTZIeQF",
        "outputId": "e08fe58f-1da0-4f7d-f56b-8037479bd14e"
      },
      "outputs": [
        {
          "name": "stdout",
          "output_type": "stream",
          "text": [
            "790/790 [==============================] - 60s 72ms/step - loss: 0.7794 - accuracy: 0.8126\n"
          ]
        },
        {
          "data": {
            "text/plain": [
              "[0.7793891429901123, 0.8126336336135864]"
            ]
          },
          "execution_count": 46,
          "metadata": {},
          "output_type": "execute_result"
        }
      ],
      "source": [
        "# Note: Even if you're loading in the model from Google Storage, you will still need to load the test_data variable for this cell to work\n",
        "results_downloaded_fine_tuned_gs_model = loaded_fine_tuned_gs_model.evaluate(test_data)\n",
        "results_downloaded_fine_tuned_gs_model"
      ]
    },
    {
      "cell_type": "markdown",
      "metadata": {
        "id": "ahb_8vg5IrNq"
      },
      "source": [
        "#View Results on Tensorborad"
      ]
    },
    {
      "cell_type": "code",
      "execution_count": null,
      "metadata": {
        "colab": {
          "base_uri": "https://localhost:8080/"
        },
        "id": "pXdMyYtKIvhI",
        "outputId": "46bf5298-f962-4079-e265-79ef17b92789"
      },
      "outputs": [
        {
          "name": "stdout",
          "output_type": "stream",
          "text": [
            "Traceback (most recent call last):\n",
            "  File \"/usr/local/lib/python3.7/dist-packages/tensorboard/compat/__init__.py\", line 42, in tf\n",
            "    from tensorboard.compat import notf  # noqa: F401\n",
            "ImportError: cannot import name 'notf' from 'tensorboard.compat' (/usr/local/lib/python3.7/dist-packages/tensorboard/compat/__init__.py)\n",
            "\n",
            "During handling of the above exception, another exception occurred:\n",
            "\n",
            "Traceback (most recent call last):\n",
            "  File \"/usr/local/bin/tensorboard\", line 8, in <module>\n",
            "    sys.exit(run_main())\n",
            "  File \"/usr/local/lib/python3.7/dist-packages/tensorboard/main.py\", line 39, in run_main\n",
            "    main_lib.global_init()\n",
            "  File \"/usr/local/lib/python3.7/dist-packages/tensorboard/main_lib.py\", line 40, in global_init\n",
            "    if getattr(tf, \"__version__\", \"stub\") == \"stub\":\n",
            "  File \"/usr/local/lib/python3.7/dist-packages/tensorboard/lazy.py\", line 65, in __getattr__\n",
            "    return getattr(load_once(self), attr_name)\n",
            "  File \"/usr/local/lib/python3.7/dist-packages/tensorboard/lazy.py\", line 97, in wrapper\n",
            "    cache[arg] = f(arg)\n",
            "  File \"/usr/local/lib/python3.7/dist-packages/tensorboard/lazy.py\", line 50, in load_once\n",
            "    module = load_fn()\n",
            "  File \"/usr/local/lib/python3.7/dist-packages/tensorboard/compat/__init__.py\", line 45, in tf\n",
            "    import tensorflow\n",
            "  File \"/usr/local/lib/python3.7/dist-packages/tensorflow/__init__.py\", line 51, in <module>\n",
            "    from ._api.v2 import compat\n",
            "  File \"/usr/local/lib/python3.7/dist-packages/tensorflow/_api/v2/compat/__init__.py\", line 37, in <module>\n",
            "    from . import v1\n",
            "  File \"/usr/local/lib/python3.7/dist-packages/tensorflow/_api/v2/compat/v1/__init__.py\", line 30, in <module>\n",
            "    from . import compat\n",
            "  File \"/usr/local/lib/python3.7/dist-packages/tensorflow/_api/v2/compat/v1/compat/__init__.py\", line 37, in <module>\n",
            "    from . import v1\n",
            "  File \"/usr/local/lib/python3.7/dist-packages/tensorflow/_api/v2/compat/v1/compat/v1/__init__.py\", line 47, in <module>\n",
            "    from tensorflow._api.v2.compat.v1 import lite\n",
            "  File \"/usr/local/lib/python3.7/dist-packages/tensorflow/_api/v2/compat/v1/lite/__init__.py\", line 9, in <module>\n",
            "    from . import experimental\n",
            "  File \"/usr/local/lib/python3.7/dist-packages/tensorflow/_api/v2/compat/v1/lite/experimental/__init__.py\", line 8, in <module>\n",
            "    from . import authoring\n",
            "  File \"/usr/local/lib/python3.7/dist-packages/tensorflow/_api/v2/compat/v1/lite/experimental/authoring/__init__.py\", line 8, in <module>\n",
            "    from tensorflow.lite.python.authoring.authoring import compatible\n",
            "  File \"/usr/local/lib/python3.7/dist-packages/tensorflow/lite/python/authoring/authoring.py\", line 43, in <module>\n",
            "    from tensorflow.lite.python import convert\n",
            "  File \"/usr/local/lib/python3.7/dist-packages/tensorflow/lite/python/convert.py\", line 29, in <module>\n",
            "    from tensorflow.lite.python import util\n",
            "  File \"/usr/local/lib/python3.7/dist-packages/tensorflow/lite/python/util.py\", line 51, in <module>\n",
            "    from jax import xla_computation as _xla_computation\n",
            "  File \"/usr/local/lib/python3.7/dist-packages/jax/__init__.py\", line 58, in <module>\n",
            "    from jax._src.api import (\n",
            "  File \"/usr/local/lib/python3.7/dist-packages/jax/_src/api.py\", line 52, in <module>\n",
            "    from jax._src import dispatch\n",
            "  File \"/usr/local/lib/python3.7/dist-packages/jax/_src/dispatch.py\", line 39, in <module>\n",
            "    import jax.interpreters.mlir as mlir\n",
            "  File \"/usr/local/lib/python3.7/dist-packages/jax/interpreters/mlir.py\", line 39, in <module>\n",
            "    from jax._src.lib.mlir.dialects import chlo\n",
            "  File \"/usr/local/lib/python3.7/dist-packages/jax/_src/lib/mlir/dialects/__init__.py\", line 17, in <module>\n",
            "    import jaxlib.mlir.dialects.chlo as chlo\n",
            "  File \"/usr/local/lib/python3.7/dist-packages/jaxlib/mlir/dialects/chlo.py\", line 19, in <module>\n",
            "    from ._chlo_ops_gen import *\n",
            "  File \"/usr/local/lib/python3.7/dist-packages/jaxlib/mlir/dialects/_chlo_ops_gen.py\", line 800, in <module>\n",
            "    class BroadcastPowOp(_ods_ir.OpView):\n",
            "KeyboardInterrupt\n"
          ]
        }
      ],
      "source": [
        "!tensorboard dev upload --logdir ./training_logs \\\n",
        "  --name \"Fine-tuning EfficientNetB0 on all Food101 Data\" \\\n",
        "  --description \"Training results for fine-tuning EfficientNetB0 on Food101 Data with learning rate 0.0001\" \\"
      ]
    },
    {
      "cell_type": "markdown",
      "metadata": {
        "id": "eHD1nOqDJjju"
      },
      "source": [
        "#Evaluate your trained model\n",
        "Some ideas you might want to go through:\n",
        "\n",
        "1.Find the precision, recall and f1 scores for each class (all 101).\n",
        "2. Build a confusion matrix for each of the classes.\n",
        "3. Find your model's most wrong predictions (those with the highest prediction probability but the wrong prediction)."
      ]
    },
    {
      "cell_type": "code",
      "execution_count": null,
      "metadata": {
        "colab": {
          "base_uri": "https://localhost:8080/"
        },
        "id": "g8pH96ZeLwRu",
        "outputId": "71ee30e1-4ca8-4398-abad-63fc246bc190"
      },
      "outputs": [
        {
          "data": {
            "text/plain": [
              "(25250, 101)"
            ]
          },
          "execution_count": 90,
          "metadata": {},
          "output_type": "execute_result"
        }
      ],
      "source": [
        "#Prediction probabilities\n",
        "pred_probs = loaded_fine_tuned_gs_model.predict(test_data)\n",
        "pred_probs.shape"
      ]
    },
    {
      "cell_type": "code",
      "execution_count": null,
      "metadata": {
        "colab": {
          "base_uri": "https://localhost:8080/"
        },
        "id": "5D4b_2pCStb5",
        "outputId": "923a7813-cbf5-4be5-b35e-22f50165da0f"
      },
      "outputs": [
        {
          "data": {
            "text/plain": [
              "array([[1.4839282e-12, 9.3534315e-17, 8.8742890e-16, ..., 4.7159147e-12,\n",
              "        7.6985190e-13, 7.8527032e-11],\n",
              "       [2.4463789e-20, 4.2575730e-24, 6.2564584e-23, ..., 3.4447579e-17,\n",
              "        7.6104623e-19, 1.3981076e-26],\n",
              "       [1.3933721e-15, 9.7419584e-19, 1.5788974e-15, ..., 3.3095488e-16,\n",
              "        2.8470177e-17, 1.0237083e-13],\n",
              "       ...,\n",
              "       [3.6088237e-05, 7.0065633e-09, 4.5496826e-10, ..., 1.3469094e-13,\n",
              "        5.1554655e-10, 2.5590394e-05],\n",
              "       [7.0657019e-25, 0.0000000e+00, 0.0000000e+00, ..., 2.0482456e-38,\n",
              "        2.9801796e-38, 1.1149424e-30],\n",
              "       [5.1708605e-13, 2.6834417e-24, 1.2179017e-17, ..., 1.4956704e-08,\n",
              "        2.7686231e-24, 1.8863232e-17]], dtype=float32)"
            ]
          },
          "execution_count": 91,
          "metadata": {},
          "output_type": "execute_result"
        }
      ],
      "source": [
        "pred_probs"
      ]
    },
    {
      "cell_type": "code",
      "execution_count": null,
      "metadata": {
        "colab": {
          "base_uri": "https://localhost:8080/"
        },
        "id": "CdqZXNPabql_",
        "outputId": "c4c714c8-4fa4-4ed7-dd20-986831b4a1b5"
      },
      "outputs": [
        {
          "name": "stdout",
          "output_type": "stream",
          "text": [
            "Number of prediction probabilities for sample 0: 101\n",
            "What prediction probability sample 0 looks like:\n",
            " [1.48392821e-12 9.35343146e-17 8.87428901e-16 3.47522133e-16\n",
            " 6.75523569e-12 1.19236988e-12 2.86123668e-23 2.65336421e-18\n",
            " 2.76071043e-14 1.82088600e-15 4.41160238e-14 1.08273823e-17\n",
            " 4.01681015e-14 3.26466880e-16 1.03005044e-11 2.79241908e-16\n",
            " 2.82786711e-10 6.58489214e-13 5.68168972e-20 9.06565665e-17\n",
            " 2.63114420e-22 1.52231595e-11 1.86237479e-08 2.85263557e-17\n",
            " 3.17376589e-22 1.67697783e-17 3.89909052e-17 7.34597821e-13\n",
            " 2.88540011e-19 9.99999881e-01 1.73227843e-09 1.52690576e-17\n",
            " 8.01246626e-20 4.76438665e-22 1.07044360e-15 1.09517434e-19\n",
            " 7.06034056e-17 4.55849872e-17 6.10839175e-19 1.08273823e-17\n",
            " 2.65736134e-21 1.71572143e-21 2.95114389e-12 7.92148273e-18\n",
            " 4.51352507e-18 1.09188219e-13 1.11879094e-20 8.43237512e-18\n",
            " 1.05988273e-16 2.70650532e-16 2.26954289e-18 1.17742336e-18\n",
            " 3.82253396e-19 7.67776471e-18 1.75536022e-25 1.42408288e-13\n",
            " 3.89322601e-14 6.77560349e-18 4.99900075e-14 9.18359605e-22\n",
            " 1.56218229e-21 4.61085621e-19 3.66285700e-17 6.85342596e-20\n",
            " 3.63218238e-21 1.01867074e-20 2.10465800e-13 3.89909052e-17\n",
            " 1.14291703e-21 2.19640768e-15 3.74748037e-21 1.57774831e-20\n",
            " 7.53601001e-12 6.90090725e-13 2.09332524e-23 5.99747754e-24\n",
            " 1.10608689e-18 7.67776471e-18 9.66487974e-20 2.74171518e-21\n",
            " 2.85263557e-17 1.46532698e-18 1.38817240e-14 4.83063296e-08\n",
            " 2.17801412e-19 4.85980662e-20 2.71058246e-19 2.20566268e-13\n",
            " 2.02586888e-20 1.98908381e-25 9.76118204e-19 7.50438936e-14\n",
            " 7.16296598e-25 2.54252636e-16 1.44433313e-10 5.39063679e-19\n",
            " 2.67980313e-17 5.21692569e-16 4.71591472e-12 7.69851901e-13\n",
            " 7.85270321e-11]\n",
            "The class with the highest predicted probability by the model for sample 0: 29\n"
          ]
        }
      ],
      "source": [
        "# We get one prediction probability per class\n",
        "print(f\"Number of prediction probabilities for sample 0: {len(pred_probs[0])}\")\n",
        "print(f\"What prediction probability sample 0 looks like:\\n {pred_probs[0]}\")\n",
        "print(f\"The class with the highest predicted probability by the model for sample 0: {pred_probs[0].argmax()}\")"
      ]
    },
    {
      "cell_type": "code",
      "execution_count": null,
      "metadata": {
        "colab": {
          "base_uri": "https://localhost:8080/"
        },
        "id": "s6ahP9ctL-FV",
        "outputId": "725a9908-8a90-4bd0-b8c8-a24a45c84fef"
      },
      "outputs": [
        {
          "data": {
            "text/plain": [
              "array([29, 81, 91, 53, 97, 97, 10, 31,  3,  8])"
            ]
          },
          "execution_count": 93,
          "metadata": {},
          "output_type": "execute_result"
        }
      ],
      "source": [
        "# Get the class predicitons of each label\n",
        "pred_classes = pred_probs.argmax(axis=1)\n",
        "\n",
        "# How do they look?\n",
        "pred_classes[:10]"
      ]
    },
    {
      "cell_type": "code",
      "execution_count": null,
      "metadata": {
        "colab": {
          "base_uri": "https://localhost:8080/"
        },
        "id": "1dd71LBNS603",
        "outputId": "cd04ee20-32f2-4b66-a351-71e17e14acc7"
      },
      "outputs": [
        {
          "data": {
            "text/plain": [
              "array([29, 81, 91, ..., 46, 31, 21])"
            ]
          },
          "execution_count": 94,
          "metadata": {},
          "output_type": "execute_result"
        }
      ],
      "source": [
        "pred_classes"
      ]
    },
    {
      "cell_type": "code",
      "execution_count": null,
      "metadata": {
        "colab": {
          "base_uri": "https://localhost:8080/"
        },
        "id": "VQqRWnOAMJsq",
        "outputId": "45efb6c6-b86b-4c51-86dc-470768b1c323"
      },
      "outputs": [
        {
          "data": {
            "text/plain": [
              "[29, 81, 91, 53, 97, 97, 10, 31, 3, 100]"
            ]
          },
          "execution_count": 95,
          "metadata": {},
          "output_type": "execute_result"
        }
      ],
      "source": [
        "# Note: This might take a minute or so due to unravelling 790 batches\n",
        "y_labels = []\n",
        "for images, labels in test_data.unbatch(): # unbatch the test data and get images and labels\n",
        "  y_labels.append(labels.numpy()) # append the index which has the largest value (labels are one-hot)\n",
        "y_labels[:10] # check what they look like (unshuffled)"
      ]
    },
    {
      "cell_type": "code",
      "execution_count": null,
      "metadata": {
        "colab": {
          "base_uri": "https://localhost:8080/"
        },
        "id": "TXDw_OXCN5Lh",
        "outputId": "0a2b7bed-0f7e-4e08-bc76-f2fe4e0bb608"
      },
      "outputs": [
        {
          "data": {
            "text/plain": [
              "(25250, 25250)"
            ]
          },
          "execution_count": 96,
          "metadata": {},
          "output_type": "execute_result"
        }
      ],
      "source": [
        "len(y_labels), len(pred_classes)"
      ]
    },
    {
      "cell_type": "code",
      "execution_count": null,
      "metadata": {
        "colab": {
          "base_uri": "https://localhost:8080/"
        },
        "id": "m976QvcJSiuy",
        "outputId": "bf296770-6234-4461-bd7f-8cc07636a526"
      },
      "outputs": [
        {
          "data": {
            "text/plain": [
              "0.808950495049505"
            ]
          },
          "execution_count": 97,
          "metadata": {},
          "output_type": "execute_result"
        }
      ],
      "source": [
        "from sklearn.metrics import accuracy_score\n",
        "sklearn_accuracy = accuracy_score(y_labels, pred_classes)\n",
        "sklearn_accuracy"
      ]
    },
    {
      "cell_type": "code",
      "execution_count": null,
      "metadata": {
        "colab": {
          "base_uri": "https://localhost:8080/"
        },
        "id": "FAsbE3G3OPYX",
        "outputId": "a161676d-3531-4eb2-d5ad-d5f1ba0e140e"
      },
      "outputs": [
        {
          "name": "stdout",
          "output_type": "stream",
          "text": [
            "              precision    recall  f1-score   support\n",
            "\n",
            "           0       0.58      0.57      0.58       250\n",
            "           1       0.85      0.74      0.79       250\n",
            "           2       0.87      0.89      0.88       250\n",
            "           3       0.84      0.88      0.86       250\n",
            "           4       0.75      0.80      0.78       250\n",
            "           5       0.74      0.74      0.74       250\n",
            "           6       0.79      0.86      0.83       250\n",
            "           7       0.93      0.91      0.92       250\n",
            "           8       0.63      0.61      0.62       250\n",
            "           9       0.72      0.69      0.70       250\n",
            "          10       0.79      0.69      0.74       250\n",
            "          11       0.83      0.87      0.85       250\n",
            "          12       0.89      0.85      0.87       250\n",
            "          13       0.82      0.84      0.83       250\n",
            "          14       0.78      0.84      0.81       250\n",
            "          15       0.73      0.68      0.70       250\n",
            "          16       0.70      0.72      0.71       250\n",
            "          17       0.88      0.84      0.86       250\n",
            "          18       0.72      0.74      0.73       250\n",
            "          19       0.75      0.79      0.77       250\n",
            "          20       0.86      0.84      0.85       250\n",
            "          21       0.70      0.73      0.71       250\n",
            "          22       0.64      0.59      0.62       250\n",
            "          23       0.89      0.84      0.86       250\n",
            "          24       0.83      0.81      0.82       250\n",
            "          25       0.85      0.86      0.85       250\n",
            "          26       0.70      0.75      0.72       250\n",
            "          27       0.90      0.90      0.90       250\n",
            "          28       0.83      0.86      0.84       250\n",
            "          29       0.87      0.89      0.88       250\n",
            "          30       0.90      0.91      0.90       250\n",
            "          31       0.88      0.80      0.84       250\n",
            "          32       0.85      0.89      0.87       250\n",
            "          33       0.99      0.98      0.99       250\n",
            "          34       0.86      0.88      0.87       250\n",
            "          35       0.89      0.86      0.87       250\n",
            "          36       0.76      0.78      0.77       250\n",
            "          37       0.63      0.68      0.65       250\n",
            "          38       0.86      0.89      0.87       250\n",
            "          39       0.64      0.57      0.60       250\n",
            "          40       0.86      0.92      0.89       250\n",
            "          41       0.82      0.86      0.84       250\n",
            "          42       0.76      0.72      0.74       250\n",
            "          43       0.85      0.82      0.83       250\n",
            "          44       0.87      0.86      0.86       250\n",
            "          45       0.89      0.93      0.91       250\n",
            "          46       0.81      0.71      0.76       250\n",
            "          47       0.75      0.75      0.75       250\n",
            "          48       0.86      0.83      0.84       250\n",
            "          49       0.69      0.77      0.73       250\n",
            "          50       0.68      0.80      0.73       250\n",
            "          51       0.91      0.87      0.89       250\n",
            "          52       0.86      0.81      0.83       250\n",
            "          53       0.84      0.80      0.82       250\n",
            "          54       0.92      0.92      0.92       250\n",
            "          55       0.87      0.83      0.85       250\n",
            "          56       0.69      0.72      0.70       250\n",
            "          57       0.74      0.81      0.77       250\n",
            "          58       0.78      0.68      0.72       250\n",
            "          59       0.74      0.73      0.73       250\n",
            "          60       0.85      0.88      0.86       250\n",
            "          61       0.92      0.89      0.90       250\n",
            "          62       0.81      0.81      0.81       250\n",
            "          63       0.96      0.95      0.96       250\n",
            "          64       0.95      0.89      0.92       250\n",
            "          65       0.94      0.88      0.91       250\n",
            "          66       0.79      0.84      0.81       250\n",
            "          67       0.74      0.71      0.72       250\n",
            "          68       0.86      0.90      0.88       250\n",
            "          69       0.90      0.93      0.92       250\n",
            "          70       0.90      0.93      0.91       250\n",
            "          71       0.91      0.81      0.86       250\n",
            "          72       0.83      0.89      0.86       250\n",
            "          73       0.80      0.77      0.78       250\n",
            "          74       0.89      0.78      0.83       250\n",
            "          75       0.93      0.92      0.93       250\n",
            "          76       0.87      0.88      0.87       250\n",
            "          77       0.56      0.59      0.57       250\n",
            "          78       0.90      0.87      0.89       250\n",
            "          79       0.82      0.84      0.83       250\n",
            "          80       0.82      0.78      0.80       250\n",
            "          81       0.82      0.85      0.84       250\n",
            "          82       0.56      0.68      0.62       250\n",
            "          83       0.83      0.88      0.85       250\n",
            "          84       0.74      0.72      0.73       250\n",
            "          85       0.77      0.78      0.78       250\n",
            "          86       0.88      0.89      0.89       250\n",
            "          87       0.71      0.71      0.71       250\n",
            "          88       0.92      0.90      0.91       250\n",
            "          89       0.77      0.77      0.77       250\n",
            "          90       0.95      0.90      0.92       250\n",
            "          91       0.90      0.94      0.92       250\n",
            "          92       0.85      0.78      0.81       250\n",
            "          93       0.54      0.56      0.55       250\n",
            "          94       0.79      0.82      0.81       250\n",
            "          95       0.88      0.83      0.86       250\n",
            "          96       0.74      0.77      0.76       250\n",
            "          97       0.90      0.89      0.89       250\n",
            "          98       0.80      0.77      0.79       250\n",
            "          99       0.68      0.67      0.68       250\n",
            "         100       0.84      0.87      0.85       250\n",
            "\n",
            "    accuracy                           0.81     25250\n",
            "   macro avg       0.81      0.81      0.81     25250\n",
            "weighted avg       0.81      0.81      0.81     25250\n",
            "\n"
          ]
        }
      ],
      "source": [
        "from sklearn.metrics import accuracy_score, classification_report\n",
        "class_report = classification_report(y_labels, pred_classes)\n",
        "print(class_report)"
      ]
    },
    {
      "cell_type": "code",
      "execution_count": null,
      "metadata": {
        "id": "1ZohGboaOZzE"
      },
      "outputs": [],
      "source": [
        "class_report_dict = classification_report(y_labels, pred_classes, output_dict=True)"
      ]
    },
    {
      "cell_type": "code",
      "execution_count": null,
      "metadata": {
        "colab": {
          "base_uri": "https://localhost:8080/"
        },
        "id": "-Jm0xbQUObi0",
        "outputId": "c566bc7f-10b0-4c22-f8f8-aa2dded469bb"
      },
      "outputs": [
        {
          "data": {
            "text/plain": [
              "{'0': {'f1-score': 0.5754527162977867,\n",
              "  'precision': 0.5789473684210527,\n",
              "  'recall': 0.572,\n",
              "  'support': 250},\n",
              " '1': {'f1-score': 0.7914893617021277,\n",
              "  'precision': 0.8454545454545455,\n",
              "  'recall': 0.744,\n",
              "  'support': 250},\n",
              " '10': {'f1-score': 0.7393162393162394,\n",
              "  'precision': 0.7935779816513762,\n",
              "  'recall': 0.692,\n",
              "  'support': 250},\n",
              " '100': {'f1-score': 0.8526522593320235,\n",
              "  'precision': 0.8378378378378378,\n",
              "  'recall': 0.868,\n",
              "  'support': 250},\n",
              " '11': {'f1-score': 0.8509803921568627,\n",
              "  'precision': 0.8346153846153846,\n",
              "  'recall': 0.868,\n",
              "  'support': 250},\n",
              " '12': {'f1-score': 0.8706365503080081,\n",
              "  'precision': 0.8945147679324894,\n",
              "  'recall': 0.848,\n",
              "  'support': 250},\n",
              " '13': {'f1-score': 0.8284023668639053,\n",
              "  'precision': 0.8171206225680934,\n",
              "  'recall': 0.84,\n",
              "  'support': 250},\n",
              " '14': {'f1-score': 0.8053949903660886,\n",
              "  'precision': 0.7769516728624535,\n",
              "  'recall': 0.836,\n",
              "  'support': 250},\n",
              " '15': {'f1-score': 0.7041666666666666,\n",
              "  'precision': 0.7347826086956522,\n",
              "  'recall': 0.676,\n",
              "  'support': 250},\n",
              " '16': {'f1-score': 0.7111984282907662,\n",
              "  'precision': 0.6988416988416989,\n",
              "  'recall': 0.724,\n",
              "  'support': 250},\n",
              " '17': {'f1-score': 0.8612244897959184,\n",
              "  'precision': 0.8791666666666667,\n",
              "  'recall': 0.844,\n",
              "  'support': 250},\n",
              " '18': {'f1-score': 0.7301587301587301,\n",
              "  'precision': 0.7244094488188977,\n",
              "  'recall': 0.736,\n",
              "  'support': 250},\n",
              " '19': {'f1-score': 0.7689320388349513,\n",
              "  'precision': 0.7471698113207547,\n",
              "  'recall': 0.792,\n",
              "  'support': 250},\n",
              " '2': {'f1-score': 0.8774703557312253,\n",
              "  'precision': 0.8671875,\n",
              "  'recall': 0.888,\n",
              "  'support': 250},\n",
              " '20': {'f1-score': 0.847870182555781,\n",
              "  'precision': 0.8600823045267489,\n",
              "  'recall': 0.836,\n",
              "  'support': 250},\n",
              " '21': {'f1-score': 0.7134502923976609,\n",
              "  'precision': 0.6958174904942965,\n",
              "  'recall': 0.732,\n",
              "  'support': 250},\n",
              " '22': {'f1-score': 0.6150627615062761,\n",
              "  'precision': 0.6447368421052632,\n",
              "  'recall': 0.588,\n",
              "  'support': 250},\n",
              " '23': {'f1-score': 0.8600823045267489,\n",
              "  'precision': 0.885593220338983,\n",
              "  'recall': 0.836,\n",
              "  'support': 250},\n",
              " '24': {'f1-score': 0.8218623481781376,\n",
              "  'precision': 0.8319672131147541,\n",
              "  'recall': 0.812,\n",
              "  'support': 250},\n",
              " '25': {'f1-score': 0.8548707753479126,\n",
              "  'precision': 0.849802371541502,\n",
              "  'recall': 0.86,\n",
              "  'support': 250},\n",
              " '26': {'f1-score': 0.7230769230769231,\n",
              "  'precision': 0.6962962962962963,\n",
              "  'recall': 0.752,\n",
              "  'support': 250},\n",
              " '27': {'f1-score': 0.8982035928143712,\n",
              "  'precision': 0.896414342629482,\n",
              "  'recall': 0.9,\n",
              "  'support': 250},\n",
              " '28': {'f1-score': 0.8447937131630648,\n",
              "  'precision': 0.8301158301158301,\n",
              "  'recall': 0.86,\n",
              "  'support': 250},\n",
              " '29': {'f1-score': 0.8792079207920792,\n",
              "  'precision': 0.8705882352941177,\n",
              "  'recall': 0.888,\n",
              "  'support': 250},\n",
              " '3': {'f1-score': 0.8571428571428572,\n",
              "  'precision': 0.8390804597701149,\n",
              "  'recall': 0.876,\n",
              "  'support': 250},\n",
              " '30': {'f1-score': 0.9025844930417496,\n",
              "  'precision': 0.8972332015810277,\n",
              "  'recall': 0.908,\n",
              "  'support': 250},\n",
              " '31': {'f1-score': 0.8361344537815125,\n",
              "  'precision': 0.8805309734513275,\n",
              "  'recall': 0.796,\n",
              "  'support': 250},\n",
              " '32': {'f1-score': 0.87279843444227,\n",
              "  'precision': 0.8544061302681992,\n",
              "  'recall': 0.892,\n",
              "  'support': 250},\n",
              " '33': {'f1-score': 0.9879518072289156,\n",
              "  'precision': 0.9919354838709677,\n",
              "  'recall': 0.984,\n",
              "  'support': 250},\n",
              " '34': {'f1-score': 0.869047619047619,\n",
              "  'precision': 0.8622047244094488,\n",
              "  'recall': 0.876,\n",
              "  'support': 250},\n",
              " '35': {'f1-score': 0.873469387755102,\n",
              "  'precision': 0.8916666666666667,\n",
              "  'recall': 0.856,\n",
              "  'support': 250},\n",
              " '36': {'f1-score': 0.766798418972332,\n",
              "  'precision': 0.7578125,\n",
              "  'recall': 0.776,\n",
              "  'support': 250},\n",
              " '37': {'f1-score': 0.6499999999999999,\n",
              "  'precision': 0.6259259259259259,\n",
              "  'recall': 0.676,\n",
              "  'support': 250},\n",
              " '38': {'f1-score': 0.8740157480314961,\n",
              "  'precision': 0.8604651162790697,\n",
              "  'recall': 0.888,\n",
              "  'support': 250},\n",
              " '39': {'f1-score': 0.6029723991507431,\n",
              "  'precision': 0.6425339366515838,\n",
              "  'recall': 0.568,\n",
              "  'support': 250},\n",
              " '4': {'f1-score': 0.7751937984496123,\n",
              "  'precision': 0.7518796992481203,\n",
              "  'recall': 0.8,\n",
              "  'support': 250},\n",
              " '40': {'f1-score': 0.8884615384615384,\n",
              "  'precision': 0.8555555555555555,\n",
              "  'recall': 0.924,\n",
              "  'support': 250},\n",
              " '41': {'f1-score': 0.8388349514563106,\n",
              "  'precision': 0.8150943396226416,\n",
              "  'recall': 0.864,\n",
              "  'support': 250},\n",
              " '42': {'f1-score': 0.7433264887063654,\n",
              "  'precision': 0.7637130801687764,\n",
              "  'recall': 0.724,\n",
              "  'support': 250},\n",
              " '43': {'f1-score': 0.8309572301425661,\n",
              "  'precision': 0.8464730290456431,\n",
              "  'recall': 0.816,\n",
              "  'support': 250},\n",
              " '44': {'f1-score': 0.8629032258064515,\n",
              "  'precision': 0.8699186991869918,\n",
              "  'recall': 0.856,\n",
              "  'support': 250},\n",
              " '45': {'f1-score': 0.9083820662768032,\n",
              "  'precision': 0.8859315589353612,\n",
              "  'recall': 0.932,\n",
              "  'support': 250},\n",
              " '46': {'f1-score': 0.7574468085106384,\n",
              "  'precision': 0.8090909090909091,\n",
              "  'recall': 0.712,\n",
              "  'support': 250},\n",
              " '47': {'f1-score': 0.748,\n",
              "  'precision': 0.748,\n",
              "  'recall': 0.748,\n",
              "  'support': 250},\n",
              " '48': {'f1-score': 0.8438133874239351,\n",
              "  'precision': 0.8559670781893004,\n",
              "  'recall': 0.832,\n",
              "  'support': 250},\n",
              " '49': {'f1-score': 0.7286527514231499,\n",
              "  'precision': 0.6931407942238267,\n",
              "  'recall': 0.768,\n",
              "  'support': 250},\n",
              " '5': {'f1-score': 0.7385229540918163,\n",
              "  'precision': 0.7370517928286853,\n",
              "  'recall': 0.74,\n",
              "  'support': 250},\n",
              " '50': {'f1-score': 0.7349177330895796,\n",
              "  'precision': 0.6767676767676768,\n",
              "  'recall': 0.804,\n",
              "  'support': 250},\n",
              " '51': {'f1-score': 0.8916155419222904,\n",
              "  'precision': 0.9121338912133892,\n",
              "  'recall': 0.872,\n",
              "  'support': 250},\n",
              " '52': {'f1-score': 0.8329896907216496,\n",
              "  'precision': 0.8595744680851064,\n",
              "  'recall': 0.808,\n",
              "  'support': 250},\n",
              " '53': {'f1-score': 0.8179959100204499,\n",
              "  'precision': 0.8368200836820083,\n",
              "  'recall': 0.8,\n",
              "  'support': 250},\n",
              " '54': {'f1-score': 0.924,\n",
              "  'precision': 0.924,\n",
              "  'recall': 0.924,\n",
              "  'support': 250},\n",
              " '55': {'f1-score': 0.8501026694045174,\n",
              "  'precision': 0.8734177215189873,\n",
              "  'recall': 0.828,\n",
              "  'support': 250},\n",
              " '56': {'f1-score': 0.700587084148728,\n",
              "  'precision': 0.685823754789272,\n",
              "  'recall': 0.716,\n",
              "  'support': 250},\n",
              " '57': {'f1-score': 0.7709923664122138,\n",
              "  'precision': 0.7372262773722628,\n",
              "  'recall': 0.808,\n",
              "  'support': 250},\n",
              " '58': {'f1-score': 0.7222222222222223,\n",
              "  'precision': 0.7752293577981652,\n",
              "  'recall': 0.676,\n",
              "  'support': 250},\n",
              " '59': {'f1-score': 0.7323943661971831,\n",
              "  'precision': 0.7368421052631579,\n",
              "  'recall': 0.728,\n",
              "  'support': 250},\n",
              " '6': {'f1-score': 0.8260038240917782,\n",
              "  'precision': 0.7912087912087912,\n",
              "  'recall': 0.864,\n",
              "  'support': 250},\n",
              " '60': {'f1-score': 0.8605108055009824,\n",
              "  'precision': 0.8455598455598455,\n",
              "  'recall': 0.876,\n",
              "  'support': 250},\n",
              " '61': {'f1-score': 0.9024390243902439,\n",
              "  'precision': 0.9173553719008265,\n",
              "  'recall': 0.888,\n",
              "  'support': 250},\n",
              " '62': {'f1-score': 0.8112449799196787,\n",
              "  'precision': 0.8145161290322581,\n",
              "  'recall': 0.808,\n",
              "  'support': 250},\n",
              " '63': {'f1-score': 0.9556451612903225,\n",
              "  'precision': 0.9634146341463414,\n",
              "  'recall': 0.948,\n",
              "  'support': 250},\n",
              " '64': {'f1-score': 0.9192546583850932,\n",
              "  'precision': 0.9527896995708155,\n",
              "  'recall': 0.888,\n",
              "  'support': 250},\n",
              " '65': {'f1-score': 0.9072164948453608,\n",
              "  'precision': 0.9361702127659575,\n",
              "  'recall': 0.88,\n",
              "  'support': 250},\n",
              " '66': {'f1-score': 0.8148148148148147,\n",
              "  'precision': 0.7946768060836502,\n",
              "  'recall': 0.836,\n",
              "  'support': 250},\n",
              " '67': {'f1-score': 0.7235772357723577,\n",
              "  'precision': 0.7355371900826446,\n",
              "  'recall': 0.712,\n",
              "  'support': 250},\n",
              " '68': {'f1-score': 0.8801571709233792,\n",
              "  'precision': 0.8648648648648649,\n",
              "  'recall': 0.896,\n",
              "  'support': 250},\n",
              " '69': {'f1-score': 0.9155206286836935,\n",
              "  'precision': 0.8996138996138996,\n",
              "  'recall': 0.932,\n",
              "  'support': 250},\n",
              " '7': {'f1-score': 0.9230769230769231,\n",
              "  'precision': 0.9344262295081968,\n",
              "  'recall': 0.912,\n",
              "  'support': 250},\n",
              " '70': {'f1-score': 0.9137254901960785,\n",
              "  'precision': 0.8961538461538462,\n",
              "  'recall': 0.932,\n",
              "  'support': 250},\n",
              " '71': {'f1-score': 0.8565400843881857,\n",
              "  'precision': 0.90625,\n",
              "  'recall': 0.812,\n",
              "  'support': 250},\n",
              " '72': {'f1-score': 0.8593448940269749,\n",
              "  'precision': 0.828996282527881,\n",
              "  'recall': 0.892,\n",
              "  'support': 250},\n",
              " '73': {'f1-score': 0.7820773930753564,\n",
              "  'precision': 0.7966804979253111,\n",
              "  'recall': 0.768,\n",
              "  'support': 250},\n",
              " '74': {'f1-score': 0.8315565031982942,\n",
              "  'precision': 0.8904109589041096,\n",
              "  'recall': 0.78,\n",
              "  'support': 250},\n",
              " '75': {'f1-score': 0.9258517034068137,\n",
              "  'precision': 0.927710843373494,\n",
              "  'recall': 0.924,\n",
              "  'support': 250},\n",
              " '76': {'f1-score': 0.873015873015873,\n",
              "  'precision': 0.8661417322834646,\n",
              "  'recall': 0.88,\n",
              "  'support': 250},\n",
              " '77': {'f1-score': 0.5736434108527131,\n",
              "  'precision': 0.556390977443609,\n",
              "  'recall': 0.592,\n",
              "  'support': 250},\n",
              " '78': {'f1-score': 0.8857142857142858,\n",
              "  'precision': 0.9041666666666667,\n",
              "  'recall': 0.868,\n",
              "  'support': 250},\n",
              " '79': {'f1-score': 0.8284023668639053,\n",
              "  'precision': 0.8171206225680934,\n",
              "  'recall': 0.84,\n",
              "  'support': 250},\n",
              " '8': {'f1-score': 0.6166328600405679,\n",
              "  'precision': 0.6255144032921811,\n",
              "  'recall': 0.608,\n",
              "  'support': 250},\n",
              " '80': {'f1-score': 0.7991803278688524,\n",
              "  'precision': 0.819327731092437,\n",
              "  'recall': 0.78,\n",
              "  'support': 250},\n",
              " '81': {'f1-score': 0.8362919132149901,\n",
              "  'precision': 0.8249027237354085,\n",
              "  'recall': 0.848,\n",
              "  'support': 250},\n",
              " '82': {'f1-score': 0.6184448462929476,\n",
              "  'precision': 0.5643564356435643,\n",
              "  'recall': 0.684,\n",
              "  'support': 250},\n",
              " '83': {'f1-score': 0.8521400778210118,\n",
              "  'precision': 0.8295454545454546,\n",
              "  'recall': 0.876,\n",
              "  'support': 250},\n",
              " '84': {'f1-score': 0.7298387096774195,\n",
              "  'precision': 0.7357723577235772,\n",
              "  'recall': 0.724,\n",
              "  'support': 250},\n",
              " '85': {'f1-score': 0.7777777777777778,\n",
              "  'precision': 0.7716535433070866,\n",
              "  'recall': 0.784,\n",
              "  'support': 250},\n",
              " '86': {'f1-score': 0.8884462151394423,\n",
              "  'precision': 0.8849206349206349,\n",
              "  'recall': 0.892,\n",
              "  'support': 250},\n",
              " '87': {'f1-score': 0.7065868263473054,\n",
              "  'precision': 0.7051792828685259,\n",
              "  'recall': 0.708,\n",
              "  'support': 250},\n",
              " '88': {'f1-score': 0.9131313131313132,\n",
              "  'precision': 0.9224489795918367,\n",
              "  'recall': 0.904,\n",
              "  'support': 250},\n",
              " '89': {'f1-score': 0.7695390781563127,\n",
              "  'precision': 0.7710843373493976,\n",
              "  'recall': 0.768,\n",
              "  'support': 250},\n",
              " '9': {'f1-score': 0.7046843177189409,\n",
              "  'precision': 0.7178423236514523,\n",
              "  'recall': 0.692,\n",
              "  'support': 250},\n",
              " '90': {'f1-score': 0.9221311475409836,\n",
              "  'precision': 0.9453781512605042,\n",
              "  'recall': 0.9,\n",
              "  'support': 250},\n",
              " '91': {'f1-score': 0.9197651663405089,\n",
              "  'precision': 0.9003831417624522,\n",
              "  'recall': 0.94,\n",
              "  'support': 250},\n",
              " '92': {'f1-score': 0.8117154811715482,\n",
              "  'precision': 0.8508771929824561,\n",
              "  'recall': 0.776,\n",
              "  'support': 250},\n",
              " '93': {'f1-score': 0.5518590998043053,\n",
              "  'precision': 0.5402298850574713,\n",
              "  'recall': 0.564,\n",
              "  'support': 250},\n",
              " '94': {'f1-score': 0.8078431372549019,\n",
              "  'precision': 0.7923076923076923,\n",
              "  'recall': 0.824,\n",
              "  'support': 250},\n",
              " '95': {'f1-score': 0.8559670781893003,\n",
              "  'precision': 0.8813559322033898,\n",
              "  'recall': 0.832,\n",
              "  'support': 250},\n",
              " '96': {'f1-score': 0.7568627450980393,\n",
              "  'precision': 0.7423076923076923,\n",
              "  'recall': 0.772,\n",
              "  'support': 250},\n",
              " '97': {'f1-score': 0.891566265060241,\n",
              "  'precision': 0.8951612903225806,\n",
              "  'recall': 0.888,\n",
              "  'support': 250},\n",
              " '98': {'f1-score': 0.7877551020408163,\n",
              "  'precision': 0.8041666666666667,\n",
              "  'recall': 0.772,\n",
              "  'support': 250},\n",
              " '99': {'f1-score': 0.6774193548387097,\n",
              "  'precision': 0.6829268292682927,\n",
              "  'recall': 0.672,\n",
              "  'support': 250},\n",
              " 'accuracy': 0.808950495049505,\n",
              " 'macro avg': {'f1-score': 0.8091692808972495,\n",
              "  'precision': 0.8108241370064322,\n",
              "  'recall': 0.808950495049505,\n",
              "  'support': 25250},\n",
              " 'weighted avg': {'f1-score': 0.8091692808972498,\n",
              "  'precision': 0.8108241370064323,\n",
              "  'recall': 0.808950495049505,\n",
              "  'support': 25250}}"
            ]
          },
          "execution_count": 100,
          "metadata": {},
          "output_type": "execute_result"
        }
      ],
      "source": [
        "class_report_dict"
      ]
    },
    {
      "cell_type": "code",
      "execution_count": null,
      "metadata": {
        "id": "8tZ82jq2OdAx"
      },
      "outputs": [],
      "source": [
        "# Create empty dictionary\n",
        "class_f1_scores = {}\n",
        "class_recall = {}\n",
        "class_precision = {}\n",
        "\n",
        "for k, v in class_report_dict.items():\n",
        "  if k == 'accuracy':\n",
        "    break;\n",
        "  else:\n",
        "    class_f1_scores[class_names[int(k)]] =v[\"f1-score\"]\n",
        "    class_recall[class_names[int(k)]] =v[\"recall\"]\n",
        "    class_precision[class_names[int(k)]] =v[\"precision\"]"
      ]
    },
    {
      "cell_type": "code",
      "execution_count": null,
      "metadata": {
        "id": "cyHTTKMGRnqG"
      },
      "outputs": [],
      "source": [
        "class_names=['apple_pie',\n",
        " 'baby_back_ribs',\n",
        " 'baklava',\n",
        " 'beef_carpaccio',\n",
        " 'beef_tartare',\n",
        " 'beet_salad',\n",
        " 'beignets',\n",
        " 'bibimbap',\n",
        " 'bread_pudding',\n",
        " 'breakfast_burrito',\n",
        " 'bruschetta',\n",
        " 'caesar_salad',\n",
        " 'cannoli',\n",
        " 'caprese_salad',\n",
        " 'carrot_cake',\n",
        " 'ceviche',\n",
        " 'cheesecake',\n",
        " 'cheese_plate',\n",
        " 'chicken_curry',\n",
        " 'chicken_quesadilla',\n",
        " 'chicken_wings',\n",
        " 'chocolate_cake',\n",
        " 'chocolate_mousse',\n",
        " 'churros',\n",
        " 'clam_chowder',\n",
        " 'club_sandwich',\n",
        " 'crab_cakes',\n",
        " 'creme_brulee',\n",
        " 'croque_madame',\n",
        " 'cup_cakes',\n",
        " 'deviled_eggs',\n",
        " 'donuts',\n",
        " 'dumplings',\n",
        " 'edamame',\n",
        " 'eggs_benedict',\n",
        " 'escargots',\n",
        " 'falafel',\n",
        " 'filet_mignon',\n",
        " 'fish_and_chips',\n",
        " 'foie_gras',\n",
        " 'french_fries',\n",
        " 'french_onion_soup',\n",
        " 'french_toast',\n",
        " 'fried_calamari',\n",
        " 'fried_rice',\n",
        " 'frozen_yogurt',\n",
        " 'garlic_bread',\n",
        " 'gnocchi',\n",
        " 'greek_salad',\n",
        " 'grilled_cheese_sandwich',\n",
        " 'grilled_salmon',\n",
        " 'guacamole',\n",
        " 'gyoza',\n",
        " 'hamburger',\n",
        " 'hot_and_sour_soup',\n",
        " 'hot_dog',\n",
        " 'huevos_rancheros',\n",
        " 'hummus',\n",
        " 'ice_cream',\n",
        " 'lasagna',\n",
        " 'lobster_bisque',\n",
        " 'lobster_roll_sandwich',\n",
        " 'macaroni_and_cheese',\n",
        " 'macarons',\n",
        " 'miso_soup',\n",
        " 'mussels',\n",
        " 'nachos',\n",
        " 'omelette',\n",
        " 'onion_rings',\n",
        " 'oysters',\n",
        " 'pad_thai',\n",
        " 'paella',\n",
        " 'pancakes',\n",
        " 'panna_cotta',\n",
        " 'peking_duck',\n",
        " 'pho',\n",
        " 'pizza',\n",
        " 'pork_chop',\n",
        " 'poutine',\n",
        " 'prime_rib',\n",
        " 'pulled_pork_sandwich',\n",
        " 'ramen',\n",
        " 'ravioli',\n",
        " 'red_velvet_cake',\n",
        " 'risotto',\n",
        " 'samosa',\n",
        " 'sashimi',\n",
        " 'scallops',\n",
        " 'seaweed_salad',\n",
        " 'shrimp_and_grits',\n",
        " 'spaghetti_bolognese',\n",
        " 'spaghetti_carbonara',\n",
        " 'spring_rolls',\n",
        " 'steak',\n",
        " 'strawberry_shortcake',\n",
        " 'sushi',\n",
        " 'tacos',\n",
        " 'takoyaki',\n",
        " 'tiramisu',\n",
        " 'tuna_tartare',\n",
        " 'waffles']"
      ]
    },
    {
      "cell_type": "code",
      "execution_count": null,
      "metadata": {
        "id": "FRq75JV4oa_d"
      },
      "outputs": [],
      "source": [
        "import pandas as pd\n",
        "\n",
        "f1_score_df= pd.DataFrame({\"class_name\": list(class_f1_scores.keys()),\n",
        "                          \"f1_score\": list(class_f1_scores.values())}).sort_values(\"f1_score\", ascending=False)\n",
        "\n",
        "recall_df= pd.DataFrame({\"class_name\": list(class_recall.keys()),\n",
        "                          \"recall\": list(class_recall.values())}).sort_values(\"recall\", ascending=False)\n",
        "\n",
        "precision_df= pd.DataFrame({\"class_name\": list(class_precision.keys()),\n",
        "                          \"precision\": list(class_precision.values())}).sort_values(\"precision\", ascending=False)"
      ]
    },
    {
      "cell_type": "code",
      "execution_count": null,
      "metadata": {
        "colab": {
          "base_uri": "https://localhost:8080/",
          "height": 419
        },
        "id": "FWUbf-OzpFqh",
        "outputId": "a714cfba-4f66-4bd2-9163-76ae822dcf63"
      },
      "outputs": [
        {
          "data": {
            "text/html": [
              "\n",
              "  <div id=\"df-8b782823-70b5-4fa3-8522-844fd4276f3e\">\n",
              "    <div class=\"colab-df-container\">\n",
              "      <div>\n",
              "<style scoped>\n",
              "    .dataframe tbody tr th:only-of-type {\n",
              "        vertical-align: middle;\n",
              "    }\n",
              "\n",
              "    .dataframe tbody tr th {\n",
              "        vertical-align: top;\n",
              "    }\n",
              "\n",
              "    .dataframe thead th {\n",
              "        text-align: right;\n",
              "    }\n",
              "</style>\n",
              "<table border=\"1\" class=\"dataframe\">\n",
              "  <thead>\n",
              "    <tr style=\"text-align: right;\">\n",
              "      <th></th>\n",
              "      <th>class_name</th>\n",
              "      <th>f1_score</th>\n",
              "    </tr>\n",
              "  </thead>\n",
              "  <tbody>\n",
              "    <tr>\n",
              "      <th>33</th>\n",
              "      <td>edamame</td>\n",
              "      <td>0.987952</td>\n",
              "    </tr>\n",
              "    <tr>\n",
              "      <th>63</th>\n",
              "      <td>macarons</td>\n",
              "      <td>0.955645</td>\n",
              "    </tr>\n",
              "    <tr>\n",
              "      <th>75</th>\n",
              "      <td>pho</td>\n",
              "      <td>0.925852</td>\n",
              "    </tr>\n",
              "    <tr>\n",
              "      <th>54</th>\n",
              "      <td>hot_and_sour_soup</td>\n",
              "      <td>0.924000</td>\n",
              "    </tr>\n",
              "    <tr>\n",
              "      <th>7</th>\n",
              "      <td>bibimbap</td>\n",
              "      <td>0.923077</td>\n",
              "    </tr>\n",
              "    <tr>\n",
              "      <th>...</th>\n",
              "      <td>...</td>\n",
              "      <td>...</td>\n",
              "    </tr>\n",
              "    <tr>\n",
              "      <th>22</th>\n",
              "      <td>chocolate_mousse</td>\n",
              "      <td>0.615063</td>\n",
              "    </tr>\n",
              "    <tr>\n",
              "      <th>39</th>\n",
              "      <td>foie_gras</td>\n",
              "      <td>0.602972</td>\n",
              "    </tr>\n",
              "    <tr>\n",
              "      <th>0</th>\n",
              "      <td>apple_pie</td>\n",
              "      <td>0.575453</td>\n",
              "    </tr>\n",
              "    <tr>\n",
              "      <th>77</th>\n",
              "      <td>pork_chop</td>\n",
              "      <td>0.573643</td>\n",
              "    </tr>\n",
              "    <tr>\n",
              "      <th>93</th>\n",
              "      <td>steak</td>\n",
              "      <td>0.551859</td>\n",
              "    </tr>\n",
              "  </tbody>\n",
              "</table>\n",
              "<p>101 rows × 2 columns</p>\n",
              "</div>\n",
              "      <button class=\"colab-df-convert\" onclick=\"convertToInteractive('df-8b782823-70b5-4fa3-8522-844fd4276f3e')\"\n",
              "              title=\"Convert this dataframe to an interactive table.\"\n",
              "              style=\"display:none;\">\n",
              "        \n",
              "  <svg xmlns=\"http://www.w3.org/2000/svg\" height=\"24px\"viewBox=\"0 0 24 24\"\n",
              "       width=\"24px\">\n",
              "    <path d=\"M0 0h24v24H0V0z\" fill=\"none\"/>\n",
              "    <path d=\"M18.56 5.44l.94 2.06.94-2.06 2.06-.94-2.06-.94-.94-2.06-.94 2.06-2.06.94zm-11 1L8.5 8.5l.94-2.06 2.06-.94-2.06-.94L8.5 2.5l-.94 2.06-2.06.94zm10 10l.94 2.06.94-2.06 2.06-.94-2.06-.94-.94-2.06-.94 2.06-2.06.94z\"/><path d=\"M17.41 7.96l-1.37-1.37c-.4-.4-.92-.59-1.43-.59-.52 0-1.04.2-1.43.59L10.3 9.45l-7.72 7.72c-.78.78-.78 2.05 0 2.83L4 21.41c.39.39.9.59 1.41.59.51 0 1.02-.2 1.41-.59l7.78-7.78 2.81-2.81c.8-.78.8-2.07 0-2.86zM5.41 20L4 18.59l7.72-7.72 1.47 1.35L5.41 20z\"/>\n",
              "  </svg>\n",
              "      </button>\n",
              "      \n",
              "  <style>\n",
              "    .colab-df-container {\n",
              "      display:flex;\n",
              "      flex-wrap:wrap;\n",
              "      gap: 12px;\n",
              "    }\n",
              "\n",
              "    .colab-df-convert {\n",
              "      background-color: #E8F0FE;\n",
              "      border: none;\n",
              "      border-radius: 50%;\n",
              "      cursor: pointer;\n",
              "      display: none;\n",
              "      fill: #1967D2;\n",
              "      height: 32px;\n",
              "      padding: 0 0 0 0;\n",
              "      width: 32px;\n",
              "    }\n",
              "\n",
              "    .colab-df-convert:hover {\n",
              "      background-color: #E2EBFA;\n",
              "      box-shadow: 0px 1px 2px rgba(60, 64, 67, 0.3), 0px 1px 3px 1px rgba(60, 64, 67, 0.15);\n",
              "      fill: #174EA6;\n",
              "    }\n",
              "\n",
              "    [theme=dark] .colab-df-convert {\n",
              "      background-color: #3B4455;\n",
              "      fill: #D2E3FC;\n",
              "    }\n",
              "\n",
              "    [theme=dark] .colab-df-convert:hover {\n",
              "      background-color: #434B5C;\n",
              "      box-shadow: 0px 1px 3px 1px rgba(0, 0, 0, 0.15);\n",
              "      filter: drop-shadow(0px 1px 2px rgba(0, 0, 0, 0.3));\n",
              "      fill: #FFFFFF;\n",
              "    }\n",
              "  </style>\n",
              "\n",
              "      <script>\n",
              "        const buttonEl =\n",
              "          document.querySelector('#df-8b782823-70b5-4fa3-8522-844fd4276f3e button.colab-df-convert');\n",
              "        buttonEl.style.display =\n",
              "          google.colab.kernel.accessAllowed ? 'block' : 'none';\n",
              "\n",
              "        async function convertToInteractive(key) {\n",
              "          const element = document.querySelector('#df-8b782823-70b5-4fa3-8522-844fd4276f3e');\n",
              "          const dataTable =\n",
              "            await google.colab.kernel.invokeFunction('convertToInteractive',\n",
              "                                                     [key], {});\n",
              "          if (!dataTable) return;\n",
              "\n",
              "          const docLinkHtml = 'Like what you see? Visit the ' +\n",
              "            '<a target=\"_blank\" href=https://colab.research.google.com/notebooks/data_table.ipynb>data table notebook</a>'\n",
              "            + ' to learn more about interactive tables.';\n",
              "          element.innerHTML = '';\n",
              "          dataTable['output_type'] = 'display_data';\n",
              "          await google.colab.output.renderOutput(dataTable, element);\n",
              "          const docLink = document.createElement('div');\n",
              "          docLink.innerHTML = docLinkHtml;\n",
              "          element.appendChild(docLink);\n",
              "        }\n",
              "      </script>\n",
              "    </div>\n",
              "  </div>\n",
              "  "
            ],
            "text/plain": [
              "           class_name  f1_score\n",
              "33            edamame  0.987952\n",
              "63           macarons  0.955645\n",
              "75                pho  0.925852\n",
              "54  hot_and_sour_soup  0.924000\n",
              "7            bibimbap  0.923077\n",
              "..                ...       ...\n",
              "22   chocolate_mousse  0.615063\n",
              "39          foie_gras  0.602972\n",
              "0           apple_pie  0.575453\n",
              "77          pork_chop  0.573643\n",
              "93              steak  0.551859\n",
              "\n",
              "[101 rows x 2 columns]"
            ]
          },
          "execution_count": 111,
          "metadata": {},
          "output_type": "execute_result"
        }
      ],
      "source": [
        "f1_score_df"
      ]
    },
    {
      "cell_type": "code",
      "execution_count": null,
      "metadata": {
        "colab": {
          "base_uri": "https://localhost:8080/",
          "height": 204
        },
        "id": "90CzH5fApn9r",
        "outputId": "14746930-647c-4fab-90cd-c77412e15074"
      },
      "outputs": [
        {
          "data": {
            "text/html": [
              "\n",
              "  <div id=\"df-6767f909-98d3-43f8-b584-bef9f010ae8f\">\n",
              "    <div class=\"colab-df-container\">\n",
              "      <div>\n",
              "<style scoped>\n",
              "    .dataframe tbody tr th:only-of-type {\n",
              "        vertical-align: middle;\n",
              "    }\n",
              "\n",
              "    .dataframe tbody tr th {\n",
              "        vertical-align: top;\n",
              "    }\n",
              "\n",
              "    .dataframe thead th {\n",
              "        text-align: right;\n",
              "    }\n",
              "</style>\n",
              "<table border=\"1\" class=\"dataframe\">\n",
              "  <thead>\n",
              "    <tr style=\"text-align: right;\">\n",
              "      <th></th>\n",
              "      <th>y_true</th>\n",
              "      <th>y_pred</th>\n",
              "      <th>pred_conf</th>\n",
              "      <th>y_true_classname</th>\n",
              "      <th>y_pred_classname</th>\n",
              "    </tr>\n",
              "  </thead>\n",
              "  <tbody>\n",
              "    <tr>\n",
              "      <th>0</th>\n",
              "      <td>29</td>\n",
              "      <td>29</td>\n",
              "      <td>1.000000</td>\n",
              "      <td>cup_cakes</td>\n",
              "      <td>cup_cakes</td>\n",
              "    </tr>\n",
              "    <tr>\n",
              "      <th>1</th>\n",
              "      <td>81</td>\n",
              "      <td>81</td>\n",
              "      <td>0.999157</td>\n",
              "      <td>ramen</td>\n",
              "      <td>ramen</td>\n",
              "    </tr>\n",
              "    <tr>\n",
              "      <th>2</th>\n",
              "      <td>91</td>\n",
              "      <td>91</td>\n",
              "      <td>0.999982</td>\n",
              "      <td>spaghetti_carbonara</td>\n",
              "      <td>spaghetti_carbonara</td>\n",
              "    </tr>\n",
              "    <tr>\n",
              "      <th>3</th>\n",
              "      <td>53</td>\n",
              "      <td>53</td>\n",
              "      <td>0.999944</td>\n",
              "      <td>hamburger</td>\n",
              "      <td>hamburger</td>\n",
              "    </tr>\n",
              "    <tr>\n",
              "      <th>4</th>\n",
              "      <td>97</td>\n",
              "      <td>97</td>\n",
              "      <td>0.999967</td>\n",
              "      <td>takoyaki</td>\n",
              "      <td>takoyaki</td>\n",
              "    </tr>\n",
              "  </tbody>\n",
              "</table>\n",
              "</div>\n",
              "      <button class=\"colab-df-convert\" onclick=\"convertToInteractive('df-6767f909-98d3-43f8-b584-bef9f010ae8f')\"\n",
              "              title=\"Convert this dataframe to an interactive table.\"\n",
              "              style=\"display:none;\">\n",
              "        \n",
              "  <svg xmlns=\"http://www.w3.org/2000/svg\" height=\"24px\"viewBox=\"0 0 24 24\"\n",
              "       width=\"24px\">\n",
              "    <path d=\"M0 0h24v24H0V0z\" fill=\"none\"/>\n",
              "    <path d=\"M18.56 5.44l.94 2.06.94-2.06 2.06-.94-2.06-.94-.94-2.06-.94 2.06-2.06.94zm-11 1L8.5 8.5l.94-2.06 2.06-.94-2.06-.94L8.5 2.5l-.94 2.06-2.06.94zm10 10l.94 2.06.94-2.06 2.06-.94-2.06-.94-.94-2.06-.94 2.06-2.06.94z\"/><path d=\"M17.41 7.96l-1.37-1.37c-.4-.4-.92-.59-1.43-.59-.52 0-1.04.2-1.43.59L10.3 9.45l-7.72 7.72c-.78.78-.78 2.05 0 2.83L4 21.41c.39.39.9.59 1.41.59.51 0 1.02-.2 1.41-.59l7.78-7.78 2.81-2.81c.8-.78.8-2.07 0-2.86zM5.41 20L4 18.59l7.72-7.72 1.47 1.35L5.41 20z\"/>\n",
              "  </svg>\n",
              "      </button>\n",
              "      \n",
              "  <style>\n",
              "    .colab-df-container {\n",
              "      display:flex;\n",
              "      flex-wrap:wrap;\n",
              "      gap: 12px;\n",
              "    }\n",
              "\n",
              "    .colab-df-convert {\n",
              "      background-color: #E8F0FE;\n",
              "      border: none;\n",
              "      border-radius: 50%;\n",
              "      cursor: pointer;\n",
              "      display: none;\n",
              "      fill: #1967D2;\n",
              "      height: 32px;\n",
              "      padding: 0 0 0 0;\n",
              "      width: 32px;\n",
              "    }\n",
              "\n",
              "    .colab-df-convert:hover {\n",
              "      background-color: #E2EBFA;\n",
              "      box-shadow: 0px 1px 2px rgba(60, 64, 67, 0.3), 0px 1px 3px 1px rgba(60, 64, 67, 0.15);\n",
              "      fill: #174EA6;\n",
              "    }\n",
              "\n",
              "    [theme=dark] .colab-df-convert {\n",
              "      background-color: #3B4455;\n",
              "      fill: #D2E3FC;\n",
              "    }\n",
              "\n",
              "    [theme=dark] .colab-df-convert:hover {\n",
              "      background-color: #434B5C;\n",
              "      box-shadow: 0px 1px 3px 1px rgba(0, 0, 0, 0.15);\n",
              "      filter: drop-shadow(0px 1px 2px rgba(0, 0, 0, 0.3));\n",
              "      fill: #FFFFFF;\n",
              "    }\n",
              "  </style>\n",
              "\n",
              "      <script>\n",
              "        const buttonEl =\n",
              "          document.querySelector('#df-6767f909-98d3-43f8-b584-bef9f010ae8f button.colab-df-convert');\n",
              "        buttonEl.style.display =\n",
              "          google.colab.kernel.accessAllowed ? 'block' : 'none';\n",
              "\n",
              "        async function convertToInteractive(key) {\n",
              "          const element = document.querySelector('#df-6767f909-98d3-43f8-b584-bef9f010ae8f');\n",
              "          const dataTable =\n",
              "            await google.colab.kernel.invokeFunction('convertToInteractive',\n",
              "                                                     [key], {});\n",
              "          if (!dataTable) return;\n",
              "\n",
              "          const docLinkHtml = 'Like what you see? Visit the ' +\n",
              "            '<a target=\"_blank\" href=https://colab.research.google.com/notebooks/data_table.ipynb>data table notebook</a>'\n",
              "            + ' to learn more about interactive tables.';\n",
              "          element.innerHTML = '';\n",
              "          dataTable['output_type'] = 'display_data';\n",
              "          await google.colab.output.renderOutput(dataTable, element);\n",
              "          const docLink = document.createElement('div');\n",
              "          docLink.innerHTML = docLinkHtml;\n",
              "          element.appendChild(docLink);\n",
              "        }\n",
              "      </script>\n",
              "    </div>\n",
              "  </div>\n",
              "  "
            ],
            "text/plain": [
              "   y_true  y_pred  pred_conf     y_true_classname     y_pred_classname\n",
              "0      29      29   1.000000            cup_cakes            cup_cakes\n",
              "1      81      81   0.999157                ramen                ramen\n",
              "2      91      91   0.999982  spaghetti_carbonara  spaghetti_carbonara\n",
              "3      53      53   0.999944            hamburger            hamburger\n",
              "4      97      97   0.999967             takoyaki             takoyaki"
            ]
          },
          "execution_count": 112,
          "metadata": {},
          "output_type": "execute_result"
        }
      ],
      "source": [
        "# 2Create a dataframe out of current prediction data for analysis\n",
        "import pandas as pd\n",
        "pred_df = pd.DataFrame({\"y_true\": y_labels,\n",
        "                        \"y_pred\": pred_classes,\n",
        "                        \"pred_conf\": pred_probs.max(axis=1), # get the maximum prediction probability value\n",
        "                        \"y_true_classname\": [class_names[i] for i in y_labels],\n",
        "                        \"y_pred_classname\": [class_names[i] for i in pred_classes]}) \n",
        "pred_df.head()"
      ]
    },
    {
      "cell_type": "code",
      "execution_count": null,
      "metadata": {
        "colab": {
          "base_uri": "https://localhost:8080/",
          "height": 419
        },
        "id": "Qao0ytR8r2Yt",
        "outputId": "2e0c8a41-d75d-49c8-d227-49d622ee0d29"
      },
      "outputs": [
        {
          "data": {
            "text/html": [
              "\n",
              "  <div id=\"df-10aadc02-3876-46af-8941-f02db563002f\">\n",
              "    <div class=\"colab-df-container\">\n",
              "      <div>\n",
              "<style scoped>\n",
              "    .dataframe tbody tr th:only-of-type {\n",
              "        vertical-align: middle;\n",
              "    }\n",
              "\n",
              "    .dataframe tbody tr th {\n",
              "        vertical-align: top;\n",
              "    }\n",
              "\n",
              "    .dataframe thead th {\n",
              "        text-align: right;\n",
              "    }\n",
              "</style>\n",
              "<table border=\"1\" class=\"dataframe\">\n",
              "  <thead>\n",
              "    <tr style=\"text-align: right;\">\n",
              "      <th></th>\n",
              "      <th>y_true</th>\n",
              "      <th>y_pred</th>\n",
              "      <th>pred_conf</th>\n",
              "      <th>y_true_classname</th>\n",
              "      <th>y_pred_classname</th>\n",
              "      <th>pred_correct</th>\n",
              "    </tr>\n",
              "  </thead>\n",
              "  <tbody>\n",
              "    <tr>\n",
              "      <th>0</th>\n",
              "      <td>29</td>\n",
              "      <td>29</td>\n",
              "      <td>1.000000</td>\n",
              "      <td>cup_cakes</td>\n",
              "      <td>cup_cakes</td>\n",
              "      <td>True</td>\n",
              "    </tr>\n",
              "    <tr>\n",
              "      <th>1</th>\n",
              "      <td>81</td>\n",
              "      <td>81</td>\n",
              "      <td>0.999157</td>\n",
              "      <td>ramen</td>\n",
              "      <td>ramen</td>\n",
              "      <td>True</td>\n",
              "    </tr>\n",
              "    <tr>\n",
              "      <th>2</th>\n",
              "      <td>91</td>\n",
              "      <td>91</td>\n",
              "      <td>0.999982</td>\n",
              "      <td>spaghetti_carbonara</td>\n",
              "      <td>spaghetti_carbonara</td>\n",
              "      <td>True</td>\n",
              "    </tr>\n",
              "    <tr>\n",
              "      <th>3</th>\n",
              "      <td>53</td>\n",
              "      <td>53</td>\n",
              "      <td>0.999944</td>\n",
              "      <td>hamburger</td>\n",
              "      <td>hamburger</td>\n",
              "      <td>True</td>\n",
              "    </tr>\n",
              "    <tr>\n",
              "      <th>4</th>\n",
              "      <td>97</td>\n",
              "      <td>97</td>\n",
              "      <td>0.999967</td>\n",
              "      <td>takoyaki</td>\n",
              "      <td>takoyaki</td>\n",
              "      <td>True</td>\n",
              "    </tr>\n",
              "    <tr>\n",
              "      <th>...</th>\n",
              "      <td>...</td>\n",
              "      <td>...</td>\n",
              "      <td>...</td>\n",
              "      <td>...</td>\n",
              "      <td>...</td>\n",
              "      <td>...</td>\n",
              "    </tr>\n",
              "    <tr>\n",
              "      <th>25245</th>\n",
              "      <td>38</td>\n",
              "      <td>38</td>\n",
              "      <td>1.000000</td>\n",
              "      <td>fish_and_chips</td>\n",
              "      <td>fish_and_chips</td>\n",
              "      <td>True</td>\n",
              "    </tr>\n",
              "    <tr>\n",
              "      <th>25246</th>\n",
              "      <td>86</td>\n",
              "      <td>86</td>\n",
              "      <td>0.999990</td>\n",
              "      <td>sashimi</td>\n",
              "      <td>sashimi</td>\n",
              "      <td>True</td>\n",
              "    </tr>\n",
              "    <tr>\n",
              "      <th>25247</th>\n",
              "      <td>76</td>\n",
              "      <td>46</td>\n",
              "      <td>0.936617</td>\n",
              "      <td>pizza</td>\n",
              "      <td>garlic_bread</td>\n",
              "      <td>False</td>\n",
              "    </tr>\n",
              "    <tr>\n",
              "      <th>25248</th>\n",
              "      <td>31</td>\n",
              "      <td>31</td>\n",
              "      <td>1.000000</td>\n",
              "      <td>donuts</td>\n",
              "      <td>donuts</td>\n",
              "      <td>True</td>\n",
              "    </tr>\n",
              "    <tr>\n",
              "      <th>25249</th>\n",
              "      <td>21</td>\n",
              "      <td>21</td>\n",
              "      <td>0.702530</td>\n",
              "      <td>chocolate_cake</td>\n",
              "      <td>chocolate_cake</td>\n",
              "      <td>True</td>\n",
              "    </tr>\n",
              "  </tbody>\n",
              "</table>\n",
              "<p>25250 rows × 6 columns</p>\n",
              "</div>\n",
              "      <button class=\"colab-df-convert\" onclick=\"convertToInteractive('df-10aadc02-3876-46af-8941-f02db563002f')\"\n",
              "              title=\"Convert this dataframe to an interactive table.\"\n",
              "              style=\"display:none;\">\n",
              "        \n",
              "  <svg xmlns=\"http://www.w3.org/2000/svg\" height=\"24px\"viewBox=\"0 0 24 24\"\n",
              "       width=\"24px\">\n",
              "    <path d=\"M0 0h24v24H0V0z\" fill=\"none\"/>\n",
              "    <path d=\"M18.56 5.44l.94 2.06.94-2.06 2.06-.94-2.06-.94-.94-2.06-.94 2.06-2.06.94zm-11 1L8.5 8.5l.94-2.06 2.06-.94-2.06-.94L8.5 2.5l-.94 2.06-2.06.94zm10 10l.94 2.06.94-2.06 2.06-.94-2.06-.94-.94-2.06-.94 2.06-2.06.94z\"/><path d=\"M17.41 7.96l-1.37-1.37c-.4-.4-.92-.59-1.43-.59-.52 0-1.04.2-1.43.59L10.3 9.45l-7.72 7.72c-.78.78-.78 2.05 0 2.83L4 21.41c.39.39.9.59 1.41.59.51 0 1.02-.2 1.41-.59l7.78-7.78 2.81-2.81c.8-.78.8-2.07 0-2.86zM5.41 20L4 18.59l7.72-7.72 1.47 1.35L5.41 20z\"/>\n",
              "  </svg>\n",
              "      </button>\n",
              "      \n",
              "  <style>\n",
              "    .colab-df-container {\n",
              "      display:flex;\n",
              "      flex-wrap:wrap;\n",
              "      gap: 12px;\n",
              "    }\n",
              "\n",
              "    .colab-df-convert {\n",
              "      background-color: #E8F0FE;\n",
              "      border: none;\n",
              "      border-radius: 50%;\n",
              "      cursor: pointer;\n",
              "      display: none;\n",
              "      fill: #1967D2;\n",
              "      height: 32px;\n",
              "      padding: 0 0 0 0;\n",
              "      width: 32px;\n",
              "    }\n",
              "\n",
              "    .colab-df-convert:hover {\n",
              "      background-color: #E2EBFA;\n",
              "      box-shadow: 0px 1px 2px rgba(60, 64, 67, 0.3), 0px 1px 3px 1px rgba(60, 64, 67, 0.15);\n",
              "      fill: #174EA6;\n",
              "    }\n",
              "\n",
              "    [theme=dark] .colab-df-convert {\n",
              "      background-color: #3B4455;\n",
              "      fill: #D2E3FC;\n",
              "    }\n",
              "\n",
              "    [theme=dark] .colab-df-convert:hover {\n",
              "      background-color: #434B5C;\n",
              "      box-shadow: 0px 1px 3px 1px rgba(0, 0, 0, 0.15);\n",
              "      filter: drop-shadow(0px 1px 2px rgba(0, 0, 0, 0.3));\n",
              "      fill: #FFFFFF;\n",
              "    }\n",
              "  </style>\n",
              "\n",
              "      <script>\n",
              "        const buttonEl =\n",
              "          document.querySelector('#df-10aadc02-3876-46af-8941-f02db563002f button.colab-df-convert');\n",
              "        buttonEl.style.display =\n",
              "          google.colab.kernel.accessAllowed ? 'block' : 'none';\n",
              "\n",
              "        async function convertToInteractive(key) {\n",
              "          const element = document.querySelector('#df-10aadc02-3876-46af-8941-f02db563002f');\n",
              "          const dataTable =\n",
              "            await google.colab.kernel.invokeFunction('convertToInteractive',\n",
              "                                                     [key], {});\n",
              "          if (!dataTable) return;\n",
              "\n",
              "          const docLinkHtml = 'Like what you see? Visit the ' +\n",
              "            '<a target=\"_blank\" href=https://colab.research.google.com/notebooks/data_table.ipynb>data table notebook</a>'\n",
              "            + ' to learn more about interactive tables.';\n",
              "          element.innerHTML = '';\n",
              "          dataTable['output_type'] = 'display_data';\n",
              "          await google.colab.output.renderOutput(dataTable, element);\n",
              "          const docLink = document.createElement('div');\n",
              "          docLink.innerHTML = docLinkHtml;\n",
              "          element.appendChild(docLink);\n",
              "        }\n",
              "      </script>\n",
              "    </div>\n",
              "  </div>\n",
              "  "
            ],
            "text/plain": [
              "       y_true  y_pred  pred_conf     y_true_classname     y_pred_classname  \\\n",
              "0          29      29   1.000000            cup_cakes            cup_cakes   \n",
              "1          81      81   0.999157                ramen                ramen   \n",
              "2          91      91   0.999982  spaghetti_carbonara  spaghetti_carbonara   \n",
              "3          53      53   0.999944            hamburger            hamburger   \n",
              "4          97      97   0.999967             takoyaki             takoyaki   \n",
              "...       ...     ...        ...                  ...                  ...   \n",
              "25245      38      38   1.000000       fish_and_chips       fish_and_chips   \n",
              "25246      86      86   0.999990              sashimi              sashimi   \n",
              "25247      76      46   0.936617                pizza         garlic_bread   \n",
              "25248      31      31   1.000000               donuts               donuts   \n",
              "25249      21      21   0.702530       chocolate_cake       chocolate_cake   \n",
              "\n",
              "       pred_correct  \n",
              "0              True  \n",
              "1              True  \n",
              "2              True  \n",
              "3              True  \n",
              "4              True  \n",
              "...             ...  \n",
              "25245          True  \n",
              "25246          True  \n",
              "25247         False  \n",
              "25248          True  \n",
              "25249          True  \n",
              "\n",
              "[25250 rows x 6 columns]"
            ]
          },
          "execution_count": 113,
          "metadata": {},
          "output_type": "execute_result"
        }
      ],
      "source": [
        "pred_df[\"pred_correct\"]= pred_df['y_true'] == pred_df['y_pred']\n",
        "pred_df"
      ]
    },
    {
      "cell_type": "code",
      "execution_count": null,
      "metadata": {
        "colab": {
          "base_uri": "https://localhost:8080/",
          "height": 419
        },
        "id": "F3GsRgttsH1U",
        "outputId": "793ab4c0-155e-4692-a1e7-e0c0a2e14481"
      },
      "outputs": [
        {
          "data": {
            "text/html": [
              "\n",
              "  <div id=\"df-a9918e43-6ad1-42c2-a0b4-b251bea4139e\">\n",
              "    <div class=\"colab-df-container\">\n",
              "      <div>\n",
              "<style scoped>\n",
              "    .dataframe tbody tr th:only-of-type {\n",
              "        vertical-align: middle;\n",
              "    }\n",
              "\n",
              "    .dataframe tbody tr th {\n",
              "        vertical-align: top;\n",
              "    }\n",
              "\n",
              "    .dataframe thead th {\n",
              "        text-align: right;\n",
              "    }\n",
              "</style>\n",
              "<table border=\"1\" class=\"dataframe\">\n",
              "  <thead>\n",
              "    <tr style=\"text-align: right;\">\n",
              "      <th></th>\n",
              "      <th>y_true</th>\n",
              "      <th>y_pred</th>\n",
              "      <th>pred_conf</th>\n",
              "      <th>y_true_classname</th>\n",
              "      <th>y_pred_classname</th>\n",
              "      <th>pred_correct</th>\n",
              "    </tr>\n",
              "  </thead>\n",
              "  <tbody>\n",
              "    <tr>\n",
              "      <th>17351</th>\n",
              "      <td>92</td>\n",
              "      <td>85</td>\n",
              "      <td>1.000000</td>\n",
              "      <td>spring_rolls</td>\n",
              "      <td>samosa</td>\n",
              "      <td>False</td>\n",
              "    </tr>\n",
              "    <tr>\n",
              "      <th>7853</th>\n",
              "      <td>71</td>\n",
              "      <td>87</td>\n",
              "      <td>1.000000</td>\n",
              "      <td>paella</td>\n",
              "      <td>scallops</td>\n",
              "      <td>False</td>\n",
              "    </tr>\n",
              "    <tr>\n",
              "      <th>14723</th>\n",
              "      <td>58</td>\n",
              "      <td>100</td>\n",
              "      <td>1.000000</td>\n",
              "      <td>ice_cream</td>\n",
              "      <td>waffles</td>\n",
              "      <td>False</td>\n",
              "    </tr>\n",
              "    <tr>\n",
              "      <th>1113</th>\n",
              "      <td>72</td>\n",
              "      <td>67</td>\n",
              "      <td>1.000000</td>\n",
              "      <td>pancakes</td>\n",
              "      <td>omelette</td>\n",
              "      <td>False</td>\n",
              "    </tr>\n",
              "    <tr>\n",
              "      <th>2213</th>\n",
              "      <td>16</td>\n",
              "      <td>98</td>\n",
              "      <td>1.000000</td>\n",
              "      <td>cheesecake</td>\n",
              "      <td>tiramisu</td>\n",
              "      <td>False</td>\n",
              "    </tr>\n",
              "    <tr>\n",
              "      <th>...</th>\n",
              "      <td>...</td>\n",
              "      <td>...</td>\n",
              "      <td>...</td>\n",
              "      <td>...</td>\n",
              "      <td>...</td>\n",
              "      <td>...</td>\n",
              "    </tr>\n",
              "    <tr>\n",
              "      <th>23327</th>\n",
              "      <td>73</td>\n",
              "      <td>94</td>\n",
              "      <td>0.999993</td>\n",
              "      <td>panna_cotta</td>\n",
              "      <td>strawberry_shortcake</td>\n",
              "      <td>False</td>\n",
              "    </tr>\n",
              "    <tr>\n",
              "      <th>6603</th>\n",
              "      <td>86</td>\n",
              "      <td>95</td>\n",
              "      <td>0.999992</td>\n",
              "      <td>sashimi</td>\n",
              "      <td>sushi</td>\n",
              "      <td>False</td>\n",
              "    </tr>\n",
              "    <tr>\n",
              "      <th>10483</th>\n",
              "      <td>92</td>\n",
              "      <td>40</td>\n",
              "      <td>0.999992</td>\n",
              "      <td>spring_rolls</td>\n",
              "      <td>french_fries</td>\n",
              "      <td>False</td>\n",
              "    </tr>\n",
              "    <tr>\n",
              "      <th>2226</th>\n",
              "      <td>86</td>\n",
              "      <td>95</td>\n",
              "      <td>0.999992</td>\n",
              "      <td>sashimi</td>\n",
              "      <td>sushi</td>\n",
              "      <td>False</td>\n",
              "    </tr>\n",
              "    <tr>\n",
              "      <th>11633</th>\n",
              "      <td>34</td>\n",
              "      <td>53</td>\n",
              "      <td>0.999992</td>\n",
              "      <td>eggs_benedict</td>\n",
              "      <td>hamburger</td>\n",
              "      <td>False</td>\n",
              "    </tr>\n",
              "  </tbody>\n",
              "</table>\n",
              "<p>100 rows × 6 columns</p>\n",
              "</div>\n",
              "      <button class=\"colab-df-convert\" onclick=\"convertToInteractive('df-a9918e43-6ad1-42c2-a0b4-b251bea4139e')\"\n",
              "              title=\"Convert this dataframe to an interactive table.\"\n",
              "              style=\"display:none;\">\n",
              "        \n",
              "  <svg xmlns=\"http://www.w3.org/2000/svg\" height=\"24px\"viewBox=\"0 0 24 24\"\n",
              "       width=\"24px\">\n",
              "    <path d=\"M0 0h24v24H0V0z\" fill=\"none\"/>\n",
              "    <path d=\"M18.56 5.44l.94 2.06.94-2.06 2.06-.94-2.06-.94-.94-2.06-.94 2.06-2.06.94zm-11 1L8.5 8.5l.94-2.06 2.06-.94-2.06-.94L8.5 2.5l-.94 2.06-2.06.94zm10 10l.94 2.06.94-2.06 2.06-.94-2.06-.94-.94-2.06-.94 2.06-2.06.94z\"/><path d=\"M17.41 7.96l-1.37-1.37c-.4-.4-.92-.59-1.43-.59-.52 0-1.04.2-1.43.59L10.3 9.45l-7.72 7.72c-.78.78-.78 2.05 0 2.83L4 21.41c.39.39.9.59 1.41.59.51 0 1.02-.2 1.41-.59l7.78-7.78 2.81-2.81c.8-.78.8-2.07 0-2.86zM5.41 20L4 18.59l7.72-7.72 1.47 1.35L5.41 20z\"/>\n",
              "  </svg>\n",
              "      </button>\n",
              "      \n",
              "  <style>\n",
              "    .colab-df-container {\n",
              "      display:flex;\n",
              "      flex-wrap:wrap;\n",
              "      gap: 12px;\n",
              "    }\n",
              "\n",
              "    .colab-df-convert {\n",
              "      background-color: #E8F0FE;\n",
              "      border: none;\n",
              "      border-radius: 50%;\n",
              "      cursor: pointer;\n",
              "      display: none;\n",
              "      fill: #1967D2;\n",
              "      height: 32px;\n",
              "      padding: 0 0 0 0;\n",
              "      width: 32px;\n",
              "    }\n",
              "\n",
              "    .colab-df-convert:hover {\n",
              "      background-color: #E2EBFA;\n",
              "      box-shadow: 0px 1px 2px rgba(60, 64, 67, 0.3), 0px 1px 3px 1px rgba(60, 64, 67, 0.15);\n",
              "      fill: #174EA6;\n",
              "    }\n",
              "\n",
              "    [theme=dark] .colab-df-convert {\n",
              "      background-color: #3B4455;\n",
              "      fill: #D2E3FC;\n",
              "    }\n",
              "\n",
              "    [theme=dark] .colab-df-convert:hover {\n",
              "      background-color: #434B5C;\n",
              "      box-shadow: 0px 1px 3px 1px rgba(0, 0, 0, 0.15);\n",
              "      filter: drop-shadow(0px 1px 2px rgba(0, 0, 0, 0.3));\n",
              "      fill: #FFFFFF;\n",
              "    }\n",
              "  </style>\n",
              "\n",
              "      <script>\n",
              "        const buttonEl =\n",
              "          document.querySelector('#df-a9918e43-6ad1-42c2-a0b4-b251bea4139e button.colab-df-convert');\n",
              "        buttonEl.style.display =\n",
              "          google.colab.kernel.accessAllowed ? 'block' : 'none';\n",
              "\n",
              "        async function convertToInteractive(key) {\n",
              "          const element = document.querySelector('#df-a9918e43-6ad1-42c2-a0b4-b251bea4139e');\n",
              "          const dataTable =\n",
              "            await google.colab.kernel.invokeFunction('convertToInteractive',\n",
              "                                                     [key], {});\n",
              "          if (!dataTable) return;\n",
              "\n",
              "          const docLinkHtml = 'Like what you see? Visit the ' +\n",
              "            '<a target=\"_blank\" href=https://colab.research.google.com/notebooks/data_table.ipynb>data table notebook</a>'\n",
              "            + ' to learn more about interactive tables.';\n",
              "          element.innerHTML = '';\n",
              "          dataTable['output_type'] = 'display_data';\n",
              "          await google.colab.output.renderOutput(dataTable, element);\n",
              "          const docLink = document.createElement('div');\n",
              "          docLink.innerHTML = docLinkHtml;\n",
              "          element.appendChild(docLink);\n",
              "        }\n",
              "      </script>\n",
              "    </div>\n",
              "  </div>\n",
              "  "
            ],
            "text/plain": [
              "       y_true  y_pred  pred_conf y_true_classname      y_pred_classname  \\\n",
              "17351      92      85   1.000000     spring_rolls                samosa   \n",
              "7853       71      87   1.000000           paella              scallops   \n",
              "14723      58     100   1.000000        ice_cream               waffles   \n",
              "1113       72      67   1.000000         pancakes              omelette   \n",
              "2213       16      98   1.000000       cheesecake              tiramisu   \n",
              "...       ...     ...        ...              ...                   ...   \n",
              "23327      73      94   0.999993      panna_cotta  strawberry_shortcake   \n",
              "6603       86      95   0.999992          sashimi                 sushi   \n",
              "10483      92      40   0.999992     spring_rolls          french_fries   \n",
              "2226       86      95   0.999992          sashimi                 sushi   \n",
              "11633      34      53   0.999992    eggs_benedict             hamburger   \n",
              "\n",
              "       pred_correct  \n",
              "17351         False  \n",
              "7853          False  \n",
              "14723         False  \n",
              "1113          False  \n",
              "2213          False  \n",
              "...             ...  \n",
              "23327         False  \n",
              "6603          False  \n",
              "10483         False  \n",
              "2226          False  \n",
              "11633         False  \n",
              "\n",
              "[100 rows x 6 columns]"
            ]
          },
          "execution_count": 116,
          "metadata": {},
          "output_type": "execute_result"
        }
      ],
      "source": [
        "#top 100 wrong predictions\n",
        "top_wrong=pred_df[pred_df['pred_correct']== False].sort_values('pred_conf', ascending=False)[:100]\n",
        "top_wrong"
      ]
    },
    {
      "cell_type": "code",
      "execution_count": null,
      "metadata": {
        "colab": {
          "base_uri": "https://localhost:8080/"
        },
        "id": "7xa3vWlfR-at",
        "outputId": "aad5f7f4-dba0-42d2-ed3e-3c7642399f49"
      },
      "outputs": [
        {
          "name": "stdout",
          "output_type": "stream",
          "text": [
            "Model: \"model\"\n",
            "_________________________________________________________________\n",
            " Layer (type)                Output Shape              Param #   \n",
            "=================================================================\n",
            " input_layer (InputLayer)    [(None, 224, 224, 3)]     0         \n",
            "                                                                 \n",
            " efficientnetb0 (Functional)  (None, None, None, 1280)  4049571  \n",
            "                                                                 \n",
            " global_average_pooling2d (G  (None, 1280)             0         \n",
            " lobalAveragePooling2D)                                          \n",
            "                                                                 \n",
            " dense (Dense)               (None, 101)               129381    \n",
            "                                                                 \n",
            " softmax-float32 (Activation  (None, 101)              0         \n",
            " )                                                               \n",
            "                                                                 \n",
            "=================================================================\n",
            "Total params: 4,178,952\n",
            "Trainable params: 4,136,929\n",
            "Non-trainable params: 42,023\n",
            "_________________________________________________________________\n"
          ]
        }
      ],
      "source": [
        "loaded_fine_tuned_gs_model.summary()"
      ]
    },
    {
      "cell_type": "markdown",
      "metadata": {
        "id": "H5bmhBrlUlbx"
      },
      "source": [
        "#Predict custom images"
      ]
    },
    {
      "cell_type": "markdown",
      "metadata": {
        "id": "NoKwzEJF21pz"
      },
      "source": [
        "# New section"
      ]
    },
    {
      "cell_type": "code",
      "execution_count": null,
      "metadata": {
        "colab": {
          "base_uri": "https://localhost:8080/",
          "height": 164
        },
        "id": "mTDYC-gjZz2r",
        "outputId": "9a363afe-e143-4308-e105-3b8fe888ca84"
      },
      "outputs": [
        {
          "ename": "NameError",
          "evalue": "ignored",
          "output_type": "error",
          "traceback": [
            "\u001b[0;31m---------------------------------------------------------------------------\u001b[0m",
            "\u001b[0;31mNameError\u001b[0m                                 Traceback (most recent call last)",
            "\u001b[0;32m<ipython-input-11-931ab93f0ede>\u001b[0m in \u001b[0;36m<module>\u001b[0;34m()\u001b[0m\n\u001b[0;32m----> 1\u001b[0;31m \u001b[0mclass_names\u001b[0m\u001b[0;34m\u001b[0m\u001b[0;34m\u001b[0m\u001b[0m\n\u001b[0m",
            "\u001b[0;31mNameError\u001b[0m: name 'class_names' is not defined"
          ]
        }
      ],
      "source": [
        "class_names"
      ]
    },
    {
      "cell_type": "code",
      "execution_count": null,
      "metadata": {
        "id": "doQBe28UslLr"
      },
      "outputs": [],
      "source": [
        "def load_and_prep_image(filename, true_label, img_shape=224, scale=True):\n",
        "  \"\"\"\n",
        "  Reads in an image from filename, turns it into a tensor and reshapes into\n",
        "  (224, 224, 3).\n",
        "\n",
        "  Parameters\n",
        "  ----------\n",
        "  filename (str): string filename of target image\n",
        "  img_shape (int): size to resize target image to, default 224\n",
        "  scale (bool): whether to scale pixel values to range(0, 1), default True\n",
        "  \"\"\"\n",
        "  img=tf.io.read_file(filename)\n",
        "\n",
        "  img=tf.io.decode_image(img)\n",
        "\n",
        "  img = tf.image.resize(img, [img_shape, img_shape])\n",
        "\n",
        "  if scale:\n",
        "    # Rescale the image (get all values between 0 and 1)\n",
        "    return img/255.\n",
        "  else:\n",
        "    img=tf.cast(img, tf.float32)\n",
        "    pred_prob = loaded_fine_tuned_gs_model.predict(tf.expand_dims(img, axis=0))\n",
        "    pred_class = class_names[pred_prob.argmax()]\n",
        "    if true_label == pred_class: # Change the color of text based on whether prediction is right or wrong\n",
        "      title_color = \"g\"\n",
        "    else:\n",
        "      title_color = \"r\"\n",
        "    plt.imshow(img/255.)\n",
        "    plt.title(f\"actual: {true_label}, pred: {pred_class}, prob: {pred_prob.max():.2f}\", c=title_color)\n",
        "    plt.axis(False)\n",
        "  "
      ]
    },
    {
      "cell_type": "code",
      "execution_count": null,
      "metadata": {
        "colab": {
          "base_uri": "https://localhost:8080/",
          "height": 264
        },
        "id": "cpEENZwA1SNe",
        "outputId": "2f98e6cc-c7c4-428c-eb49-dde3907f5448"
      },
      "outputs": [
        {
          "data": {
            "image/png": "[encoded data removed]",
            "text/plain": [
              "<Figure size 432x288 with 1 Axes>"
            ]
          },
          "metadata": {
            "needs_background": "light"
          },
          "output_type": "display_data"
        }
      ],
      "source": [
        "load_and_prep_image('/content/custom_food_images/hamburger.jpeg','hamburger', scale=False)"
      ]
    },
    {
      "cell_type": "code",
      "execution_count": null,
      "metadata": {
        "colab": {
          "base_uri": "https://localhost:8080/"
        },
        "id": "R2u1XVGa15zl",
        "outputId": "7f103fdc-326f-4212-df61-87f8c85083d7"
      },
      "outputs": [
        {
          "name": "stdout",
          "output_type": "stream",
          "text": [
            "--2022-07-13 06:01:13--  https://storage.googleapis.com/ztm_tf_course/food_vision/custom_food_images.zip\n",
            "Resolving storage.googleapis.com (storage.googleapis.com)... 74.125.68.128, 142.251.10.128, 142.251.12.128, ...\n",
            "Connecting to storage.googleapis.com (storage.googleapis.com)|74.125.68.128|:443... connected.\n",
            "HTTP request sent, awaiting response... 200 OK\n",
            "Length: 13192985 (13M) [application/zip]\n",
            "Saving to: ‘custom_food_images.zip’\n",
            "\n",
            "custom_food_images. 100%[===================>]  12.58M  17.1MB/s    in 0.7s    \n",
            "\n",
            "2022-07-13 06:01:15 (17.1 MB/s) - ‘custom_food_images.zip’ saved [13192985/13192985]\n",
            "\n"
          ]
        }
      ],
      "source": [
        "import matplotlib.pyplot as plt\n",
        "import tensorflow as tf\n",
        "!wget https://storage.googleapis.com/ztm_tf_course/food_vision/custom_food_images.zip\n",
        "\n",
        "unzip_data(\"custom_food_images.zip\")"
      ]
    },
    {
      "cell_type": "code",
      "execution_count": null,
      "metadata": {
        "colab": {
          "base_uri": "https://localhost:8080/",
          "height": 37
        },
        "id": "i-lm_ujkRXn5",
        "outputId": "f454d4f7-e3d6-4919-c0bc-740c7f09ffea"
      },
      "outputs": [
        {
          "data": {
            "application/vnd.google.colaboratory.intrinsic+json": {
              "type": "string"
            },
            "text/plain": [
              "'2.8.2'"
            ]
          },
          "execution_count": 16,
          "metadata": {},
          "output_type": "execute_result"
        }
      ],
      "source": [
        "tf.__version__"
      ]
    },
    {
      "cell_type": "code",
      "execution_count": null,
      "metadata": {
        "id": "WbYzmmKa25GJ"
      },
      "outputs": [],
      "source": []
    }
  ],
  "metadata": {
    "accelerator": "GPU",
    "colab": {
      "collapsed_sections": [
        "ahb_8vg5IrNq"
      ],
      "name": "07_milestone_project_food_vision-2 non-mixed precisions.ipynb",
      "provenance": []
    },
    "gpuClass": "standard",
    "kernelspec": {
      "display_name": "Python 3 (ipykernel)",
      "language": "python",
      "name": "python3"
    },
    "language_info": {
      "codemirror_mode": {
        "name": "ipython",
        "version": 3
      },
      "file_extension": ".py",
      "mimetype": "text/x-python",
      "name": "python",
      "nbconvert_exporter": "python",
      "pygments_lexer": "ipython3",
      "version": "3.9.7"
    },
    "widgets": {
      "application/vnd.jupyter.widget-state+json": {
        "0c97018699264f95bf842337170f42cc": {
          "model_module": "@jupyter-widgets/base",
          "model_module_version": "1.2.0",
          "model_name": "LayoutModel",
          "state": {
            "_model_module": "@jupyter-widgets/base",
            "_model_module_version": "1.2.0",
            "_model_name": "LayoutModel",
            "_view_count": null,
            "_view_module": "@jupyter-widgets/base",
            "_view_module_version": "1.2.0",
            "_view_name": "LayoutView",
            "align_content": null,
            "align_items": null,
            "align_self": null,
            "border": null,
            "bottom": null,
            "display": null,
            "flex": null,
            "flex_flow": null,
            "grid_area": null,
            "grid_auto_columns": null,
            "grid_auto_flow": null,
            "grid_auto_rows": null,
            "grid_column": null,
            "grid_gap": null,
            "grid_row": null,
            "grid_template_areas": null,
            "grid_template_columns": null,
            "grid_template_rows": null,
            "height": null,
            "justify_content": null,
            "justify_items": null,
            "left": null,
            "margin": null,
            "max_height": null,
            "max_width": null,
            "min_height": null,
            "min_width": null,
            "object_fit": null,
            "object_position": null,
            "order": null,
            "overflow": null,
            "overflow_x": null,
            "overflow_y": null,
            "padding": null,
            "right": null,
            "top": null,
            "visibility": null,
            "width": null
          }
        },
        "13fea56f2e2b42b09367a07b4b17f090": {
          "model_module": "@jupyter-widgets/controls",
          "model_module_version": "1.5.0",
          "model_name": "FloatProgressModel",
          "state": {
            "_dom_classes": [],
            "_model_module": "@jupyter-widgets/controls",
            "_model_module_version": "1.5.0",
            "_model_name": "FloatProgressModel",
            "_view_count": null,
            "_view_module": "@jupyter-widgets/controls",
            "_view_module_version": "1.5.0",
            "_view_name": "ProgressView",
            "bar_style": "info",
            "description": "",
            "description_tooltip": null,
            "layout": "IPY_MODEL_635551bd42db4833984fc804d2591905",
            "max": 1,
            "min": 0,
            "orientation": "horizontal",
            "style": "IPY_MODEL_de5ad87b97674115a328e58fdbdf5395",
            "value": 1
          }
        },
        "1bad93529f6f49f5916f7d1491acf021": {
          "model_module": "@jupyter-widgets/base",
          "model_module_version": "1.2.0",
          "model_name": "LayoutModel",
          "state": {
            "_model_module": "@jupyter-widgets/base",
            "_model_module_version": "1.2.0",
            "_model_name": "LayoutModel",
            "_view_count": null,
            "_view_module": "@jupyter-widgets/base",
            "_view_module_version": "1.2.0",
            "_view_name": "LayoutView",
            "align_content": null,
            "align_items": null,
            "align_self": null,
            "border": null,
            "bottom": null,
            "display": null,
            "flex": null,
            "flex_flow": null,
            "grid_area": null,
            "grid_auto_columns": null,
            "grid_auto_flow": null,
            "grid_auto_rows": null,
            "grid_column": null,
            "grid_gap": null,
            "grid_row": null,
            "grid_template_areas": null,
            "grid_template_columns": null,
            "grid_template_rows": null,
            "height": null,
            "justify_content": null,
            "justify_items": null,
            "left": null,
            "margin": null,
            "max_height": null,
            "max_width": null,
            "min_height": null,
            "min_width": null,
            "object_fit": null,
            "object_position": null,
            "order": null,
            "overflow": null,
            "overflow_x": null,
            "overflow_y": null,
            "padding": null,
            "right": null,
            "top": null,
            "visibility": null,
            "width": null
          }
        },
        "1d9f7c5e6ed643dea3349c4ba7c67bdb": {
          "model_module": "@jupyter-widgets/controls",
          "model_module_version": "1.5.0",
          "model_name": "DescriptionStyleModel",
          "state": {
            "_model_module": "@jupyter-widgets/controls",
            "_model_module_version": "1.5.0",
            "_model_name": "DescriptionStyleModel",
            "_view_count": null,
            "_view_module": "@jupyter-widgets/base",
            "_view_module_version": "1.2.0",
            "_view_name": "StyleView",
            "description_width": ""
          }
        },
        "21ca9d158f9c4ca7b042b8977110315b": {
          "model_module": "@jupyter-widgets/controls",
          "model_module_version": "1.5.0",
          "model_name": "DescriptionStyleModel",
          "state": {
            "_model_module": "@jupyter-widgets/controls",
            "_model_module_version": "1.5.0",
            "_model_name": "DescriptionStyleModel",
            "_view_count": null,
            "_view_module": "@jupyter-widgets/base",
            "_view_module_version": "1.2.0",
            "_view_name": "StyleView",
            "description_width": ""
          }
        },
        "26cf9423853e4431a4216ca82b00600e": {
          "model_module": "@jupyter-widgets/controls",
          "model_module_version": "1.5.0",
          "model_name": "HTMLModel",
          "state": {
            "_dom_classes": [],
            "_model_module": "@jupyter-widgets/controls",
            "_model_module_version": "1.5.0",
            "_model_name": "HTMLModel",
            "_view_count": null,
            "_view_module": "@jupyter-widgets/controls",
            "_view_module_version": "1.5.0",
            "_view_name": "HTMLView",
            "description": "",
            "description_tooltip": null,
            "layout": "IPY_MODEL_2d7e6621a59141dfbb67ac5ad5891fe6",
            "placeholder": "​",
            "style": "IPY_MODEL_e21335fd956d42668d42d060b4b493a2",
            "value": "Dl Size...: 100%"
          }
        },
        "2a616c615cc54172929e5064f0580805": {
          "model_module": "@jupyter-widgets/controls",
          "model_module_version": "1.5.0",
          "model_name": "FloatProgressModel",
          "state": {
            "_dom_classes": [],
            "_model_module": "@jupyter-widgets/controls",
            "_model_module_version": "1.5.0",
            "_model_name": "FloatProgressModel",
            "_view_count": null,
            "_view_module": "@jupyter-widgets/controls",
            "_view_module_version": "1.5.0",
            "_view_name": "ProgressView",
            "bar_style": "danger",
            "description": "",
            "description_tooltip": null,
            "layout": "IPY_MODEL_8e3c1d4029bc49dc92ec6a719c575e5d",
            "max": 75750,
            "min": 0,
            "orientation": "horizontal",
            "style": "IPY_MODEL_6f3908be64954ce683b9d37bee8cca59",
            "value": 75749
          }
        },
        "2d7e6621a59141dfbb67ac5ad5891fe6": {
          "model_module": "@jupyter-widgets/base",
          "model_module_version": "1.2.0",
          "model_name": "LayoutModel",
          "state": {
            "_model_module": "@jupyter-widgets/base",
            "_model_module_version": "1.2.0",
            "_model_name": "LayoutModel",
            "_view_count": null,
            "_view_module": "@jupyter-widgets/base",
            "_view_module_version": "1.2.0",
            "_view_name": "LayoutView",
            "align_content": null,
            "align_items": null,
            "align_self": null,
            "border": null,
            "bottom": null,
            "display": null,
            "flex": null,
            "flex_flow": null,
            "grid_area": null,
            "grid_auto_columns": null,
            "grid_auto_flow": null,
            "grid_auto_rows": null,
            "grid_column": null,
            "grid_gap": null,
            "grid_row": null,
            "grid_template_areas": null,
            "grid_template_columns": null,
            "grid_template_rows": null,
            "height": null,
            "justify_content": null,
            "justify_items": null,
            "left": null,
            "margin": null,
            "max_height": null,
            "max_width": null,
            "min_height": null,
            "min_width": null,
            "object_fit": null,
            "object_position": null,
            "order": null,
            "overflow": null,
            "overflow_x": null,
            "overflow_y": null,
            "padding": null,
            "right": null,
            "top": null,
            "visibility": null,
            "width": null
          }
        },
        "2dc9ed4bb97e411d918a5e48265ebc83": {
          "model_module": "@jupyter-widgets/controls",
          "model_module_version": "1.5.0",
          "model_name": "HTMLModel",
          "state": {
            "_dom_classes": [],
            "_model_module": "@jupyter-widgets/controls",
            "_model_module_version": "1.5.0",
            "_model_name": "HTMLModel",
            "_view_count": null,
            "_view_module": "@jupyter-widgets/controls",
            "_view_module_version": "1.5.0",
            "_view_name": "HTMLView",
            "description": "",
            "description_tooltip": null,
            "layout": "IPY_MODEL_c033a9d3334c4277a9668c416584528e",
            "placeholder": "​",
            "style": "IPY_MODEL_4ba446efa4124a8488873c09c952d2ca",
            "value": " 4764/4764 [06:52&lt;00:00, 14.40 MiB/s]"
          }
        },
        "30f9de3101f04b0eac78fed9d4303e26": {
          "model_module": "@jupyter-widgets/base",
          "model_module_version": "1.2.0",
          "model_name": "LayoutModel",
          "state": {
            "_model_module": "@jupyter-widgets/base",
            "_model_module_version": "1.2.0",
            "_model_name": "LayoutModel",
            "_view_count": null,
            "_view_module": "@jupyter-widgets/base",
            "_view_module_version": "1.2.0",
            "_view_name": "LayoutView",
            "align_content": null,
            "align_items": null,
            "align_self": null,
            "border": null,
            "bottom": null,
            "display": null,
            "flex": null,
            "flex_flow": null,
            "grid_area": null,
            "grid_auto_columns": null,
            "grid_auto_flow": null,
            "grid_auto_rows": null,
            "grid_column": null,
            "grid_gap": null,
            "grid_row": null,
            "grid_template_areas": null,
            "grid_template_columns": null,
            "grid_template_rows": null,
            "height": null,
            "justify_content": null,
            "justify_items": null,
            "left": null,
            "margin": null,
            "max_height": null,
            "max_width": null,
            "min_height": null,
            "min_width": null,
            "object_fit": null,
            "object_position": null,
            "order": null,
            "overflow": null,
            "overflow_x": null,
            "overflow_y": null,
            "padding": null,
            "right": null,
            "top": null,
            "visibility": null,
            "width": "20px"
          }
        },
        "313a30adaa7949118b5df037d7db8508": {
          "model_module": "@jupyter-widgets/controls",
          "model_module_version": "1.5.0",
          "model_name": "HBoxModel",
          "state": {
            "_dom_classes": [],
            "_model_module": "@jupyter-widgets/controls",
            "_model_module_version": "1.5.0",
            "_model_name": "HBoxModel",
            "_view_count": null,
            "_view_module": "@jupyter-widgets/controls",
            "_view_module_version": "1.5.0",
            "_view_name": "HBoxView",
            "box_style": "",
            "children": [
              "IPY_MODEL_ba7aee7b47594e848c7d2d96408643de",
              "IPY_MODEL_ee26b224e5844c7ba053aee027d28d52",
              "IPY_MODEL_79d1454fbe374368a484e62dccbe660e"
            ],
            "layout": "IPY_MODEL_4267d66cc8044c3f853621370056c68f"
          }
        },
        "3256b3a258b246e190a94c76891bae99": {
          "model_module": "@jupyter-widgets/controls",
          "model_module_version": "1.5.0",
          "model_name": "ProgressStyleModel",
          "state": {
            "_model_module": "@jupyter-widgets/controls",
            "_model_module_version": "1.5.0",
            "_model_name": "ProgressStyleModel",
            "_view_count": null,
            "_view_module": "@jupyter-widgets/base",
            "_view_module_version": "1.2.0",
            "_view_name": "StyleView",
            "bar_color": null,
            "description_width": ""
          }
        },
        "3efbe92e541c426e8b6aeb8e7aaaac11": {
          "model_module": "@jupyter-widgets/base",
          "model_module_version": "1.2.0",
          "model_name": "LayoutModel",
          "state": {
            "_model_module": "@jupyter-widgets/base",
            "_model_module_version": "1.2.0",
            "_model_name": "LayoutModel",
            "_view_count": null,
            "_view_module": "@jupyter-widgets/base",
            "_view_module_version": "1.2.0",
            "_view_name": "LayoutView",
            "align_content": null,
            "align_items": null,
            "align_self": null,
            "border": null,
            "bottom": null,
            "display": null,
            "flex": null,
            "flex_flow": null,
            "grid_area": null,
            "grid_auto_columns": null,
            "grid_auto_flow": null,
            "grid_auto_rows": null,
            "grid_column": null,
            "grid_gap": null,
            "grid_row": null,
            "grid_template_areas": null,
            "grid_template_columns": null,
            "grid_template_rows": null,
            "height": null,
            "justify_content": null,
            "justify_items": null,
            "left": null,
            "margin": null,
            "max_height": null,
            "max_width": null,
            "min_height": null,
            "min_width": null,
            "object_fit": null,
            "object_position": null,
            "order": null,
            "overflow": null,
            "overflow_x": null,
            "overflow_y": null,
            "padding": null,
            "right": null,
            "top": null,
            "visibility": null,
            "width": null
          }
        },
        "4267d66cc8044c3f853621370056c68f": {
          "model_module": "@jupyter-widgets/base",
          "model_module_version": "1.2.0",
          "model_name": "LayoutModel",
          "state": {
            "_model_module": "@jupyter-widgets/base",
            "_model_module_version": "1.2.0",
            "_model_name": "LayoutModel",
            "_view_count": null,
            "_view_module": "@jupyter-widgets/base",
            "_view_module_version": "1.2.0",
            "_view_name": "LayoutView",
            "align_content": null,
            "align_items": null,
            "align_self": null,
            "border": null,
            "bottom": null,
            "display": null,
            "flex": null,
            "flex_flow": null,
            "grid_area": null,
            "grid_auto_columns": null,
            "grid_auto_flow": null,
            "grid_auto_rows": null,
            "grid_column": null,
            "grid_gap": null,
            "grid_row": null,
            "grid_template_areas": null,
            "grid_template_columns": null,
            "grid_template_rows": null,
            "height": null,
            "justify_content": null,
            "justify_items": null,
            "left": null,
            "margin": null,
            "max_height": null,
            "max_width": null,
            "min_height": null,
            "min_width": null,
            "object_fit": null,
            "object_position": null,
            "order": null,
            "overflow": null,
            "overflow_x": null,
            "overflow_y": null,
            "padding": null,
            "right": null,
            "top": null,
            "visibility": null,
            "width": null
          }
        },
        "440c7d77bfe343bcb7bf517266dfea06": {
          "model_module": "@jupyter-widgets/controls",
          "model_module_version": "1.5.0",
          "model_name": "HTMLModel",
          "state": {
            "_dom_classes": [],
            "_model_module": "@jupyter-widgets/controls",
            "_model_module_version": "1.5.0",
            "_model_name": "HTMLModel",
            "_view_count": null,
            "_view_module": "@jupyter-widgets/controls",
            "_view_module_version": "1.5.0",
            "_view_name": "HTMLView",
            "description": "",
            "description_tooltip": null,
            "layout": "IPY_MODEL_f3dd47f799444f5ba5b7df49e9098ccf",
            "placeholder": "​",
            "style": "IPY_MODEL_9569fd36d9d54ceaa5246b77afff358d",
            "value": " 1/1 [06:52&lt;00:00, 337.22s/ url]"
          }
        },
        "45345fe9a6d44d199859ead2052c5410": {
          "model_module": "@jupyter-widgets/controls",
          "model_module_version": "1.5.0",
          "model_name": "HTMLModel",
          "state": {
            "_dom_classes": [],
            "_model_module": "@jupyter-widgets/controls",
            "_model_module_version": "1.5.0",
            "_model_name": "HTMLModel",
            "_view_count": null,
            "_view_module": "@jupyter-widgets/controls",
            "_view_module_version": "1.5.0",
            "_view_name": "HTMLView",
            "description": "",
            "description_tooltip": null,
            "layout": "IPY_MODEL_e3c83100247b43aaa1ef722c6576fd6e",
            "placeholder": "​",
            "style": "IPY_MODEL_eef6e6658a09484db4fca14522484632",
            "value": "Extraction completed...: 100%"
          }
        },
        "474e37d0585b43338c7d4b3d27acc381": {
          "model_module": "@jupyter-widgets/controls",
          "model_module_version": "1.5.0",
          "model_name": "DescriptionStyleModel",
          "state": {
            "_model_module": "@jupyter-widgets/controls",
            "_model_module_version": "1.5.0",
            "_model_name": "DescriptionStyleModel",
            "_view_count": null,
            "_view_module": "@jupyter-widgets/base",
            "_view_module_version": "1.2.0",
            "_view_name": "StyleView",
            "description_width": ""
          }
        },
        "48fa9011aa72469aaa7793223d194954": {
          "model_module": "@jupyter-widgets/base",
          "model_module_version": "1.2.0",
          "model_name": "LayoutModel",
          "state": {
            "_model_module": "@jupyter-widgets/base",
            "_model_module_version": "1.2.0",
            "_model_name": "LayoutModel",
            "_view_count": null,
            "_view_module": "@jupyter-widgets/base",
            "_view_module_version": "1.2.0",
            "_view_name": "LayoutView",
            "align_content": null,
            "align_items": null,
            "align_self": null,
            "border": null,
            "bottom": null,
            "display": null,
            "flex": null,
            "flex_flow": null,
            "grid_area": null,
            "grid_auto_columns": null,
            "grid_auto_flow": null,
            "grid_auto_rows": null,
            "grid_column": null,
            "grid_gap": null,
            "grid_row": null,
            "grid_template_areas": null,
            "grid_template_columns": null,
            "grid_template_rows": null,
            "height": null,
            "justify_content": null,
            "justify_items": null,
            "left": null,
            "margin": null,
            "max_height": null,
            "max_width": null,
            "min_height": null,
            "min_width": null,
            "object_fit": null,
            "object_position": null,
            "order": null,
            "overflow": null,
            "overflow_x": null,
            "overflow_y": null,
            "padding": null,
            "right": null,
            "top": null,
            "visibility": null,
            "width": "20px"
          }
        },
        "4ba446efa4124a8488873c09c952d2ca": {
          "model_module": "@jupyter-widgets/controls",
          "model_module_version": "1.5.0",
          "model_name": "DescriptionStyleModel",
          "state": {
            "_model_module": "@jupyter-widgets/controls",
            "_model_module_version": "1.5.0",
            "_model_name": "DescriptionStyleModel",
            "_view_count": null,
            "_view_module": "@jupyter-widgets/base",
            "_view_module_version": "1.2.0",
            "_view_name": "StyleView",
            "description_width": ""
          }
        },
        "4c3417303d064b3890f5073b9bc1b62c": {
          "model_module": "@jupyter-widgets/controls",
          "model_module_version": "1.5.0",
          "model_name": "HBoxModel",
          "state": {
            "_dom_classes": [],
            "_model_module": "@jupyter-widgets/controls",
            "_model_module_version": "1.5.0",
            "_model_name": "HBoxModel",
            "_view_count": null,
            "_view_module": "@jupyter-widgets/controls",
            "_view_module_version": "1.5.0",
            "_view_name": "HBoxView",
            "box_style": "",
            "children": [
              "IPY_MODEL_55333951f2d04910ad4a4d31f0bb414a",
              "IPY_MODEL_13fea56f2e2b42b09367a07b4b17f090",
              "IPY_MODEL_f2b507fd7afe4af0ba5150745f528ab3"
            ],
            "layout": "IPY_MODEL_a415e9dc5c3b44219239789295dd05d5"
          }
        },
        "4c60b9c1c2e5416f88d33d9424f7aac9": {
          "model_module": "@jupyter-widgets/base",
          "model_module_version": "1.2.0",
          "model_name": "LayoutModel",
          "state": {
            "_model_module": "@jupyter-widgets/base",
            "_model_module_version": "1.2.0",
            "_model_name": "LayoutModel",
            "_view_count": null,
            "_view_module": "@jupyter-widgets/base",
            "_view_module_version": "1.2.0",
            "_view_name": "LayoutView",
            "align_content": null,
            "align_items": null,
            "align_self": null,
            "border": null,
            "bottom": null,
            "display": null,
            "flex": null,
            "flex_flow": null,
            "grid_area": null,
            "grid_auto_columns": null,
            "grid_auto_flow": null,
            "grid_auto_rows": null,
            "grid_column": null,
            "grid_gap": null,
            "grid_row": null,
            "grid_template_areas": null,
            "grid_template_columns": null,
            "grid_template_rows": null,
            "height": null,
            "justify_content": null,
            "justify_items": null,
            "left": null,
            "margin": null,
            "max_height": null,
            "max_width": null,
            "min_height": null,
            "min_width": null,
            "object_fit": null,
            "object_position": null,
            "order": null,
            "overflow": null,
            "overflow_x": null,
            "overflow_y": null,
            "padding": null,
            "right": null,
            "top": null,
            "visibility": null,
            "width": "20px"
          }
        },
        "5187d51f1a2f4adf912a388257ff1bcb": {
          "model_module": "@jupyter-widgets/controls",
          "model_module_version": "1.5.0",
          "model_name": "FloatProgressModel",
          "state": {
            "_dom_classes": [],
            "_model_module": "@jupyter-widgets/controls",
            "_model_module_version": "1.5.0",
            "_model_name": "FloatProgressModel",
            "_view_count": null,
            "_view_module": "@jupyter-widgets/controls",
            "_view_module_version": "1.5.0",
            "_view_name": "ProgressView",
            "bar_style": "info",
            "description": "",
            "description_tooltip": null,
            "layout": "IPY_MODEL_a34a7494ffc64c9aba5a96445e2b1366",
            "max": 1,
            "min": 0,
            "orientation": "horizontal",
            "style": "IPY_MODEL_7ce027d6e6d44101a2c99d04c57befa2",
            "value": 1
          }
        },
        "55333951f2d04910ad4a4d31f0bb414a": {
          "model_module": "@jupyter-widgets/controls",
          "model_module_version": "1.5.0",
          "model_name": "HTMLModel",
          "state": {
            "_dom_classes": [],
            "_model_module": "@jupyter-widgets/controls",
            "_model_module_version": "1.5.0",
            "_model_name": "HTMLModel",
            "_view_count": null,
            "_view_module": "@jupyter-widgets/controls",
            "_view_module_version": "1.5.0",
            "_view_name": "HTMLView",
            "description": "",
            "description_tooltip": null,
            "layout": "IPY_MODEL_891dbc9eeb23495a9b4867aa099ff8a1",
            "placeholder": "​",
            "style": "IPY_MODEL_f2e4d6df47404b8991894459c3c57e26",
            "value": ""
          }
        },
        "5c232f5265964d4cb673ac794c9e3588": {
          "model_module": "@jupyter-widgets/base",
          "model_module_version": "1.2.0",
          "model_name": "LayoutModel",
          "state": {
            "_model_module": "@jupyter-widgets/base",
            "_model_module_version": "1.2.0",
            "_model_name": "LayoutModel",
            "_view_count": null,
            "_view_module": "@jupyter-widgets/base",
            "_view_module_version": "1.2.0",
            "_view_name": "LayoutView",
            "align_content": null,
            "align_items": null,
            "align_self": null,
            "border": null,
            "bottom": null,
            "display": null,
            "flex": null,
            "flex_flow": null,
            "grid_area": null,
            "grid_auto_columns": null,
            "grid_auto_flow": null,
            "grid_auto_rows": null,
            "grid_column": null,
            "grid_gap": null,
            "grid_row": null,
            "grid_template_areas": null,
            "grid_template_columns": null,
            "grid_template_rows": null,
            "height": null,
            "justify_content": null,
            "justify_items": null,
            "left": null,
            "margin": null,
            "max_height": null,
            "max_width": null,
            "min_height": null,
            "min_width": null,
            "object_fit": null,
            "object_position": null,
            "order": null,
            "overflow": null,
            "overflow_x": null,
            "overflow_y": null,
            "padding": null,
            "right": null,
            "top": null,
            "visibility": null,
            "width": null
          }
        },
        "5dd4321ac76f4dde9e19bc7fefddd6d0": {
          "model_module": "@jupyter-widgets/controls",
          "model_module_version": "1.5.0",
          "model_name": "HTMLModel",
          "state": {
            "_dom_classes": [],
            "_model_module": "@jupyter-widgets/controls",
            "_model_module_version": "1.5.0",
            "_model_name": "HTMLModel",
            "_view_count": null,
            "_view_module": "@jupyter-widgets/controls",
            "_view_module_version": "1.5.0",
            "_view_name": "HTMLView",
            "description": "",
            "description_tooltip": null,
            "layout": "IPY_MODEL_a277bcef17d14a4a9af55d9eae7d082c",
            "placeholder": "​",
            "style": "IPY_MODEL_474e37d0585b43338c7d4b3d27acc381",
            "value": " 75749/75750 [00:33&lt;00:00, 2054.17 examples/s]"
          }
        },
        "5de6a7b20a074c6fbd4b7aa4d58dfc7b": {
          "model_module": "@jupyter-widgets/base",
          "model_module_version": "1.2.0",
          "model_name": "LayoutModel",
          "state": {
            "_model_module": "@jupyter-widgets/base",
            "_model_module_version": "1.2.0",
            "_model_name": "LayoutModel",
            "_view_count": null,
            "_view_module": "@jupyter-widgets/base",
            "_view_module_version": "1.2.0",
            "_view_name": "LayoutView",
            "align_content": null,
            "align_items": null,
            "align_self": null,
            "border": null,
            "bottom": null,
            "display": null,
            "flex": null,
            "flex_flow": null,
            "grid_area": null,
            "grid_auto_columns": null,
            "grid_auto_flow": null,
            "grid_auto_rows": null,
            "grid_column": null,
            "grid_gap": null,
            "grid_row": null,
            "grid_template_areas": null,
            "grid_template_columns": null,
            "grid_template_rows": null,
            "height": null,
            "justify_content": null,
            "justify_items": null,
            "left": null,
            "margin": null,
            "max_height": null,
            "max_width": null,
            "min_height": null,
            "min_width": null,
            "object_fit": null,
            "object_position": null,
            "order": null,
            "overflow": null,
            "overflow_x": null,
            "overflow_y": null,
            "padding": null,
            "right": null,
            "top": null,
            "visibility": null,
            "width": null
          }
        },
        "61d636709a564b56916a4b52cd8e59b3": {
          "model_module": "@jupyter-widgets/controls",
          "model_module_version": "1.5.0",
          "model_name": "HBoxModel",
          "state": {
            "_dom_classes": [],
            "_model_module": "@jupyter-widgets/controls",
            "_model_module_version": "1.5.0",
            "_model_name": "HBoxModel",
            "_view_count": null,
            "_view_module": "@jupyter-widgets/controls",
            "_view_module_version": "1.5.0",
            "_view_name": "HBoxView",
            "box_style": "",
            "children": [
              "IPY_MODEL_d609916740cc42ad8363a19d609a79de",
              "IPY_MODEL_5187d51f1a2f4adf912a388257ff1bcb",
              "IPY_MODEL_77869597260443febaa7f8981cdd2921"
            ],
            "layout": "IPY_MODEL_fb559ee1022f42de8bf9faa52f384ab8"
          }
        },
        "6246901e0cbc4c5eb2da7f1afffc7e25": {
          "model_module": "@jupyter-widgets/controls",
          "model_module_version": "1.5.0",
          "model_name": "HTMLModel",
          "state": {
            "_dom_classes": [],
            "_model_module": "@jupyter-widgets/controls",
            "_model_module_version": "1.5.0",
            "_model_name": "HTMLModel",
            "_view_count": null,
            "_view_module": "@jupyter-widgets/controls",
            "_view_module_version": "1.5.0",
            "_view_name": "HTMLView",
            "description": "",
            "description_tooltip": null,
            "layout": "IPY_MODEL_5de6a7b20a074c6fbd4b7aa4d58dfc7b",
            "placeholder": "​",
            "style": "IPY_MODEL_1d9f7c5e6ed643dea3349c4ba7c67bdb",
            "value": "Dl Completed...: 100%"
          }
        },
        "635551bd42db4833984fc804d2591905": {
          "model_module": "@jupyter-widgets/base",
          "model_module_version": "1.2.0",
          "model_name": "LayoutModel",
          "state": {
            "_model_module": "@jupyter-widgets/base",
            "_model_module_version": "1.2.0",
            "_model_name": "LayoutModel",
            "_view_count": null,
            "_view_module": "@jupyter-widgets/base",
            "_view_module_version": "1.2.0",
            "_view_name": "LayoutView",
            "align_content": null,
            "align_items": null,
            "align_self": null,
            "border": null,
            "bottom": null,
            "display": null,
            "flex": null,
            "flex_flow": null,
            "grid_area": null,
            "grid_auto_columns": null,
            "grid_auto_flow": null,
            "grid_auto_rows": null,
            "grid_column": null,
            "grid_gap": null,
            "grid_row": null,
            "grid_template_areas": null,
            "grid_template_columns": null,
            "grid_template_rows": null,
            "height": null,
            "justify_content": null,
            "justify_items": null,
            "left": null,
            "margin": null,
            "max_height": null,
            "max_width": null,
            "min_height": null,
            "min_width": null,
            "object_fit": null,
            "object_position": null,
            "order": null,
            "overflow": null,
            "overflow_x": null,
            "overflow_y": null,
            "padding": null,
            "right": null,
            "top": null,
            "visibility": null,
            "width": "20px"
          }
        },
        "6f3908be64954ce683b9d37bee8cca59": {
          "model_module": "@jupyter-widgets/controls",
          "model_module_version": "1.5.0",
          "model_name": "ProgressStyleModel",
          "state": {
            "_model_module": "@jupyter-widgets/controls",
            "_model_module_version": "1.5.0",
            "_model_name": "ProgressStyleModel",
            "_view_count": null,
            "_view_module": "@jupyter-widgets/base",
            "_view_module_version": "1.2.0",
            "_view_name": "StyleView",
            "bar_color": null,
            "description_width": ""
          }
        },
        "7527086085154eafbdb4f44b59507042": {
          "model_module": "@jupyter-widgets/controls",
          "model_module_version": "1.5.0",
          "model_name": "DescriptionStyleModel",
          "state": {
            "_model_module": "@jupyter-widgets/controls",
            "_model_module_version": "1.5.0",
            "_model_name": "DescriptionStyleModel",
            "_view_count": null,
            "_view_module": "@jupyter-widgets/base",
            "_view_module_version": "1.2.0",
            "_view_name": "StyleView",
            "description_width": ""
          }
        },
        "755ac92faa1e46febd6a38787c2d42fc": {
          "model_module": "@jupyter-widgets/controls",
          "model_module_version": "1.5.0",
          "model_name": "ProgressStyleModel",
          "state": {
            "_model_module": "@jupyter-widgets/controls",
            "_model_module_version": "1.5.0",
            "_model_name": "ProgressStyleModel",
            "_view_count": null,
            "_view_module": "@jupyter-widgets/base",
            "_view_module_version": "1.2.0",
            "_view_name": "StyleView",
            "bar_color": null,
            "description_width": ""
          }
        },
        "77869597260443febaa7f8981cdd2921": {
          "model_module": "@jupyter-widgets/controls",
          "model_module_version": "1.5.0",
          "model_name": "HTMLModel",
          "state": {
            "_dom_classes": [],
            "_model_module": "@jupyter-widgets/controls",
            "_model_module_version": "1.5.0",
            "_model_name": "HTMLModel",
            "_view_count": null,
            "_view_module": "@jupyter-widgets/controls",
            "_view_module_version": "1.5.0",
            "_view_name": "HTMLView",
            "description": "",
            "description_tooltip": null,
            "layout": "IPY_MODEL_0c97018699264f95bf842337170f42cc",
            "placeholder": "​",
            "style": "IPY_MODEL_c7aa0ecf0e434906bcb8cfb91c3ccfc3",
            "value": " 25224/0 [01:02&lt;00:00, 390.22 examples/s]"
          }
        },
        "77c30f870a694122bc5d86c779298fe8": {
          "model_module": "@jupyter-widgets/controls",
          "model_module_version": "1.5.0",
          "model_name": "FloatProgressModel",
          "state": {
            "_dom_classes": [],
            "_model_module": "@jupyter-widgets/controls",
            "_model_module_version": "1.5.0",
            "_model_name": "FloatProgressModel",
            "_view_count": null,
            "_view_module": "@jupyter-widgets/controls",
            "_view_module_version": "1.5.0",
            "_view_name": "ProgressView",
            "bar_style": "success",
            "description": "",
            "description_tooltip": null,
            "layout": "IPY_MODEL_30f9de3101f04b0eac78fed9d4303e26",
            "max": 1,
            "min": 0,
            "orientation": "horizontal",
            "style": "IPY_MODEL_3256b3a258b246e190a94c76891bae99",
            "value": 1
          }
        },
        "79d1454fbe374368a484e62dccbe660e": {
          "model_module": "@jupyter-widgets/controls",
          "model_module_version": "1.5.0",
          "model_name": "HTMLModel",
          "state": {
            "_dom_classes": [],
            "_model_module": "@jupyter-widgets/controls",
            "_model_module_version": "1.5.0",
            "_model_name": "HTMLModel",
            "_view_count": null,
            "_view_module": "@jupyter-widgets/controls",
            "_view_module_version": "1.5.0",
            "_view_name": "HTMLView",
            "description": "",
            "description_tooltip": null,
            "layout": "IPY_MODEL_f4da258ef65f4abdb1508ea0ebff5f90",
            "placeholder": "​",
            "style": "IPY_MODEL_21ca9d158f9c4ca7b042b8977110315b",
            "value": " 25249/25250 [00:05&lt;00:00, 2293.22 examples/s]"
          }
        },
        "7ce027d6e6d44101a2c99d04c57befa2": {
          "model_module": "@jupyter-widgets/controls",
          "model_module_version": "1.5.0",
          "model_name": "ProgressStyleModel",
          "state": {
            "_model_module": "@jupyter-widgets/controls",
            "_model_module_version": "1.5.0",
            "_model_name": "ProgressStyleModel",
            "_view_count": null,
            "_view_module": "@jupyter-widgets/base",
            "_view_module_version": "1.2.0",
            "_view_name": "StyleView",
            "bar_color": null,
            "description_width": ""
          }
        },
        "7e4016e96240429293aa51904b8414f3": {
          "model_module": "@jupyter-widgets/controls",
          "model_module_version": "1.5.0",
          "model_name": "DescriptionStyleModel",
          "state": {
            "_model_module": "@jupyter-widgets/controls",
            "_model_module_version": "1.5.0",
            "_model_name": "DescriptionStyleModel",
            "_view_count": null,
            "_view_module": "@jupyter-widgets/base",
            "_view_module_version": "1.2.0",
            "_view_name": "StyleView",
            "description_width": ""
          }
        },
        "84dda27e6a7e402897fbf51844b3e50f": {
          "model_module": "@jupyter-widgets/base",
          "model_module_version": "1.2.0",
          "model_name": "LayoutModel",
          "state": {
            "_model_module": "@jupyter-widgets/base",
            "_model_module_version": "1.2.0",
            "_model_name": "LayoutModel",
            "_view_count": null,
            "_view_module": "@jupyter-widgets/base",
            "_view_module_version": "1.2.0",
            "_view_name": "LayoutView",
            "align_content": null,
            "align_items": null,
            "align_self": null,
            "border": null,
            "bottom": null,
            "display": null,
            "flex": null,
            "flex_flow": null,
            "grid_area": null,
            "grid_auto_columns": null,
            "grid_auto_flow": null,
            "grid_auto_rows": null,
            "grid_column": null,
            "grid_gap": null,
            "grid_row": null,
            "grid_template_areas": null,
            "grid_template_columns": null,
            "grid_template_rows": null,
            "height": null,
            "justify_content": null,
            "justify_items": null,
            "left": null,
            "margin": null,
            "max_height": null,
            "max_width": null,
            "min_height": null,
            "min_width": null,
            "object_fit": null,
            "object_position": null,
            "order": null,
            "overflow": null,
            "overflow_x": null,
            "overflow_y": null,
            "padding": null,
            "right": null,
            "top": null,
            "visibility": null,
            "width": null
          }
        },
        "891dbc9eeb23495a9b4867aa099ff8a1": {
          "model_module": "@jupyter-widgets/base",
          "model_module_version": "1.2.0",
          "model_name": "LayoutModel",
          "state": {
            "_model_module": "@jupyter-widgets/base",
            "_model_module_version": "1.2.0",
            "_model_name": "LayoutModel",
            "_view_count": null,
            "_view_module": "@jupyter-widgets/base",
            "_view_module_version": "1.2.0",
            "_view_name": "LayoutView",
            "align_content": null,
            "align_items": null,
            "align_self": null,
            "border": null,
            "bottom": null,
            "display": null,
            "flex": null,
            "flex_flow": null,
            "grid_area": null,
            "grid_auto_columns": null,
            "grid_auto_flow": null,
            "grid_auto_rows": null,
            "grid_column": null,
            "grid_gap": null,
            "grid_row": null,
            "grid_template_areas": null,
            "grid_template_columns": null,
            "grid_template_rows": null,
            "height": null,
            "justify_content": null,
            "justify_items": null,
            "left": null,
            "margin": null,
            "max_height": null,
            "max_width": null,
            "min_height": null,
            "min_width": null,
            "object_fit": null,
            "object_position": null,
            "order": null,
            "overflow": null,
            "overflow_x": null,
            "overflow_y": null,
            "padding": null,
            "right": null,
            "top": null,
            "visibility": null,
            "width": null
          }
        },
        "8e3c1d4029bc49dc92ec6a719c575e5d": {
          "model_module": "@jupyter-widgets/base",
          "model_module_version": "1.2.0",
          "model_name": "LayoutModel",
          "state": {
            "_model_module": "@jupyter-widgets/base",
            "_model_module_version": "1.2.0",
            "_model_name": "LayoutModel",
            "_view_count": null,
            "_view_module": "@jupyter-widgets/base",
            "_view_module_version": "1.2.0",
            "_view_name": "LayoutView",
            "align_content": null,
            "align_items": null,
            "align_self": null,
            "border": null,
            "bottom": null,
            "display": null,
            "flex": null,
            "flex_flow": null,
            "grid_area": null,
            "grid_auto_columns": null,
            "grid_auto_flow": null,
            "grid_auto_rows": null,
            "grid_column": null,
            "grid_gap": null,
            "grid_row": null,
            "grid_template_areas": null,
            "grid_template_columns": null,
            "grid_template_rows": null,
            "height": null,
            "justify_content": null,
            "justify_items": null,
            "left": null,
            "margin": null,
            "max_height": null,
            "max_width": null,
            "min_height": null,
            "min_width": null,
            "object_fit": null,
            "object_position": null,
            "order": null,
            "overflow": null,
            "overflow_x": null,
            "overflow_y": null,
            "padding": null,
            "right": null,
            "top": null,
            "visibility": null,
            "width": null
          }
        },
        "92f39fda3379451fb8e89a6449917aff": {
          "model_module": "@jupyter-widgets/controls",
          "model_module_version": "1.5.0",
          "model_name": "ProgressStyleModel",
          "state": {
            "_model_module": "@jupyter-widgets/controls",
            "_model_module_version": "1.5.0",
            "_model_name": "ProgressStyleModel",
            "_view_count": null,
            "_view_module": "@jupyter-widgets/base",
            "_view_module_version": "1.2.0",
            "_view_name": "StyleView",
            "bar_color": null,
            "description_width": ""
          }
        },
        "9569fd36d9d54ceaa5246b77afff358d": {
          "model_module": "@jupyter-widgets/controls",
          "model_module_version": "1.5.0",
          "model_name": "DescriptionStyleModel",
          "state": {
            "_model_module": "@jupyter-widgets/controls",
            "_model_module_version": "1.5.0",
            "_model_name": "DescriptionStyleModel",
            "_view_count": null,
            "_view_module": "@jupyter-widgets/base",
            "_view_module_version": "1.2.0",
            "_view_name": "StyleView",
            "description_width": ""
          }
        },
        "9712ee33251f4767ae5665d87f65974b": {
          "model_module": "@jupyter-widgets/base",
          "model_module_version": "1.2.0",
          "model_name": "LayoutModel",
          "state": {
            "_model_module": "@jupyter-widgets/base",
            "_model_module_version": "1.2.0",
            "_model_name": "LayoutModel",
            "_view_count": null,
            "_view_module": "@jupyter-widgets/base",
            "_view_module_version": "1.2.0",
            "_view_name": "LayoutView",
            "align_content": null,
            "align_items": null,
            "align_self": null,
            "border": null,
            "bottom": null,
            "display": null,
            "flex": null,
            "flex_flow": null,
            "grid_area": null,
            "grid_auto_columns": null,
            "grid_auto_flow": null,
            "grid_auto_rows": null,
            "grid_column": null,
            "grid_gap": null,
            "grid_row": null,
            "grid_template_areas": null,
            "grid_template_columns": null,
            "grid_template_rows": null,
            "height": null,
            "justify_content": null,
            "justify_items": null,
            "left": null,
            "margin": null,
            "max_height": null,
            "max_width": null,
            "min_height": null,
            "min_width": null,
            "object_fit": null,
            "object_position": null,
            "order": null,
            "overflow": null,
            "overflow_x": null,
            "overflow_y": null,
            "padding": null,
            "right": null,
            "top": null,
            "visibility": null,
            "width": null
          }
        },
        "9738763736c6469f9cae88feea35b178": {
          "model_module": "@jupyter-widgets/base",
          "model_module_version": "1.2.0",
          "model_name": "LayoutModel",
          "state": {
            "_model_module": "@jupyter-widgets/base",
            "_model_module_version": "1.2.0",
            "_model_name": "LayoutModel",
            "_view_count": null,
            "_view_module": "@jupyter-widgets/base",
            "_view_module_version": "1.2.0",
            "_view_name": "LayoutView",
            "align_content": null,
            "align_items": null,
            "align_self": null,
            "border": null,
            "bottom": null,
            "display": null,
            "flex": null,
            "flex_flow": null,
            "grid_area": null,
            "grid_auto_columns": null,
            "grid_auto_flow": null,
            "grid_auto_rows": null,
            "grid_column": null,
            "grid_gap": null,
            "grid_row": null,
            "grid_template_areas": null,
            "grid_template_columns": null,
            "grid_template_rows": null,
            "height": null,
            "justify_content": null,
            "justify_items": null,
            "left": null,
            "margin": null,
            "max_height": null,
            "max_width": null,
            "min_height": null,
            "min_width": null,
            "object_fit": null,
            "object_position": null,
            "order": null,
            "overflow": null,
            "overflow_x": null,
            "overflow_y": null,
            "padding": null,
            "right": null,
            "top": null,
            "visibility": null,
            "width": null
          }
        },
        "9b0a4e8bf0c0421088428c397223208b": {
          "model_module": "@jupyter-widgets/base",
          "model_module_version": "1.2.0",
          "model_name": "LayoutModel",
          "state": {
            "_model_module": "@jupyter-widgets/base",
            "_model_module_version": "1.2.0",
            "_model_name": "LayoutModel",
            "_view_count": null,
            "_view_module": "@jupyter-widgets/base",
            "_view_module_version": "1.2.0",
            "_view_name": "LayoutView",
            "align_content": null,
            "align_items": null,
            "align_self": null,
            "border": null,
            "bottom": null,
            "display": null,
            "flex": null,
            "flex_flow": null,
            "grid_area": null,
            "grid_auto_columns": null,
            "grid_auto_flow": null,
            "grid_auto_rows": null,
            "grid_column": null,
            "grid_gap": null,
            "grid_row": null,
            "grid_template_areas": null,
            "grid_template_columns": null,
            "grid_template_rows": null,
            "height": null,
            "justify_content": null,
            "justify_items": null,
            "left": null,
            "margin": null,
            "max_height": null,
            "max_width": null,
            "min_height": null,
            "min_width": null,
            "object_fit": null,
            "object_position": null,
            "order": null,
            "overflow": null,
            "overflow_x": null,
            "overflow_y": null,
            "padding": null,
            "right": null,
            "top": null,
            "visibility": null,
            "width": null
          }
        },
        "a14d3b92ff374d9190f7625670f8e14d": {
          "model_module": "@jupyter-widgets/controls",
          "model_module_version": "1.5.0",
          "model_name": "HBoxModel",
          "state": {
            "_dom_classes": [],
            "_model_module": "@jupyter-widgets/controls",
            "_model_module_version": "1.5.0",
            "_model_name": "HBoxModel",
            "_view_count": null,
            "_view_module": "@jupyter-widgets/controls",
            "_view_module_version": "1.5.0",
            "_view_name": "HBoxView",
            "box_style": "",
            "children": [
              "IPY_MODEL_26cf9423853e4431a4216ca82b00600e",
              "IPY_MODEL_e202edbec7dd46928f7bf820776e0934",
              "IPY_MODEL_2dc9ed4bb97e411d918a5e48265ebc83"
            ],
            "layout": "IPY_MODEL_bb9b24f456c6405ab2f5fc57c537e257"
          }
        },
        "a277bcef17d14a4a9af55d9eae7d082c": {
          "model_module": "@jupyter-widgets/base",
          "model_module_version": "1.2.0",
          "model_name": "LayoutModel",
          "state": {
            "_model_module": "@jupyter-widgets/base",
            "_model_module_version": "1.2.0",
            "_model_name": "LayoutModel",
            "_view_count": null,
            "_view_module": "@jupyter-widgets/base",
            "_view_module_version": "1.2.0",
            "_view_name": "LayoutView",
            "align_content": null,
            "align_items": null,
            "align_self": null,
            "border": null,
            "bottom": null,
            "display": null,
            "flex": null,
            "flex_flow": null,
            "grid_area": null,
            "grid_auto_columns": null,
            "grid_auto_flow": null,
            "grid_auto_rows": null,
            "grid_column": null,
            "grid_gap": null,
            "grid_row": null,
            "grid_template_areas": null,
            "grid_template_columns": null,
            "grid_template_rows": null,
            "height": null,
            "justify_content": null,
            "justify_items": null,
            "left": null,
            "margin": null,
            "max_height": null,
            "max_width": null,
            "min_height": null,
            "min_width": null,
            "object_fit": null,
            "object_position": null,
            "order": null,
            "overflow": null,
            "overflow_x": null,
            "overflow_y": null,
            "padding": null,
            "right": null,
            "top": null,
            "visibility": null,
            "width": null
          }
        },
        "a34a7494ffc64c9aba5a96445e2b1366": {
          "model_module": "@jupyter-widgets/base",
          "model_module_version": "1.2.0",
          "model_name": "LayoutModel",
          "state": {
            "_model_module": "@jupyter-widgets/base",
            "_model_module_version": "1.2.0",
            "_model_name": "LayoutModel",
            "_view_count": null,
            "_view_module": "@jupyter-widgets/base",
            "_view_module_version": "1.2.0",
            "_view_name": "LayoutView",
            "align_content": null,
            "align_items": null,
            "align_self": null,
            "border": null,
            "bottom": null,
            "display": null,
            "flex": null,
            "flex_flow": null,
            "grid_area": null,
            "grid_auto_columns": null,
            "grid_auto_flow": null,
            "grid_auto_rows": null,
            "grid_column": null,
            "grid_gap": null,
            "grid_row": null,
            "grid_template_areas": null,
            "grid_template_columns": null,
            "grid_template_rows": null,
            "height": null,
            "justify_content": null,
            "justify_items": null,
            "left": null,
            "margin": null,
            "max_height": null,
            "max_width": null,
            "min_height": null,
            "min_width": null,
            "object_fit": null,
            "object_position": null,
            "order": null,
            "overflow": null,
            "overflow_x": null,
            "overflow_y": null,
            "padding": null,
            "right": null,
            "top": null,
            "visibility": null,
            "width": "20px"
          }
        },
        "a415e9dc5c3b44219239789295dd05d5": {
          "model_module": "@jupyter-widgets/base",
          "model_module_version": "1.2.0",
          "model_name": "LayoutModel",
          "state": {
            "_model_module": "@jupyter-widgets/base",
            "_model_module_version": "1.2.0",
            "_model_name": "LayoutModel",
            "_view_count": null,
            "_view_module": "@jupyter-widgets/base",
            "_view_module_version": "1.2.0",
            "_view_name": "LayoutView",
            "align_content": null,
            "align_items": null,
            "align_self": null,
            "border": null,
            "bottom": null,
            "display": null,
            "flex": null,
            "flex_flow": null,
            "grid_area": null,
            "grid_auto_columns": null,
            "grid_auto_flow": null,
            "grid_auto_rows": null,
            "grid_column": null,
            "grid_gap": null,
            "grid_row": null,
            "grid_template_areas": null,
            "grid_template_columns": null,
            "grid_template_rows": null,
            "height": null,
            "justify_content": null,
            "justify_items": null,
            "left": null,
            "margin": null,
            "max_height": null,
            "max_width": null,
            "min_height": null,
            "min_width": null,
            "object_fit": null,
            "object_position": null,
            "order": null,
            "overflow": null,
            "overflow_x": null,
            "overflow_y": null,
            "padding": null,
            "right": null,
            "top": null,
            "visibility": null,
            "width": null
          }
        },
        "aac5a489f50f4caab5a3e815c0bf8798": {
          "model_module": "@jupyter-widgets/base",
          "model_module_version": "1.2.0",
          "model_name": "LayoutModel",
          "state": {
            "_model_module": "@jupyter-widgets/base",
            "_model_module_version": "1.2.0",
            "_model_name": "LayoutModel",
            "_view_count": null,
            "_view_module": "@jupyter-widgets/base",
            "_view_module_version": "1.2.0",
            "_view_name": "LayoutView",
            "align_content": null,
            "align_items": null,
            "align_self": null,
            "border": null,
            "bottom": null,
            "display": null,
            "flex": null,
            "flex_flow": null,
            "grid_area": null,
            "grid_auto_columns": null,
            "grid_auto_flow": null,
            "grid_auto_rows": null,
            "grid_column": null,
            "grid_gap": null,
            "grid_row": null,
            "grid_template_areas": null,
            "grid_template_columns": null,
            "grid_template_rows": null,
            "height": null,
            "justify_content": null,
            "justify_items": null,
            "left": null,
            "margin": null,
            "max_height": null,
            "max_width": null,
            "min_height": null,
            "min_width": null,
            "object_fit": null,
            "object_position": null,
            "order": null,
            "overflow": null,
            "overflow_x": null,
            "overflow_y": null,
            "padding": null,
            "right": null,
            "top": null,
            "visibility": null,
            "width": null
          }
        },
        "b18c8da63f554d57b437672c0cfab6e4": {
          "model_module": "@jupyter-widgets/controls",
          "model_module_version": "1.5.0",
          "model_name": "DescriptionStyleModel",
          "state": {
            "_model_module": "@jupyter-widgets/controls",
            "_model_module_version": "1.5.0",
            "_model_name": "DescriptionStyleModel",
            "_view_count": null,
            "_view_module": "@jupyter-widgets/base",
            "_view_module_version": "1.2.0",
            "_view_name": "StyleView",
            "description_width": ""
          }
        },
        "ba7aee7b47594e848c7d2d96408643de": {
          "model_module": "@jupyter-widgets/controls",
          "model_module_version": "1.5.0",
          "model_name": "HTMLModel",
          "state": {
            "_dom_classes": [],
            "_model_module": "@jupyter-widgets/controls",
            "_model_module_version": "1.5.0",
            "_model_name": "HTMLModel",
            "_view_count": null,
            "_view_module": "@jupyter-widgets/controls",
            "_view_module_version": "1.5.0",
            "_view_name": "HTMLView",
            "description": "",
            "description_tooltip": null,
            "layout": "IPY_MODEL_9738763736c6469f9cae88feea35b178",
            "placeholder": "​",
            "style": "IPY_MODEL_fc60e33a4f384e538741152637f78398",
            "value": "100%"
          }
        },
        "bb9b24f456c6405ab2f5fc57c537e257": {
          "model_module": "@jupyter-widgets/base",
          "model_module_version": "1.2.0",
          "model_name": "LayoutModel",
          "state": {
            "_model_module": "@jupyter-widgets/base",
            "_model_module_version": "1.2.0",
            "_model_name": "LayoutModel",
            "_view_count": null,
            "_view_module": "@jupyter-widgets/base",
            "_view_module_version": "1.2.0",
            "_view_name": "LayoutView",
            "align_content": null,
            "align_items": null,
            "align_self": null,
            "border": null,
            "bottom": null,
            "display": null,
            "flex": null,
            "flex_flow": null,
            "grid_area": null,
            "grid_auto_columns": null,
            "grid_auto_flow": null,
            "grid_auto_rows": null,
            "grid_column": null,
            "grid_gap": null,
            "grid_row": null,
            "grid_template_areas": null,
            "grid_template_columns": null,
            "grid_template_rows": null,
            "height": null,
            "justify_content": null,
            "justify_items": null,
            "left": null,
            "margin": null,
            "max_height": null,
            "max_width": null,
            "min_height": null,
            "min_width": null,
            "object_fit": null,
            "object_position": null,
            "order": null,
            "overflow": null,
            "overflow_x": null,
            "overflow_y": null,
            "padding": null,
            "right": null,
            "top": null,
            "visibility": null,
            "width": null
          }
        },
        "bc5824c91a0d4ba0b1aabb2fe95550f1": {
          "model_module": "@jupyter-widgets/controls",
          "model_module_version": "1.5.0",
          "model_name": "ProgressStyleModel",
          "state": {
            "_model_module": "@jupyter-widgets/controls",
            "_model_module_version": "1.5.0",
            "_model_name": "ProgressStyleModel",
            "_view_count": null,
            "_view_module": "@jupyter-widgets/base",
            "_view_module_version": "1.2.0",
            "_view_name": "StyleView",
            "bar_color": null,
            "description_width": ""
          }
        },
        "c00d150fc865411881737414b9115cb0": {
          "model_module": "@jupyter-widgets/controls",
          "model_module_version": "1.5.0",
          "model_name": "FloatProgressModel",
          "state": {
            "_dom_classes": [],
            "_model_module": "@jupyter-widgets/controls",
            "_model_module_version": "1.5.0",
            "_model_name": "FloatProgressModel",
            "_view_count": null,
            "_view_module": "@jupyter-widgets/controls",
            "_view_module_version": "1.5.0",
            "_view_name": "ProgressView",
            "bar_style": "success",
            "description": "",
            "description_tooltip": null,
            "layout": "IPY_MODEL_4c60b9c1c2e5416f88d33d9424f7aac9",
            "max": 1,
            "min": 0,
            "orientation": "horizontal",
            "style": "IPY_MODEL_755ac92faa1e46febd6a38787c2d42fc",
            "value": 1
          }
        },
        "c033a9d3334c4277a9668c416584528e": {
          "model_module": "@jupyter-widgets/base",
          "model_module_version": "1.2.0",
          "model_name": "LayoutModel",
          "state": {
            "_model_module": "@jupyter-widgets/base",
            "_model_module_version": "1.2.0",
            "_model_name": "LayoutModel",
            "_view_count": null,
            "_view_module": "@jupyter-widgets/base",
            "_view_module_version": "1.2.0",
            "_view_name": "LayoutView",
            "align_content": null,
            "align_items": null,
            "align_self": null,
            "border": null,
            "bottom": null,
            "display": null,
            "flex": null,
            "flex_flow": null,
            "grid_area": null,
            "grid_auto_columns": null,
            "grid_auto_flow": null,
            "grid_auto_rows": null,
            "grid_column": null,
            "grid_gap": null,
            "grid_row": null,
            "grid_template_areas": null,
            "grid_template_columns": null,
            "grid_template_rows": null,
            "height": null,
            "justify_content": null,
            "justify_items": null,
            "left": null,
            "margin": null,
            "max_height": null,
            "max_width": null,
            "min_height": null,
            "min_width": null,
            "object_fit": null,
            "object_position": null,
            "order": null,
            "overflow": null,
            "overflow_x": null,
            "overflow_y": null,
            "padding": null,
            "right": null,
            "top": null,
            "visibility": null,
            "width": null
          }
        },
        "c62a878e2928465184d5b72fdc444f1c": {
          "model_module": "@jupyter-widgets/controls",
          "model_module_version": "1.5.0",
          "model_name": "HTMLModel",
          "state": {
            "_dom_classes": [],
            "_model_module": "@jupyter-widgets/controls",
            "_model_module_version": "1.5.0",
            "_model_name": "HTMLModel",
            "_view_count": null,
            "_view_module": "@jupyter-widgets/controls",
            "_view_module_version": "1.5.0",
            "_view_name": "HTMLView",
            "description": "",
            "description_tooltip": null,
            "layout": "IPY_MODEL_9712ee33251f4767ae5665d87f65974b",
            "placeholder": "​",
            "style": "IPY_MODEL_7527086085154eafbdb4f44b59507042",
            "value": " 1/1 [06:51&lt;00:00, 411.99s/ file]"
          }
        },
        "c7aa0ecf0e434906bcb8cfb91c3ccfc3": {
          "model_module": "@jupyter-widgets/controls",
          "model_module_version": "1.5.0",
          "model_name": "DescriptionStyleModel",
          "state": {
            "_model_module": "@jupyter-widgets/controls",
            "_model_module_version": "1.5.0",
            "_model_name": "DescriptionStyleModel",
            "_view_count": null,
            "_view_module": "@jupyter-widgets/base",
            "_view_module_version": "1.2.0",
            "_view_name": "StyleView",
            "description_width": ""
          }
        },
        "cb1724562a3041b2a9d114416bc75c60": {
          "model_module": "@jupyter-widgets/controls",
          "model_module_version": "1.5.0",
          "model_name": "HBoxModel",
          "state": {
            "_dom_classes": [],
            "_model_module": "@jupyter-widgets/controls",
            "_model_module_version": "1.5.0",
            "_model_name": "HBoxModel",
            "_view_count": null,
            "_view_module": "@jupyter-widgets/controls",
            "_view_module_version": "1.5.0",
            "_view_name": "HBoxView",
            "box_style": "",
            "children": [
              "IPY_MODEL_45345fe9a6d44d199859ead2052c5410",
              "IPY_MODEL_c00d150fc865411881737414b9115cb0",
              "IPY_MODEL_c62a878e2928465184d5b72fdc444f1c"
            ],
            "layout": "IPY_MODEL_5c232f5265964d4cb673ac794c9e3588"
          }
        },
        "cb5e1107771145c8aa9bb3df6907fc05": {
          "model_module": "@jupyter-widgets/controls",
          "model_module_version": "1.5.0",
          "model_name": "HBoxModel",
          "state": {
            "_dom_classes": [],
            "_model_module": "@jupyter-widgets/controls",
            "_model_module_version": "1.5.0",
            "_model_name": "HBoxModel",
            "_view_count": null,
            "_view_module": "@jupyter-widgets/controls",
            "_view_module_version": "1.5.0",
            "_view_name": "HBoxView",
            "box_style": "",
            "children": [
              "IPY_MODEL_f516db31bc4741c499e56e92b10df484",
              "IPY_MODEL_2a616c615cc54172929e5064f0580805",
              "IPY_MODEL_5dd4321ac76f4dde9e19bc7fefddd6d0"
            ],
            "layout": "IPY_MODEL_cdd3927c46164294a23501109c77e20b"
          }
        },
        "cdd3927c46164294a23501109c77e20b": {
          "model_module": "@jupyter-widgets/base",
          "model_module_version": "1.2.0",
          "model_name": "LayoutModel",
          "state": {
            "_model_module": "@jupyter-widgets/base",
            "_model_module_version": "1.2.0",
            "_model_name": "LayoutModel",
            "_view_count": null,
            "_view_module": "@jupyter-widgets/base",
            "_view_module_version": "1.2.0",
            "_view_name": "LayoutView",
            "align_content": null,
            "align_items": null,
            "align_self": null,
            "border": null,
            "bottom": null,
            "display": null,
            "flex": null,
            "flex_flow": null,
            "grid_area": null,
            "grid_auto_columns": null,
            "grid_auto_flow": null,
            "grid_auto_rows": null,
            "grid_column": null,
            "grid_gap": null,
            "grid_row": null,
            "grid_template_areas": null,
            "grid_template_columns": null,
            "grid_template_rows": null,
            "height": null,
            "justify_content": null,
            "justify_items": null,
            "left": null,
            "margin": null,
            "max_height": null,
            "max_width": null,
            "min_height": null,
            "min_width": null,
            "object_fit": null,
            "object_position": null,
            "order": null,
            "overflow": null,
            "overflow_x": null,
            "overflow_y": null,
            "padding": null,
            "right": null,
            "top": null,
            "visibility": null,
            "width": null
          }
        },
        "d609916740cc42ad8363a19d609a79de": {
          "model_module": "@jupyter-widgets/controls",
          "model_module_version": "1.5.0",
          "model_name": "HTMLModel",
          "state": {
            "_dom_classes": [],
            "_model_module": "@jupyter-widgets/controls",
            "_model_module_version": "1.5.0",
            "_model_name": "HTMLModel",
            "_view_count": null,
            "_view_module": "@jupyter-widgets/controls",
            "_view_module_version": "1.5.0",
            "_view_name": "HTMLView",
            "description": "",
            "description_tooltip": null,
            "layout": "IPY_MODEL_9b0a4e8bf0c0421088428c397223208b",
            "placeholder": "​",
            "style": "IPY_MODEL_7e4016e96240429293aa51904b8414f3",
            "value": ""
          }
        },
        "d780b645d31a4365a18c30ba3a696d0e": {
          "model_module": "@jupyter-widgets/controls",
          "model_module_version": "1.5.0",
          "model_name": "DescriptionStyleModel",
          "state": {
            "_model_module": "@jupyter-widgets/controls",
            "_model_module_version": "1.5.0",
            "_model_name": "DescriptionStyleModel",
            "_view_count": null,
            "_view_module": "@jupyter-widgets/base",
            "_view_module_version": "1.2.0",
            "_view_name": "StyleView",
            "description_width": ""
          }
        },
        "ddb6158997c348bdaa9f15a906f2d3ae": {
          "model_module": "@jupyter-widgets/controls",
          "model_module_version": "1.5.0",
          "model_name": "HBoxModel",
          "state": {
            "_dom_classes": [],
            "_model_module": "@jupyter-widgets/controls",
            "_model_module_version": "1.5.0",
            "_model_name": "HBoxModel",
            "_view_count": null,
            "_view_module": "@jupyter-widgets/controls",
            "_view_module_version": "1.5.0",
            "_view_name": "HBoxView",
            "box_style": "",
            "children": [
              "IPY_MODEL_6246901e0cbc4c5eb2da7f1afffc7e25",
              "IPY_MODEL_77c30f870a694122bc5d86c779298fe8",
              "IPY_MODEL_440c7d77bfe343bcb7bf517266dfea06"
            ],
            "layout": "IPY_MODEL_aac5a489f50f4caab5a3e815c0bf8798"
          }
        },
        "de5ad87b97674115a328e58fdbdf5395": {
          "model_module": "@jupyter-widgets/controls",
          "model_module_version": "1.5.0",
          "model_name": "ProgressStyleModel",
          "state": {
            "_model_module": "@jupyter-widgets/controls",
            "_model_module_version": "1.5.0",
            "_model_name": "ProgressStyleModel",
            "_view_count": null,
            "_view_module": "@jupyter-widgets/base",
            "_view_module_version": "1.2.0",
            "_view_name": "StyleView",
            "bar_color": null,
            "description_width": ""
          }
        },
        "e202edbec7dd46928f7bf820776e0934": {
          "model_module": "@jupyter-widgets/controls",
          "model_module_version": "1.5.0",
          "model_name": "FloatProgressModel",
          "state": {
            "_dom_classes": [],
            "_model_module": "@jupyter-widgets/controls",
            "_model_module_version": "1.5.0",
            "_model_name": "FloatProgressModel",
            "_view_count": null,
            "_view_module": "@jupyter-widgets/controls",
            "_view_module_version": "1.5.0",
            "_view_name": "ProgressView",
            "bar_style": "success",
            "description": "",
            "description_tooltip": null,
            "layout": "IPY_MODEL_48fa9011aa72469aaa7793223d194954",
            "max": 1,
            "min": 0,
            "orientation": "horizontal",
            "style": "IPY_MODEL_bc5824c91a0d4ba0b1aabb2fe95550f1",
            "value": 1
          }
        },
        "e21335fd956d42668d42d060b4b493a2": {
          "model_module": "@jupyter-widgets/controls",
          "model_module_version": "1.5.0",
          "model_name": "DescriptionStyleModel",
          "state": {
            "_model_module": "@jupyter-widgets/controls",
            "_model_module_version": "1.5.0",
            "_model_name": "DescriptionStyleModel",
            "_view_count": null,
            "_view_module": "@jupyter-widgets/base",
            "_view_module_version": "1.2.0",
            "_view_name": "StyleView",
            "description_width": ""
          }
        },
        "e3c83100247b43aaa1ef722c6576fd6e": {
          "model_module": "@jupyter-widgets/base",
          "model_module_version": "1.2.0",
          "model_name": "LayoutModel",
          "state": {
            "_model_module": "@jupyter-widgets/base",
            "_model_module_version": "1.2.0",
            "_model_name": "LayoutModel",
            "_view_count": null,
            "_view_module": "@jupyter-widgets/base",
            "_view_module_version": "1.2.0",
            "_view_name": "LayoutView",
            "align_content": null,
            "align_items": null,
            "align_self": null,
            "border": null,
            "bottom": null,
            "display": null,
            "flex": null,
            "flex_flow": null,
            "grid_area": null,
            "grid_auto_columns": null,
            "grid_auto_flow": null,
            "grid_auto_rows": null,
            "grid_column": null,
            "grid_gap": null,
            "grid_row": null,
            "grid_template_areas": null,
            "grid_template_columns": null,
            "grid_template_rows": null,
            "height": null,
            "justify_content": null,
            "justify_items": null,
            "left": null,
            "margin": null,
            "max_height": null,
            "max_width": null,
            "min_height": null,
            "min_width": null,
            "object_fit": null,
            "object_position": null,
            "order": null,
            "overflow": null,
            "overflow_x": null,
            "overflow_y": null,
            "padding": null,
            "right": null,
            "top": null,
            "visibility": null,
            "width": null
          }
        },
        "ee26b224e5844c7ba053aee027d28d52": {
          "model_module": "@jupyter-widgets/controls",
          "model_module_version": "1.5.0",
          "model_name": "FloatProgressModel",
          "state": {
            "_dom_classes": [],
            "_model_module": "@jupyter-widgets/controls",
            "_model_module_version": "1.5.0",
            "_model_name": "FloatProgressModel",
            "_view_count": null,
            "_view_module": "@jupyter-widgets/controls",
            "_view_module_version": "1.5.0",
            "_view_name": "ProgressView",
            "bar_style": "danger",
            "description": "",
            "description_tooltip": null,
            "layout": "IPY_MODEL_3efbe92e541c426e8b6aeb8e7aaaac11",
            "max": 25250,
            "min": 0,
            "orientation": "horizontal",
            "style": "IPY_MODEL_92f39fda3379451fb8e89a6449917aff",
            "value": 25249
          }
        },
        "eef6e6658a09484db4fca14522484632": {
          "model_module": "@jupyter-widgets/controls",
          "model_module_version": "1.5.0",
          "model_name": "DescriptionStyleModel",
          "state": {
            "_model_module": "@jupyter-widgets/controls",
            "_model_module_version": "1.5.0",
            "_model_name": "DescriptionStyleModel",
            "_view_count": null,
            "_view_module": "@jupyter-widgets/base",
            "_view_module_version": "1.2.0",
            "_view_name": "StyleView",
            "description_width": ""
          }
        },
        "f2b507fd7afe4af0ba5150745f528ab3": {
          "model_module": "@jupyter-widgets/controls",
          "model_module_version": "1.5.0",
          "model_name": "HTMLModel",
          "state": {
            "_dom_classes": [],
            "_model_module": "@jupyter-widgets/controls",
            "_model_module_version": "1.5.0",
            "_model_name": "HTMLModel",
            "_view_count": null,
            "_view_module": "@jupyter-widgets/controls",
            "_view_module_version": "1.5.0",
            "_view_name": "HTMLView",
            "description": "",
            "description_tooltip": null,
            "layout": "IPY_MODEL_1bad93529f6f49f5916f7d1491acf021",
            "placeholder": "​",
            "style": "IPY_MODEL_d780b645d31a4365a18c30ba3a696d0e",
            "value": " 75714/0 [02:02&lt;00:00, 762.54 examples/s]"
          }
        },
        "f2e4d6df47404b8991894459c3c57e26": {
          "model_module": "@jupyter-widgets/controls",
          "model_module_version": "1.5.0",
          "model_name": "DescriptionStyleModel",
          "state": {
            "_model_module": "@jupyter-widgets/controls",
            "_model_module_version": "1.5.0",
            "_model_name": "DescriptionStyleModel",
            "_view_count": null,
            "_view_module": "@jupyter-widgets/base",
            "_view_module_version": "1.2.0",
            "_view_name": "StyleView",
            "description_width": ""
          }
        },
        "f3dd47f799444f5ba5b7df49e9098ccf": {
          "model_module": "@jupyter-widgets/base",
          "model_module_version": "1.2.0",
          "model_name": "LayoutModel",
          "state": {
            "_model_module": "@jupyter-widgets/base",
            "_model_module_version": "1.2.0",
            "_model_name": "LayoutModel",
            "_view_count": null,
            "_view_module": "@jupyter-widgets/base",
            "_view_module_version": "1.2.0",
            "_view_name": "LayoutView",
            "align_content": null,
            "align_items": null,
            "align_self": null,
            "border": null,
            "bottom": null,
            "display": null,
            "flex": null,
            "flex_flow": null,
            "grid_area": null,
            "grid_auto_columns": null,
            "grid_auto_flow": null,
            "grid_auto_rows": null,
            "grid_column": null,
            "grid_gap": null,
            "grid_row": null,
            "grid_template_areas": null,
            "grid_template_columns": null,
            "grid_template_rows": null,
            "height": null,
            "justify_content": null,
            "justify_items": null,
            "left": null,
            "margin": null,
            "max_height": null,
            "max_width": null,
            "min_height": null,
            "min_width": null,
            "object_fit": null,
            "object_position": null,
            "order": null,
            "overflow": null,
            "overflow_x": null,
            "overflow_y": null,
            "padding": null,
            "right": null,
            "top": null,
            "visibility": null,
            "width": null
          }
        },
        "f4da258ef65f4abdb1508ea0ebff5f90": {
          "model_module": "@jupyter-widgets/base",
          "model_module_version": "1.2.0",
          "model_name": "LayoutModel",
          "state": {
            "_model_module": "@jupyter-widgets/base",
            "_model_module_version": "1.2.0",
            "_model_name": "LayoutModel",
            "_view_count": null,
            "_view_module": "@jupyter-widgets/base",
            "_view_module_version": "1.2.0",
            "_view_name": "LayoutView",
            "align_content": null,
            "align_items": null,
            "align_self": null,
            "border": null,
            "bottom": null,
            "display": null,
            "flex": null,
            "flex_flow": null,
            "grid_area": null,
            "grid_auto_columns": null,
            "grid_auto_flow": null,
            "grid_auto_rows": null,
            "grid_column": null,
            "grid_gap": null,
            "grid_row": null,
            "grid_template_areas": null,
            "grid_template_columns": null,
            "grid_template_rows": null,
            "height": null,
            "justify_content": null,
            "justify_items": null,
            "left": null,
            "margin": null,
            "max_height": null,
            "max_width": null,
            "min_height": null,
            "min_width": null,
            "object_fit": null,
            "object_position": null,
            "order": null,
            "overflow": null,
            "overflow_x": null,
            "overflow_y": null,
            "padding": null,
            "right": null,
            "top": null,
            "visibility": null,
            "width": null
          }
        },
        "f516db31bc4741c499e56e92b10df484": {
          "model_module": "@jupyter-widgets/controls",
          "model_module_version": "1.5.0",
          "model_name": "HTMLModel",
          "state": {
            "_dom_classes": [],
            "_model_module": "@jupyter-widgets/controls",
            "_model_module_version": "1.5.0",
            "_model_name": "HTMLModel",
            "_view_count": null,
            "_view_module": "@jupyter-widgets/controls",
            "_view_module_version": "1.5.0",
            "_view_name": "HTMLView",
            "description": "",
            "description_tooltip": null,
            "layout": "IPY_MODEL_84dda27e6a7e402897fbf51844b3e50f",
            "placeholder": "​",
            "style": "IPY_MODEL_b18c8da63f554d57b437672c0cfab6e4",
            "value": "100%"
          }
        },
        "fb559ee1022f42de8bf9faa52f384ab8": {
          "model_module": "@jupyter-widgets/base",
          "model_module_version": "1.2.0",
          "model_name": "LayoutModel",
          "state": {
            "_model_module": "@jupyter-widgets/base",
            "_model_module_version": "1.2.0",
            "_model_name": "LayoutModel",
            "_view_count": null,
            "_view_module": "@jupyter-widgets/base",
            "_view_module_version": "1.2.0",
            "_view_name": "LayoutView",
            "align_content": null,
            "align_items": null,
            "align_self": null,
            "border": null,
            "bottom": null,
            "display": null,
            "flex": null,
            "flex_flow": null,
            "grid_area": null,
            "grid_auto_columns": null,
            "grid_auto_flow": null,
            "grid_auto_rows": null,
            "grid_column": null,
            "grid_gap": null,
            "grid_row": null,
            "grid_template_areas": null,
            "grid_template_columns": null,
            "grid_template_rows": null,
            "height": null,
            "justify_content": null,
            "justify_items": null,
            "left": null,
            "margin": null,
            "max_height": null,
            "max_width": null,
            "min_height": null,
            "min_width": null,
            "object_fit": null,
            "object_position": null,
            "order": null,
            "overflow": null,
            "overflow_x": null,
            "overflow_y": null,
            "padding": null,
            "right": null,
            "top": null,
            "visibility": null,
            "width": null
          }
        },
        "fc60e33a4f384e538741152637f78398": {
          "model_module": "@jupyter-widgets/controls",
          "model_module_version": "1.5.0",
          "model_name": "DescriptionStyleModel",
          "state": {
            "_model_module": "@jupyter-widgets/controls",
            "_model_module_version": "1.5.0",
            "_model_name": "DescriptionStyleModel",
            "_view_count": null,
            "_view_module": "@jupyter-widgets/base",
            "_view_module_version": "1.2.0",
            "_view_name": "StyleView",
            "description_width": ""
          }
        }
      }
    }
  },
  "nbformat": 4,
  "nbformat_minor": 0
}
